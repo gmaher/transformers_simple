{
 "cells": [
  {
   "cell_type": "code",
   "execution_count": 1,
   "metadata": {},
   "outputs": [],
   "source": [
    "import sys\n",
    "import os\n",
    "sys.path.append(os.path.abspath('..'))\n",
    "\n",
    "import matplotlib.pyplot as plt\n",
    "import torch\n",
    "from torch.utils.data import TensorDataset, DataLoader\n",
    "torch.set_default_device('cpu')\n",
    "\n",
    "import numpy as np\n",
    "\n",
    "from transformers_simple.fcn import FCN\n",
    "from transformers_simple.train import Trainer\n",
    "from transformers_simple.dataset import CharDataset\n",
    "from transformers_simple.char_util import generate_sample"
   ]
  },
  {
   "cell_type": "code",
   "execution_count": 2,
   "metadata": {},
   "outputs": [],
   "source": [
    "N = 4\n",
    "\n",
    "block_size  = 2\n",
    "embed_size  = 6\n",
    "hidden_size = 30\n",
    "num_layers = 3\n",
    "\n",
    "vocab_size  = 3\n",
    "input_size = block_size*embed_size\n",
    "output_size = vocab_size\n",
    "\n",
    "log_interval = 50\n",
    "epochs = 5\n",
    "learning_rate = 1e-4\n",
    "device = torch.device('cpu')"
   ]
  },
  {
   "cell_type": "code",
   "execution_count": 3,
   "metadata": {},
   "outputs": [],
   "source": [
    "# #block size 1\n",
    "# data = \"\".join([\"abca\"]*1000)"
   ]
  },
  {
   "cell_type": "code",
   "execution_count": 4,
   "metadata": {},
   "outputs": [],
   "source": [
    "# block size 2\n",
    "data = \"\".join([\"aabcacb\"]*1000)"
   ]
  },
  {
   "cell_type": "code",
   "execution_count": 5,
   "metadata": {},
   "outputs": [
    {
     "data": {
      "text/plain": [
       "(tensor([0, 0]), tensor([0, 1]))"
      ]
     },
     "execution_count": 5,
     "metadata": {},
     "output_type": "execute_result"
    }
   ],
   "source": [
    "dataset = CharDataset(data=data, block_size=block_size)\n",
    "dataset[0]"
   ]
  },
  {
   "cell_type": "code",
   "execution_count": 6,
   "metadata": {},
   "outputs": [],
   "source": [
    "class AdapterNet(torch.nn.Module):\n",
    "    def __init__(self, net):\n",
    "        super(AdapterNet,self).__init__()\n",
    "        self.net = net\n",
    "        self.embedding = torch.nn.Embedding(num_embeddings=vocab_size, embedding_dim=embed_size)\n",
    "        \n",
    "    def forward(self, x):\n",
    "        nb, l = x.size()\n",
    "\n",
    "        o = self.embedding(x)\n",
    "        o = o.view(nb,-1)\n",
    "        o = self.net(o)\n",
    "\n",
    "        return o\n",
    "    \n",
    "net = FCN(input_size=input_size, output_size=output_size, \n",
    "          hidden_size=hidden_size, num_layers=num_layers)\n",
    "\n",
    "model = AdapterNet(net)"
   ]
  },
  {
   "cell_type": "code",
   "execution_count": 7,
   "metadata": {},
   "outputs": [],
   "source": [
    "x = dataset[0][0].view(1,-1)"
   ]
  },
  {
   "cell_type": "code",
   "execution_count": 8,
   "metadata": {},
   "outputs": [
    {
     "data": {
      "text/plain": [
       "torch.Size([1, 3])"
      ]
     },
     "execution_count": 8,
     "metadata": {},
     "output_type": "execute_result"
    }
   ],
   "source": [
    "o = model(x)\n",
    "o.size()"
   ]
  },
  {
   "cell_type": "code",
   "execution_count": 9,
   "metadata": {},
   "outputs": [],
   "source": [
    "loss = torch.nn.CrossEntropyLoss()\n",
    "\n",
    "def loss_fn(o,y):\n",
    "    return loss(o,y[:,-1])"
   ]
  },
  {
   "cell_type": "code",
   "execution_count": 10,
   "metadata": {},
   "outputs": [],
   "source": [
    "trainer = Trainer(model=model, \n",
    "                  dataset=dataset, \n",
    "                  loss_fn=loss_fn, \n",
    "                  batch_size=N, \n",
    "                  learning_rate=learning_rate,\n",
    "                  epochs=epochs, \n",
    "                  log_interval=log_interval, \n",
    "                  device=device)"
   ]
  },
  {
   "cell_type": "code",
   "execution_count": 11,
   "metadata": {},
   "outputs": [
    {
     "name": "stdout",
     "output_type": "stream",
     "text": [
      "Train Epoch: 0 [0/6998 (0%)]\tLoss: 1.098532\n",
      "Train Epoch: 0 [200/6998 (3%)]\tLoss: 1.125571\n",
      "Train Epoch: 0 [400/6998 (6%)]\tLoss: 1.073345\n",
      "Train Epoch: 0 [600/6998 (9%)]\tLoss: 1.068893\n",
      "Train Epoch: 0 [800/6998 (11%)]\tLoss: 1.044179\n",
      "Train Epoch: 0 [1000/6998 (14%)]\tLoss: 0.938323\n",
      "Train Epoch: 0 [1200/6998 (17%)]\tLoss: 1.002587\n",
      "Train Epoch: 0 [1400/6998 (20%)]\tLoss: 0.809340\n",
      "Train Epoch: 0 [1600/6998 (23%)]\tLoss: 0.819789\n",
      "Train Epoch: 0 [1800/6998 (26%)]\tLoss: 0.665459\n",
      "Train Epoch: 0 [2000/6998 (29%)]\tLoss: 0.649801\n",
      "Train Epoch: 0 [2200/6998 (31%)]\tLoss: 0.373883\n",
      "Train Epoch: 0 [2400/6998 (34%)]\tLoss: 0.311806\n",
      "Train Epoch: 0 [2600/6998 (37%)]\tLoss: 0.426103\n",
      "Train Epoch: 0 [2800/6998 (40%)]\tLoss: 0.170114\n",
      "Train Epoch: 0 [3000/6998 (43%)]\tLoss: 0.279670\n",
      "Train Epoch: 0 [3200/6998 (46%)]\tLoss: 0.243322\n",
      "Train Epoch: 0 [3400/6998 (49%)]\tLoss: 0.138028\n",
      "Train Epoch: 0 [3600/6998 (51%)]\tLoss: 0.048120\n",
      "Train Epoch: 0 [3800/6998 (54%)]\tLoss: 0.090608\n",
      "Train Epoch: 0 [4000/6998 (57%)]\tLoss: 0.086562\n",
      "Train Epoch: 0 [4200/6998 (60%)]\tLoss: 0.097489\n",
      "Train Epoch: 0 [4400/6998 (63%)]\tLoss: 0.058716\n",
      "Train Epoch: 0 [4600/6998 (66%)]\tLoss: 0.036591\n",
      "Train Epoch: 0 [4800/6998 (69%)]\tLoss: 0.019631\n",
      "Train Epoch: 0 [5000/6998 (71%)]\tLoss: 0.033457\n",
      "Train Epoch: 0 [5200/6998 (74%)]\tLoss: 0.028417\n",
      "Train Epoch: 0 [5400/6998 (77%)]\tLoss: 0.012637\n",
      "Train Epoch: 0 [5600/6998 (80%)]\tLoss: 0.009567\n",
      "Train Epoch: 0 [5800/6998 (83%)]\tLoss: 0.006560\n",
      "Train Epoch: 0 [6000/6998 (86%)]\tLoss: 0.007172\n",
      "Train Epoch: 0 [6200/6998 (89%)]\tLoss: 0.006819\n",
      "Train Epoch: 0 [6400/6998 (91%)]\tLoss: 0.005314\n",
      "Train Epoch: 0 [6600/6998 (94%)]\tLoss: 0.004329\n",
      "Train Epoch: 0 [6800/6998 (97%)]\tLoss: 0.004214\n",
      "Train Epoch: 1 [0/6998 (0%)]\tLoss: 0.007706\n",
      "Train Epoch: 1 [200/6998 (3%)]\tLoss: 0.003004\n",
      "Train Epoch: 1 [400/6998 (6%)]\tLoss: 0.003297\n",
      "Train Epoch: 1 [600/6998 (9%)]\tLoss: 0.004637\n",
      "Train Epoch: 1 [800/6998 (11%)]\tLoss: 0.003492\n",
      "Train Epoch: 1 [1000/6998 (14%)]\tLoss: 0.003104\n",
      "Train Epoch: 1 [1200/6998 (17%)]\tLoss: 0.002616\n",
      "Train Epoch: 1 [1400/6998 (20%)]\tLoss: 0.002986\n",
      "Train Epoch: 1 [1600/6998 (23%)]\tLoss: 0.002528\n",
      "Train Epoch: 1 [1800/6998 (26%)]\tLoss: 0.000537\n",
      "Train Epoch: 1 [2000/6998 (29%)]\tLoss: 0.002763\n",
      "Train Epoch: 1 [2200/6998 (31%)]\tLoss: 0.002386\n",
      "Train Epoch: 1 [2400/6998 (34%)]\tLoss: 0.000752\n",
      "Train Epoch: 1 [2600/6998 (37%)]\tLoss: 0.001999\n",
      "Train Epoch: 1 [2800/6998 (40%)]\tLoss: 0.002008\n",
      "Train Epoch: 1 [3000/6998 (43%)]\tLoss: 0.000417\n",
      "Train Epoch: 1 [3200/6998 (46%)]\tLoss: 0.000709\n",
      "Train Epoch: 1 [3400/6998 (49%)]\tLoss: 0.000988\n",
      "Train Epoch: 1 [3600/6998 (51%)]\tLoss: 0.000921\n",
      "Train Epoch: 1 [3800/6998 (54%)]\tLoss: 0.001249\n",
      "Train Epoch: 1 [4000/6998 (57%)]\tLoss: 0.000330\n",
      "Train Epoch: 1 [4200/6998 (60%)]\tLoss: 0.000723\n",
      "Train Epoch: 1 [4400/6998 (63%)]\tLoss: 0.001181\n",
      "Train Epoch: 1 [4600/6998 (66%)]\tLoss: 0.000963\n",
      "Train Epoch: 1 [4800/6998 (69%)]\tLoss: 0.000654\n",
      "Train Epoch: 1 [5000/6998 (71%)]\tLoss: 0.000390\n",
      "Train Epoch: 1 [5200/6998 (74%)]\tLoss: 0.000438\n",
      "Train Epoch: 1 [5400/6998 (77%)]\tLoss: 0.000430\n",
      "Train Epoch: 1 [5600/6998 (80%)]\tLoss: 0.000610\n",
      "Train Epoch: 1 [5800/6998 (83%)]\tLoss: 0.000370\n",
      "Train Epoch: 1 [6000/6998 (86%)]\tLoss: 0.000236\n",
      "Train Epoch: 1 [6200/6998 (89%)]\tLoss: 0.000585\n",
      "Train Epoch: 1 [6400/6998 (91%)]\tLoss: 0.000593\n",
      "Train Epoch: 1 [6600/6998 (94%)]\tLoss: 0.000632\n",
      "Train Epoch: 1 [6800/6998 (97%)]\tLoss: 0.000235\n",
      "Train Epoch: 2 [0/6998 (0%)]\tLoss: 0.000341\n",
      "Train Epoch: 2 [200/6998 (3%)]\tLoss: 0.000430\n",
      "Train Epoch: 2 [400/6998 (6%)]\tLoss: 0.000367\n",
      "Train Epoch: 2 [600/6998 (9%)]\tLoss: 0.000227\n",
      "Train Epoch: 2 [800/6998 (11%)]\tLoss: 0.000293\n",
      "Train Epoch: 2 [1000/6998 (14%)]\tLoss: 0.000270\n",
      "Train Epoch: 2 [1200/6998 (17%)]\tLoss: 0.000156\n",
      "Train Epoch: 2 [1400/6998 (20%)]\tLoss: 0.000178\n",
      "Train Epoch: 2 [1600/6998 (23%)]\tLoss: 0.000293\n",
      "Train Epoch: 2 [1800/6998 (26%)]\tLoss: 0.000279\n",
      "Train Epoch: 2 [2000/6998 (29%)]\tLoss: 0.000182\n",
      "Train Epoch: 2 [2200/6998 (31%)]\tLoss: 0.000282\n",
      "Train Epoch: 2 [2400/6998 (34%)]\tLoss: 0.000220\n",
      "Train Epoch: 2 [2600/6998 (37%)]\tLoss: 0.000137\n",
      "Train Epoch: 2 [2800/6998 (40%)]\tLoss: 0.000196\n",
      "Train Epoch: 2 [3000/6998 (43%)]\tLoss: 0.000274\n",
      "Train Epoch: 2 [3200/6998 (46%)]\tLoss: 0.000214\n",
      "Train Epoch: 2 [3400/6998 (49%)]\tLoss: 0.000183\n",
      "Train Epoch: 2 [3600/6998 (51%)]\tLoss: 0.000197\n",
      "Train Epoch: 2 [3800/6998 (54%)]\tLoss: 0.000193\n",
      "Train Epoch: 2 [4000/6998 (57%)]\tLoss: 0.000181\n",
      "Train Epoch: 2 [4200/6998 (60%)]\tLoss: 0.000134\n",
      "Train Epoch: 2 [4400/6998 (63%)]\tLoss: 0.000141\n",
      "Train Epoch: 2 [4600/6998 (66%)]\tLoss: 0.000110\n",
      "Train Epoch: 2 [4800/6998 (69%)]\tLoss: 0.000034\n",
      "Train Epoch: 2 [5000/6998 (71%)]\tLoss: 0.000159\n",
      "Train Epoch: 2 [5200/6998 (74%)]\tLoss: 0.000145\n",
      "Train Epoch: 2 [5400/6998 (77%)]\tLoss: 0.000107\n",
      "Train Epoch: 2 [5600/6998 (80%)]\tLoss: 0.000152\n",
      "Train Epoch: 2 [5800/6998 (83%)]\tLoss: 0.000160\n",
      "Train Epoch: 2 [6000/6998 (86%)]\tLoss: 0.000091\n",
      "Train Epoch: 2 [6200/6998 (89%)]\tLoss: 0.000027\n",
      "Train Epoch: 2 [6400/6998 (91%)]\tLoss: 0.000043\n",
      "Train Epoch: 2 [6600/6998 (94%)]\tLoss: 0.000083\n",
      "Train Epoch: 2 [6800/6998 (97%)]\tLoss: 0.000089\n",
      "Train Epoch: 3 [0/6998 (0%)]\tLoss: 0.000117\n",
      "Train Epoch: 3 [200/6998 (3%)]\tLoss: 0.000128\n",
      "Train Epoch: 3 [400/6998 (6%)]\tLoss: 0.000090\n",
      "Train Epoch: 3 [600/6998 (9%)]\tLoss: 0.000030\n",
      "Train Epoch: 3 [800/6998 (11%)]\tLoss: 0.000091\n",
      "Train Epoch: 3 [1000/6998 (14%)]\tLoss: 0.000058\n",
      "Train Epoch: 3 [1200/6998 (17%)]\tLoss: 0.000083\n",
      "Train Epoch: 3 [1400/6998 (20%)]\tLoss: 0.000082\n",
      "Train Epoch: 3 [1600/6998 (23%)]\tLoss: 0.000076\n",
      "Train Epoch: 3 [1800/6998 (26%)]\tLoss: 0.000037\n",
      "Train Epoch: 3 [2000/6998 (29%)]\tLoss: 0.000060\n",
      "Train Epoch: 3 [2200/6998 (31%)]\tLoss: 0.000055\n",
      "Train Epoch: 3 [2400/6998 (34%)]\tLoss: 0.000032\n",
      "Train Epoch: 3 [2600/6998 (37%)]\tLoss: 0.000050\n",
      "Train Epoch: 3 [2800/6998 (40%)]\tLoss: 0.000055\n",
      "Train Epoch: 3 [3000/6998 (43%)]\tLoss: 0.000054\n",
      "Train Epoch: 3 [3200/6998 (46%)]\tLoss: 0.000030\n",
      "Train Epoch: 3 [3400/6998 (49%)]\tLoss: 0.000041\n",
      "Train Epoch: 3 [3600/6998 (51%)]\tLoss: 0.000032\n",
      "Train Epoch: 3 [3800/6998 (54%)]\tLoss: 0.000031\n",
      "Train Epoch: 3 [4000/6998 (57%)]\tLoss: 0.000051\n",
      "Train Epoch: 3 [4200/6998 (60%)]\tLoss: 0.000024\n",
      "Train Epoch: 3 [4400/6998 (63%)]\tLoss: 0.000021\n",
      "Train Epoch: 3 [4600/6998 (66%)]\tLoss: 0.000041\n",
      "Train Epoch: 3 [4800/6998 (69%)]\tLoss: 0.000023\n",
      "Train Epoch: 3 [5000/6998 (71%)]\tLoss: 0.000027\n",
      "Train Epoch: 3 [5200/6998 (74%)]\tLoss: 0.000021\n",
      "Train Epoch: 3 [5400/6998 (77%)]\tLoss: 0.000032\n",
      "Train Epoch: 3 [5600/6998 (80%)]\tLoss: 0.000029\n",
      "Train Epoch: 3 [5800/6998 (83%)]\tLoss: 0.000047\n",
      "Train Epoch: 3 [6000/6998 (86%)]\tLoss: 0.000029\n",
      "Train Epoch: 3 [6200/6998 (89%)]\tLoss: 0.000031\n",
      "Train Epoch: 3 [6400/6998 (91%)]\tLoss: 0.000035\n",
      "Train Epoch: 3 [6600/6998 (94%)]\tLoss: 0.000026\n",
      "Train Epoch: 3 [6800/6998 (97%)]\tLoss: 0.000032\n",
      "Train Epoch: 4 [0/6998 (0%)]\tLoss: 0.000015\n",
      "Train Epoch: 4 [200/6998 (3%)]\tLoss: 0.000033\n",
      "Train Epoch: 4 [400/6998 (6%)]\tLoss: 0.000021\n",
      "Train Epoch: 4 [600/6998 (9%)]\tLoss: 0.000020\n",
      "Train Epoch: 4 [800/6998 (11%)]\tLoss: 0.000030\n",
      "Train Epoch: 4 [1000/6998 (14%)]\tLoss: 0.000019\n",
      "Train Epoch: 4 [1200/6998 (17%)]\tLoss: 0.000017\n",
      "Train Epoch: 4 [1400/6998 (20%)]\tLoss: 0.000020\n",
      "Train Epoch: 4 [1600/6998 (23%)]\tLoss: 0.000025\n",
      "Train Epoch: 4 [1800/6998 (26%)]\tLoss: 0.000023\n",
      "Train Epoch: 4 [2000/6998 (29%)]\tLoss: 0.000014\n",
      "Train Epoch: 4 [2200/6998 (31%)]\tLoss: 0.000016\n",
      "Train Epoch: 4 [2400/6998 (34%)]\tLoss: 0.000018\n",
      "Train Epoch: 4 [2600/6998 (37%)]\tLoss: 0.000018\n",
      "Train Epoch: 4 [2800/6998 (40%)]\tLoss: 0.000015\n",
      "Train Epoch: 4 [3000/6998 (43%)]\tLoss: 0.000012\n",
      "Train Epoch: 4 [3200/6998 (46%)]\tLoss: 0.000020\n",
      "Train Epoch: 4 [3400/6998 (49%)]\tLoss: 0.000013\n",
      "Train Epoch: 4 [3600/6998 (51%)]\tLoss: 0.000006\n",
      "Train Epoch: 4 [3800/6998 (54%)]\tLoss: 0.000016\n",
      "Train Epoch: 4 [4000/6998 (57%)]\tLoss: 0.000016\n",
      "Train Epoch: 4 [4200/6998 (60%)]\tLoss: 0.000014\n",
      "Train Epoch: 4 [4400/6998 (63%)]\tLoss: 0.000013\n",
      "Train Epoch: 4 [4600/6998 (66%)]\tLoss: 0.000014\n",
      "Train Epoch: 4 [4800/6998 (69%)]\tLoss: 0.000020\n",
      "Train Epoch: 4 [5000/6998 (71%)]\tLoss: 0.000018\n",
      "Train Epoch: 4 [5200/6998 (74%)]\tLoss: 0.000013\n",
      "Train Epoch: 4 [5400/6998 (77%)]\tLoss: 0.000012\n",
      "Train Epoch: 4 [5600/6998 (80%)]\tLoss: 0.000015\n",
      "Train Epoch: 4 [5800/6998 (83%)]\tLoss: 0.000006\n",
      "Train Epoch: 4 [6000/6998 (86%)]\tLoss: 0.000008\n",
      "Train Epoch: 4 [6200/6998 (89%)]\tLoss: 0.000010\n"
     ]
    },
    {
     "name": "stdout",
     "output_type": "stream",
     "text": [
      "Train Epoch: 4 [6400/6998 (91%)]\tLoss: 0.000007\n",
      "Train Epoch: 4 [6600/6998 (94%)]\tLoss: 0.000008\n",
      "Train Epoch: 4 [6800/6998 (97%)]\tLoss: 0.000009\n"
     ]
    }
   ],
   "source": [
    "trainer.run()"
   ]
  },
  {
   "cell_type": "code",
   "execution_count": 12,
   "metadata": {},
   "outputs": [],
   "source": [
    "x = dataset[0][0].view(1,-1)\n",
    "\n",
    "o = model(x)"
   ]
  },
  {
   "cell_type": "code",
   "execution_count": 13,
   "metadata": {},
   "outputs": [
    {
     "data": {
      "text/plain": [
       "tensor([[1.9568e-06, 9.9999e-01, 5.5133e-06]], grad_fn=<SoftmaxBackward0>)"
      ]
     },
     "execution_count": 13,
     "metadata": {},
     "output_type": "execute_result"
    }
   ],
   "source": [
    "torch.nn.functional.softmax(o, dim=1)"
   ]
  },
  {
   "cell_type": "code",
   "execution_count": 14,
   "metadata": {},
   "outputs": [
    {
     "data": {
      "image/png": "[encoded data removed]",
      "text/plain": [
       "<Figure size 1200x300 with 1 Axes>"
      ]
     },
     "metadata": {},
     "output_type": "display_data"
    }
   ],
   "source": [
    "loss_history = trainer.loss_history\n",
    "\n",
    "plt.figure(figsize=(12,3))\n",
    "plt.plot(loss_history)\n",
    "plt.show()"
   ]
  },
  {
   "cell_type": "code",
   "execution_count": 15,
   "metadata": {},
   "outputs": [],
   "source": [
    "x = [0,1]\n",
    "T = 20\n",
    "\n",
    "o = generate_sample(x, model, length=T)"
   ]
  },
  {
   "cell_type": "code",
   "execution_count": 16,
   "metadata": {},
   "outputs": [
    {
     "data": {
      "text/plain": [
       "[2, 0, 2, 1, 0, 0, 1, 2, 0, 2, 1, 0, 0, 1, 2, 0, 2, 1, 0, 0]"
      ]
     },
     "execution_count": 16,
     "metadata": {},
     "output_type": "execute_result"
    }
   ],
   "source": [
    "o"
   ]
  },
  {
   "cell_type": "code",
   "execution_count": null,
   "metadata": {},
   "outputs": [],
   "source": []
  },
  {
   "cell_type": "code",
   "execution_count": null,
   "metadata": {},
   "outputs": [],
   "source": []
  }
 ],
 "metadata": {
  "kernelspec": {
   "display_name": "Python [conda env:transformers_simple]",
   "language": "python",
   "name": "conda-env-transformers_simple-py"
  },
  "language_info": {
   "codemirror_mode": {
    "name": "ipython",
    "version": 3
   },
   "file_extension": ".py",
   "mimetype": "text/x-python",
   "name": "python",
   "nbconvert_exporter": "python",
   "pygments_lexer": "ipython3",
   "version": "3.10.12"
  }
 },
 "nbformat": 4,
 "nbformat_minor": 4
}
