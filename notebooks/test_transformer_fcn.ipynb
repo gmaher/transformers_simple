{
 "cells": [
  {
   "cell_type": "code",
   "execution_count": 1,
   "metadata": {},
   "outputs": [],
   "source": [
    "import sys\n",
    "import os\n",
    "sys.path.append(os.path.abspath('..'))\n",
    "\n",
    "import matplotlib.pyplot as plt\n",
    "import torch\n",
    "from torch.utils.data import TensorDataset, DataLoader\n",
    "torch.set_default_device('cpu')\n",
    "\n",
    "import numpy as np\n",
    "\n",
    "from transformers_simple.fcn import FCN\n",
    "from transformers_simple.train import Trainer\n",
    "from transformers_simple.dataset import CharDataset\n",
    "from transformers_simple.char_util import generate_sample"
   ]
  },
  {
   "cell_type": "code",
   "execution_count": 2,
   "metadata": {},
   "outputs": [],
   "source": [
    "N = 4\n",
    "\n",
    "block_size  = 2\n",
    "embed_size  = 6\n",
    "hidden_size = 30\n",
    "num_layers = 3\n",
    "\n",
    "vocab_size  = 3\n",
    "input_size = block_size*embed_size\n",
    "output_size = vocab_size\n",
    "\n",
    "log_interval = 50\n",
    "epochs = 5\n",
    "learning_rate = 1e-4\n",
    "device = torch.device('cpu')"
   ]
  },
  {
   "cell_type": "code",
   "execution_count": 3,
   "metadata": {},
   "outputs": [],
   "source": [
    "# #block size 1\n",
    "# data = \"\".join([\"abca\"]*1000)"
   ]
  },
  {
   "cell_type": "code",
   "execution_count": 4,
   "metadata": {},
   "outputs": [],
   "source": [
    "# block size 2\n",
    "data = \"\".join([\"aabcacb\"]*1000)"
   ]
  },
  {
   "cell_type": "code",
   "execution_count": 5,
   "metadata": {},
   "outputs": [
    {
     "data": {
      "text/plain": [
       "(tensor([0, 0]), tensor([0, 1]))"
      ]
     },
     "execution_count": 5,
     "metadata": {},
     "output_type": "execute_result"
    }
   ],
   "source": [
    "Ns = int(len(data)*0.5)\n",
    "\n",
    "data_train = data[:Ns]\n",
    "data_test = data[Ns:]\n",
    "\n",
    "dataset_train = CharDataset(data=data_train, block_size=block_size)\n",
    "dataset_test = CharDataset(data=data_test, block_size=block_size)\n",
    "dataset_train[0]"
   ]
  },
  {
   "cell_type": "code",
   "execution_count": 6,
   "metadata": {},
   "outputs": [],
   "source": [
    "class AdapterNet(torch.nn.Module):\n",
    "    def __init__(self, net):\n",
    "        super(AdapterNet,self).__init__()\n",
    "        self.net = net\n",
    "        self.embedding = torch.nn.Embedding(num_embeddings=vocab_size, embedding_dim=embed_size)\n",
    "        \n",
    "    def forward(self, x):\n",
    "        nb, l = x.size()\n",
    "\n",
    "        o = self.embedding(x)\n",
    "        o = o.view(nb,-1)\n",
    "        o = self.net(o)\n",
    "\n",
    "        return o\n",
    "    \n",
    "net = FCN(input_size=input_size, output_size=output_size, \n",
    "          hidden_size=hidden_size, num_layers=num_layers)\n",
    "\n",
    "model = AdapterNet(net)"
   ]
  },
  {
   "cell_type": "code",
   "execution_count": 7,
   "metadata": {},
   "outputs": [],
   "source": [
    "x = dataset_train[0][0].view(1,-1)"
   ]
  },
  {
   "cell_type": "code",
   "execution_count": 8,
   "metadata": {},
   "outputs": [
    {
     "data": {
      "text/plain": [
       "torch.Size([1, 3])"
      ]
     },
     "execution_count": 8,
     "metadata": {},
     "output_type": "execute_result"
    }
   ],
   "source": [
    "o = model(x)\n",
    "o.size()"
   ]
  },
  {
   "cell_type": "code",
   "execution_count": 9,
   "metadata": {},
   "outputs": [],
   "source": [
    "loss = torch.nn.CrossEntropyLoss()\n",
    "\n",
    "def loss_fn(o,y):\n",
    "    return loss(o,y[:,-1])"
   ]
  },
  {
   "cell_type": "code",
   "execution_count": 10,
   "metadata": {},
   "outputs": [],
   "source": [
    "trainer = Trainer(model=model, \n",
    "                  dataset=dataset_train, \n",
    "                  loss_fn=loss_fn, \n",
    "                  batch_size=N, \n",
    "                  learning_rate=learning_rate,\n",
    "                  epochs=epochs, \n",
    "                  log_interval=log_interval, \n",
    "                  device=device,\n",
    "                    val_dataset=dataset_test,\n",
    "                 val_interval=100)"
   ]
  },
  {
   "cell_type": "code",
   "execution_count": 11,
   "metadata": {},
   "outputs": [
    {
     "name": "stdout",
     "output_type": "stream",
     "text": [
      "Train Epoch: 0 [0/3498 (0%)]\tLoss: 1.025071\n"
     ]
    },
    {
     "name": "stderr",
     "output_type": "stream",
     "text": [
      "875it [00:00, 1665.55it/s]\n"
     ]
    },
    {
     "name": "stdout",
     "output_type": "stream",
     "text": [
      "Train Epoch: 0 [200/3498 (6%)]\tLoss: 1.073488\n",
      "Train Epoch: 0 [400/3498 (11%)]\tLoss: 1.110734\n"
     ]
    },
    {
     "name": "stderr",
     "output_type": "stream",
     "text": [
      "875it [00:00, 1712.90it/s]\n"
     ]
    },
    {
     "name": "stdout",
     "output_type": "stream",
     "text": [
      "Train Epoch: 0 [600/3498 (17%)]\tLoss: 1.115690\n",
      "Train Epoch: 0 [800/3498 (23%)]\tLoss: 1.100570\n"
     ]
    },
    {
     "name": "stderr",
     "output_type": "stream",
     "text": [
      "875it [00:00, 1699.69it/s]\n"
     ]
    },
    {
     "name": "stdout",
     "output_type": "stream",
     "text": [
      "Train Epoch: 0 [1000/3498 (29%)]\tLoss: 1.081288\n",
      "Train Epoch: 0 [1200/3498 (34%)]\tLoss: 1.034391\n"
     ]
    },
    {
     "name": "stderr",
     "output_type": "stream",
     "text": [
      "875it [00:00, 1589.08it/s]\n"
     ]
    },
    {
     "name": "stdout",
     "output_type": "stream",
     "text": [
      "Train Epoch: 0 [1400/3498 (40%)]\tLoss: 1.068278\n",
      "Train Epoch: 0 [1600/3498 (46%)]\tLoss: 0.672237\n"
     ]
    },
    {
     "name": "stderr",
     "output_type": "stream",
     "text": [
      "875it [00:00, 1719.44it/s]\n"
     ]
    },
    {
     "name": "stdout",
     "output_type": "stream",
     "text": [
      "Train Epoch: 0 [1800/3498 (51%)]\tLoss: 0.717770\n",
      "Train Epoch: 0 [2000/3498 (57%)]\tLoss: 0.750303\n"
     ]
    },
    {
     "name": "stderr",
     "output_type": "stream",
     "text": [
      "875it [00:00, 1649.62it/s]\n"
     ]
    },
    {
     "name": "stdout",
     "output_type": "stream",
     "text": [
      "Train Epoch: 0 [2200/3498 (63%)]\tLoss: 0.740356\n",
      "Train Epoch: 0 [2400/3498 (69%)]\tLoss: 0.624025\n"
     ]
    },
    {
     "name": "stderr",
     "output_type": "stream",
     "text": [
      "875it [00:00, 1653.26it/s]\n"
     ]
    },
    {
     "name": "stdout",
     "output_type": "stream",
     "text": [
      "Train Epoch: 0 [2600/3498 (74%)]\tLoss: 0.256172\n",
      "Train Epoch: 0 [2800/3498 (80%)]\tLoss: 0.551687\n"
     ]
    },
    {
     "name": "stderr",
     "output_type": "stream",
     "text": [
      "875it [00:00, 1725.49it/s]\n"
     ]
    },
    {
     "name": "stdout",
     "output_type": "stream",
     "text": [
      "Train Epoch: 0 [3000/3498 (86%)]\tLoss: 0.256484\n",
      "Train Epoch: 0 [3200/3498 (91%)]\tLoss: 0.519375\n"
     ]
    },
    {
     "name": "stderr",
     "output_type": "stream",
     "text": [
      "875it [00:00, 1583.85it/s]\n"
     ]
    },
    {
     "name": "stdout",
     "output_type": "stream",
     "text": [
      "Train Epoch: 0 [3400/3498 (97%)]\tLoss: 0.123391\n",
      "Train Epoch: 1 [0/3498 (0%)]\tLoss: 0.120632\n"
     ]
    },
    {
     "name": "stderr",
     "output_type": "stream",
     "text": [
      "875it [00:00, 1705.49it/s]\n"
     ]
    },
    {
     "name": "stdout",
     "output_type": "stream",
     "text": [
      "Train Epoch: 1 [200/3498 (6%)]\tLoss: 0.053434\n",
      "Train Epoch: 1 [400/3498 (11%)]\tLoss: 0.127116\n"
     ]
    },
    {
     "name": "stderr",
     "output_type": "stream",
     "text": [
      "875it [00:00, 1638.04it/s]\n"
     ]
    },
    {
     "name": "stdout",
     "output_type": "stream",
     "text": [
      "Train Epoch: 1 [600/3498 (17%)]\tLoss: 0.030672\n",
      "Train Epoch: 1 [800/3498 (23%)]\tLoss: 0.068141\n"
     ]
    },
    {
     "name": "stderr",
     "output_type": "stream",
     "text": [
      "875it [00:00, 1653.59it/s]\n"
     ]
    },
    {
     "name": "stdout",
     "output_type": "stream",
     "text": [
      "Train Epoch: 1 [1000/3498 (29%)]\tLoss: 0.064988\n",
      "Train Epoch: 1 [1200/3498 (34%)]\tLoss: 0.012222\n"
     ]
    },
    {
     "name": "stderr",
     "output_type": "stream",
     "text": [
      "875it [00:00, 1658.76it/s]\n"
     ]
    },
    {
     "name": "stdout",
     "output_type": "stream",
     "text": [
      "Train Epoch: 1 [1400/3498 (40%)]\tLoss: 0.053939\n",
      "Train Epoch: 1 [1600/3498 (46%)]\tLoss: 0.023779\n"
     ]
    },
    {
     "name": "stderr",
     "output_type": "stream",
     "text": [
      "875it [00:00, 1648.77it/s]\n"
     ]
    },
    {
     "name": "stdout",
     "output_type": "stream",
     "text": [
      "Train Epoch: 1 [1800/3498 (51%)]\tLoss: 0.003880\n",
      "Train Epoch: 1 [2000/3498 (57%)]\tLoss: 0.005731\n"
     ]
    },
    {
     "name": "stderr",
     "output_type": "stream",
     "text": [
      "875it [00:00, 1656.37it/s]\n"
     ]
    },
    {
     "name": "stdout",
     "output_type": "stream",
     "text": [
      "Train Epoch: 1 [2200/3498 (63%)]\tLoss: 0.015393\n",
      "Train Epoch: 1 [2400/3498 (69%)]\tLoss: 0.003033\n"
     ]
    },
    {
     "name": "stderr",
     "output_type": "stream",
     "text": [
      "875it [00:00, 1707.69it/s]\n"
     ]
    },
    {
     "name": "stdout",
     "output_type": "stream",
     "text": [
      "Train Epoch: 1 [2600/3498 (74%)]\tLoss: 0.003661\n",
      "Train Epoch: 1 [2800/3498 (80%)]\tLoss: 0.005165\n"
     ]
    },
    {
     "name": "stderr",
     "output_type": "stream",
     "text": [
      "875it [00:00, 1707.62it/s]\n"
     ]
    },
    {
     "name": "stdout",
     "output_type": "stream",
     "text": [
      "Train Epoch: 1 [3000/3498 (86%)]\tLoss: 0.009710\n",
      "Train Epoch: 1 [3200/3498 (91%)]\tLoss: 0.004706\n"
     ]
    },
    {
     "name": "stderr",
     "output_type": "stream",
     "text": [
      "875it [00:00, 1671.01it/s]\n"
     ]
    },
    {
     "name": "stdout",
     "output_type": "stream",
     "text": [
      "Train Epoch: 1 [3400/3498 (97%)]\tLoss: 0.005859\n",
      "Train Epoch: 2 [0/3498 (0%)]\tLoss: 0.002258\n"
     ]
    },
    {
     "name": "stderr",
     "output_type": "stream",
     "text": [
      "875it [00:00, 1638.14it/s]\n"
     ]
    },
    {
     "name": "stdout",
     "output_type": "stream",
     "text": [
      "Train Epoch: 2 [200/3498 (6%)]\tLoss: 0.003668\n",
      "Train Epoch: 2 [400/3498 (11%)]\tLoss: 0.003952\n"
     ]
    },
    {
     "name": "stderr",
     "output_type": "stream",
     "text": [
      "875it [00:00, 1703.96it/s]\n"
     ]
    },
    {
     "name": "stdout",
     "output_type": "stream",
     "text": [
      "Train Epoch: 2 [600/3498 (17%)]\tLoss: 0.001027\n",
      "Train Epoch: 2 [800/3498 (23%)]\tLoss: 0.007315\n"
     ]
    },
    {
     "name": "stderr",
     "output_type": "stream",
     "text": [
      "875it [00:00, 1708.22it/s]\n"
     ]
    },
    {
     "name": "stdout",
     "output_type": "stream",
     "text": [
      "Train Epoch: 2 [1000/3498 (29%)]\tLoss: 0.005331\n",
      "Train Epoch: 2 [1200/3498 (34%)]\tLoss: 0.003076\n"
     ]
    },
    {
     "name": "stderr",
     "output_type": "stream",
     "text": [
      "875it [00:00, 1693.97it/s]\n"
     ]
    },
    {
     "name": "stdout",
     "output_type": "stream",
     "text": [
      "Train Epoch: 2 [1400/3498 (40%)]\tLoss: 0.002303\n",
      "Train Epoch: 2 [1600/3498 (46%)]\tLoss: 0.000700\n"
     ]
    },
    {
     "name": "stderr",
     "output_type": "stream",
     "text": [
      "875it [00:00, 1512.52it/s]\n"
     ]
    },
    {
     "name": "stdout",
     "output_type": "stream",
     "text": [
      "Train Epoch: 2 [1800/3498 (51%)]\tLoss: 0.001390\n",
      "Train Epoch: 2 [2000/3498 (57%)]\tLoss: 0.000904\n"
     ]
    },
    {
     "name": "stderr",
     "output_type": "stream",
     "text": [
      "875it [00:00, 1604.60it/s]\n"
     ]
    },
    {
     "name": "stdout",
     "output_type": "stream",
     "text": [
      "Train Epoch: 2 [2200/3498 (63%)]\tLoss: 0.001689\n",
      "Train Epoch: 2 [2400/3498 (69%)]\tLoss: 0.000433\n"
     ]
    },
    {
     "name": "stderr",
     "output_type": "stream",
     "text": [
      "875it [00:00, 1486.80it/s]\n"
     ]
    },
    {
     "name": "stdout",
     "output_type": "stream",
     "text": [
      "Train Epoch: 2 [2600/3498 (74%)]\tLoss: 0.000758\n",
      "Train Epoch: 2 [2800/3498 (80%)]\tLoss: 0.000414\n"
     ]
    },
    {
     "name": "stderr",
     "output_type": "stream",
     "text": [
      "875it [00:00, 1653.72it/s]\n"
     ]
    },
    {
     "name": "stdout",
     "output_type": "stream",
     "text": [
      "Train Epoch: 2 [3000/3498 (86%)]\tLoss: 0.002030\n",
      "Train Epoch: 2 [3200/3498 (91%)]\tLoss: 0.001097\n"
     ]
    },
    {
     "name": "stderr",
     "output_type": "stream",
     "text": [
      "875it [00:00, 1646.42it/s]\n"
     ]
    },
    {
     "name": "stdout",
     "output_type": "stream",
     "text": [
      "Train Epoch: 2 [3400/3498 (97%)]\tLoss: 0.001192\n",
      "Train Epoch: 3 [0/3498 (0%)]\tLoss: 0.000554\n"
     ]
    },
    {
     "name": "stderr",
     "output_type": "stream",
     "text": [
      "875it [00:00, 1625.70it/s]\n"
     ]
    },
    {
     "name": "stdout",
     "output_type": "stream",
     "text": [
      "Train Epoch: 3 [200/3498 (6%)]\tLoss: 0.000879\n",
      "Train Epoch: 3 [400/3498 (11%)]\tLoss: 0.000471\n"
     ]
    },
    {
     "name": "stderr",
     "output_type": "stream",
     "text": [
      "875it [00:00, 1663.85it/s]\n"
     ]
    },
    {
     "name": "stdout",
     "output_type": "stream",
     "text": [
      "Train Epoch: 3 [600/3498 (17%)]\tLoss: 0.000442\n",
      "Train Epoch: 3 [800/3498 (23%)]\tLoss: 0.000870\n"
     ]
    },
    {
     "name": "stderr",
     "output_type": "stream",
     "text": [
      "875it [00:00, 1663.37it/s]\n"
     ]
    },
    {
     "name": "stdout",
     "output_type": "stream",
     "text": [
      "Train Epoch: 3 [1000/3498 (29%)]\tLoss: 0.000474\n",
      "Train Epoch: 3 [1200/3498 (34%)]\tLoss: 0.000698\n"
     ]
    },
    {
     "name": "stderr",
     "output_type": "stream",
     "text": [
      "875it [00:00, 1663.20it/s]\n"
     ]
    },
    {
     "name": "stdout",
     "output_type": "stream",
     "text": [
      "Train Epoch: 3 [1400/3498 (40%)]\tLoss: 0.000666\n",
      "Train Epoch: 3 [1600/3498 (46%)]\tLoss: 0.000806\n"
     ]
    },
    {
     "name": "stderr",
     "output_type": "stream",
     "text": [
      "875it [00:00, 1643.26it/s]\n"
     ]
    },
    {
     "name": "stdout",
     "output_type": "stream",
     "text": [
      "Train Epoch: 3 [1800/3498 (51%)]\tLoss: 0.000324\n",
      "Train Epoch: 3 [2000/3498 (57%)]\tLoss: 0.000596\n"
     ]
    },
    {
     "name": "stderr",
     "output_type": "stream",
     "text": [
      "875it [00:00, 1592.70it/s]\n"
     ]
    },
    {
     "name": "stdout",
     "output_type": "stream",
     "text": [
      "Train Epoch: 3 [2200/3498 (63%)]\tLoss: 0.000164\n",
      "Train Epoch: 3 [2400/3498 (69%)]\tLoss: 0.000477\n"
     ]
    },
    {
     "name": "stderr",
     "output_type": "stream",
     "text": [
      "875it [00:00, 1647.51it/s]\n"
     ]
    },
    {
     "name": "stdout",
     "output_type": "stream",
     "text": [
      "Train Epoch: 3 [2600/3498 (74%)]\tLoss: 0.000146\n",
      "Train Epoch: 3 [2800/3498 (80%)]\tLoss: 0.000244\n"
     ]
    },
    {
     "name": "stderr",
     "output_type": "stream",
     "text": [
      "875it [00:00, 1627.04it/s]\n"
     ]
    },
    {
     "name": "stdout",
     "output_type": "stream",
     "text": [
      "Train Epoch: 3 [3000/3498 (86%)]\tLoss: 0.000279\n",
      "Train Epoch: 3 [3200/3498 (91%)]\tLoss: 0.000205\n"
     ]
    },
    {
     "name": "stderr",
     "output_type": "stream",
     "text": [
      "875it [00:00, 1707.34it/s]\n"
     ]
    },
    {
     "name": "stdout",
     "output_type": "stream",
     "text": [
      "Train Epoch: 3 [3400/3498 (97%)]\tLoss: 0.000122\n",
      "Train Epoch: 4 [0/3498 (0%)]\tLoss: 0.000107\n"
     ]
    },
    {
     "name": "stderr",
     "output_type": "stream",
     "text": [
      "875it [00:00, 1659.06it/s]\n"
     ]
    },
    {
     "name": "stdout",
     "output_type": "stream",
     "text": [
      "Train Epoch: 4 [200/3498 (6%)]\tLoss: 0.000343\n",
      "Train Epoch: 4 [400/3498 (11%)]\tLoss: 0.000605\n"
     ]
    },
    {
     "name": "stderr",
     "output_type": "stream",
     "text": [
      "875it [00:00, 1657.87it/s]\n"
     ]
    },
    {
     "name": "stdout",
     "output_type": "stream",
     "text": [
      "Train Epoch: 4 [600/3498 (17%)]\tLoss: 0.000098\n",
      "Train Epoch: 4 [800/3498 (23%)]\tLoss: 0.000373\n"
     ]
    },
    {
     "name": "stderr",
     "output_type": "stream",
     "text": [
      "875it [00:00, 1653.29it/s]\n"
     ]
    },
    {
     "name": "stdout",
     "output_type": "stream",
     "text": [
      "Train Epoch: 4 [1000/3498 (29%)]\tLoss: 0.000090\n",
      "Train Epoch: 4 [1200/3498 (34%)]\tLoss: 0.000106\n"
     ]
    },
    {
     "name": "stderr",
     "output_type": "stream",
     "text": [
      "875it [00:00, 1671.10it/s]\n"
     ]
    },
    {
     "name": "stdout",
     "output_type": "stream",
     "text": [
      "Train Epoch: 4 [1400/3498 (40%)]\tLoss: 0.000251\n",
      "Train Epoch: 4 [1600/3498 (46%)]\tLoss: 0.000076\n"
     ]
    },
    {
     "name": "stderr",
     "output_type": "stream",
     "text": [
      "875it [00:00, 1662.45it/s]\n"
     ]
    },
    {
     "name": "stdout",
     "output_type": "stream",
     "text": [
      "Train Epoch: 4 [1800/3498 (51%)]\tLoss: 0.000237\n",
      "Train Epoch: 4 [2000/3498 (57%)]\tLoss: 0.000229\n"
     ]
    },
    {
     "name": "stderr",
     "output_type": "stream",
     "text": [
      "875it [00:00, 1586.16it/s]\n"
     ]
    },
    {
     "name": "stdout",
     "output_type": "stream",
     "text": [
      "Train Epoch: 4 [2200/3498 (63%)]\tLoss: 0.000251\n",
      "Train Epoch: 4 [2400/3498 (69%)]\tLoss: 0.000103\n"
     ]
    },
    {
     "name": "stderr",
     "output_type": "stream",
     "text": [
      "875it [00:00, 1591.71it/s]\n"
     ]
    },
    {
     "name": "stdout",
     "output_type": "stream",
     "text": [
      "Train Epoch: 4 [2600/3498 (74%)]\tLoss: 0.000102\n",
      "Train Epoch: 4 [2800/3498 (80%)]\tLoss: 0.000059\n"
     ]
    },
    {
     "name": "stderr",
     "output_type": "stream",
     "text": [
      "875it [00:00, 1552.37it/s]\n"
     ]
    },
    {
     "name": "stdout",
     "output_type": "stream",
     "text": [
      "Train Epoch: 4 [3000/3498 (86%)]\tLoss: 0.000124\n",
      "Train Epoch: 4 [3200/3498 (91%)]\tLoss: 0.000152\n"
     ]
    },
    {
     "name": "stderr",
     "output_type": "stream",
     "text": [
      "875it [00:00, 1719.62it/s]\n"
     ]
    },
    {
     "name": "stdout",
     "output_type": "stream",
     "text": [
      "Train Epoch: 4 [3400/3498 (97%)]\tLoss: 0.000272\n"
     ]
    }
   ],
   "source": [
    "trainer.run()"
   ]
  },
  {
   "cell_type": "code",
   "execution_count": 12,
   "metadata": {},
   "outputs": [],
   "source": [
    "x = dataset_train[0][0].view(1,-1)\n",
    "\n",
    "o = model(x)"
   ]
  },
  {
   "cell_type": "code",
   "execution_count": 13,
   "metadata": {},
   "outputs": [
    {
     "data": {
      "text/plain": [
       "tensor([[3.9271e-09, 9.9993e-01, 6.5703e-05]], grad_fn=<SoftmaxBackward0>)"
      ]
     },
     "execution_count": 13,
     "metadata": {},
     "output_type": "execute_result"
    }
   ],
   "source": [
    "torch.nn.functional.softmax(o, dim=1)"
   ]
  },
  {
   "cell_type": "code",
   "execution_count": 14,
   "metadata": {},
   "outputs": [
    {
     "data": {
      "image/png": "[encoded data removed]",
      "text/plain": [
       "<Figure size 1200x300 with 1 Axes>"
      ]
     },
     "metadata": {},
     "output_type": "display_data"
    }
   ],
   "source": [
    "loss_history = trainer.loss_history\n",
    "\n",
    "plt.figure(figsize=(12,3))\n",
    "plt.plot(loss_history)\n",
    "plt.show()"
   ]
  },
  {
   "cell_type": "code",
   "execution_count": 15,
   "metadata": {},
   "outputs": [
    {
     "data": {
      "image/png": "[encoded data removed]",
      "text/plain": [
       "<Figure size 1200x300 with 1 Axes>"
      ]
     },
     "metadata": {},
     "output_type": "display_data"
    }
   ],
   "source": [
    "plt.figure(figsize=(12,3))\n",
    "plt.plot(trainer.val_loss_iters, trainer.val_loss_history)\n",
    "plt.show()"
   ]
  },
  {
   "cell_type": "code",
   "execution_count": 16,
   "metadata": {},
   "outputs": [],
   "source": [
    "x = [0,1]\n",
    "T = 20\n",
    "\n",
    "o = generate_sample(x, model, length=T)"
   ]
  },
  {
   "cell_type": "code",
   "execution_count": 17,
   "metadata": {},
   "outputs": [
    {
     "data": {
      "text/plain": [
       "[2, 0, 2, 1, 0, 0, 1, 2, 0, 2, 1, 0, 0, 1, 2, 0, 2, 1, 0, 0]"
      ]
     },
     "execution_count": 17,
     "metadata": {},
     "output_type": "execute_result"
    }
   ],
   "source": [
    "o"
   ]
  },
  {
   "cell_type": "code",
   "execution_count": null,
   "metadata": {},
   "outputs": [],
   "source": []
  },
  {
   "cell_type": "code",
   "execution_count": null,
   "metadata": {},
   "outputs": [],
   "source": []
  }
 ],
 "metadata": {
  "kernelspec": {
   "display_name": "Python [conda env:transformers_simple]",
   "language": "python",
   "name": "conda-env-transformers_simple-py"
  },
  "language_info": {
   "codemirror_mode": {
    "name": "ipython",
    "version": 3
   },
   "file_extension": ".py",
   "mimetype": "text/x-python",
   "name": "python",
   "nbconvert_exporter": "python",
   "pygments_lexer": "ipython3",
   "version": "3.10.12"
  }
 },
 "nbformat": 4,
 "nbformat_minor": 4
}
