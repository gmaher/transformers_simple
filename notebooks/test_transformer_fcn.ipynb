{
 "cells": [
  {
   "cell_type": "code",
   "execution_count": 1,
   "metadata": {},
   "outputs": [],
   "source": [
    "import sys\n",
    "import os\n",
    "sys.path.append(os.path.abspath('..'))\n",
    "\n",
    "import matplotlib.pyplot as plt\n",
    "import torch\n",
    "from torch.utils.data import TensorDataset, DataLoader\n",
    "torch.set_default_device('cpu')\n",
    "\n",
    "import numpy as np\n",
    "\n",
    "from transformers_simple.fcn import FCN\n",
    "from transformers_simple.train import Trainer\n",
    "from transformers_simple.dataset import CharDataset"
   ]
  },
  {
   "cell_type": "code",
   "execution_count": 2,
   "metadata": {},
   "outputs": [],
   "source": [
    "N = 4\n",
    "\n",
    "block_size  = 2\n",
    "embed_size  = 6\n",
    "hidden_size = 30\n",
    "num_layers = 3\n",
    "\n",
    "vocab_size  = 3\n",
    "input_size = block_size*embed_size\n",
    "output_size = vocab_size\n",
    "\n",
    "log_interval = 50\n",
    "epochs = 5\n",
    "learning_rate = 1e-4\n",
    "device = torch.device('cpu')"
   ]
  },
  {
   "cell_type": "code",
   "execution_count": 3,
   "metadata": {},
   "outputs": [],
   "source": [
    "# #block size 1\n",
    "# data = \"\".join([\"abca\"]*1000)"
   ]
  },
  {
   "cell_type": "code",
   "execution_count": 4,
   "metadata": {},
   "outputs": [],
   "source": [
    "# block size 2\n",
    "data = \"\".join([\"aabcacb\"]*1000)"
   ]
  },
  {
   "cell_type": "code",
   "execution_count": 5,
   "metadata": {},
   "outputs": [
    {
     "data": {
      "text/plain": [
       "(tensor([0, 0]), tensor([0, 1]))"
      ]
     },
     "execution_count": 5,
     "metadata": {},
     "output_type": "execute_result"
    }
   ],
   "source": [
    "dataset = CharDataset(data=data, block_size=block_size)\n",
    "dataset[0]"
   ]
  },
  {
   "cell_type": "code",
   "execution_count": 6,
   "metadata": {},
   "outputs": [],
   "source": [
    "class AdapterNet(torch.nn.Module):\n",
    "    def __init__(self, net):\n",
    "        super(AdapterNet,self).__init__()\n",
    "        self.net = net\n",
    "        self.embedding = torch.nn.Embedding(num_embeddings=vocab_size, embedding_dim=embed_size)\n",
    "        \n",
    "    def forward(self, x):\n",
    "        nb, l = x.size()\n",
    "\n",
    "        o = self.embedding(x)\n",
    "        o = o.view(nb,-1)\n",
    "        o = self.net(o)\n",
    "\n",
    "        return o\n",
    "    \n",
    "net = FCN(input_size=input_size, output_size=output_size, \n",
    "          hidden_size=hidden_size, num_layers=num_layers)\n",
    "\n",
    "model = AdapterNet(net)"
   ]
  },
  {
   "cell_type": "code",
   "execution_count": 7,
   "metadata": {},
   "outputs": [],
   "source": [
    "x = dataset[0][0].view(1,-1)"
   ]
  },
  {
   "cell_type": "code",
   "execution_count": 8,
   "metadata": {},
   "outputs": [
    {
     "data": {
      "text/plain": [
       "torch.Size([1, 3])"
      ]
     },
     "execution_count": 8,
     "metadata": {},
     "output_type": "execute_result"
    }
   ],
   "source": [
    "o = model(x)\n",
    "o.size()"
   ]
  },
  {
   "cell_type": "code",
   "execution_count": 9,
   "metadata": {},
   "outputs": [],
   "source": [
    "loss = torch.nn.CrossEntropyLoss()\n",
    "\n",
    "def loss_fn(o,y):\n",
    "    return loss(o,y[:,-1])"
   ]
  },
  {
   "cell_type": "code",
   "execution_count": 10,
   "metadata": {},
   "outputs": [],
   "source": [
    "trainer = Trainer(model=model, \n",
    "                  dataset=dataset, \n",
    "                  loss_fn=loss_fn, \n",
    "                  batch_size=N, \n",
    "                  learning_rate=learning_rate,\n",
    "                  epochs=epochs, \n",
    "                  log_interval=log_interval, \n",
    "                  device=device)"
   ]
  },
  {
   "cell_type": "code",
   "execution_count": 11,
   "metadata": {},
   "outputs": [
    {
     "name": "stdout",
     "output_type": "stream",
     "text": [
      "Train Epoch: 0 [0/6998 (0%)]\tLoss: 1.201451\n",
      "Train Epoch: 0 [200/6998 (3%)]\tLoss: 1.090423\n",
      "Train Epoch: 0 [400/6998 (6%)]\tLoss: 1.168828\n",
      "Train Epoch: 0 [600/6998 (9%)]\tLoss: 0.985244\n",
      "Train Epoch: 0 [800/6998 (11%)]\tLoss: 0.934935\n",
      "Train Epoch: 0 [1000/6998 (14%)]\tLoss: 1.077978\n",
      "Train Epoch: 0 [1200/6998 (17%)]\tLoss: 0.910065\n",
      "Train Epoch: 0 [1400/6998 (20%)]\tLoss: 1.074868\n",
      "Train Epoch: 0 [1600/6998 (23%)]\tLoss: 0.955347\n",
      "Train Epoch: 0 [1800/6998 (26%)]\tLoss: 0.922149\n",
      "Train Epoch: 0 [2000/6998 (29%)]\tLoss: 1.010395\n",
      "Train Epoch: 0 [2200/6998 (31%)]\tLoss: 1.159485\n",
      "Train Epoch: 0 [2400/6998 (34%)]\tLoss: 0.749279\n",
      "Train Epoch: 0 [2600/6998 (37%)]\tLoss: 0.855946\n",
      "Train Epoch: 0 [2800/6998 (40%)]\tLoss: 0.676294\n",
      "Train Epoch: 0 [3000/6998 (43%)]\tLoss: 0.757260\n",
      "Train Epoch: 0 [3200/6998 (46%)]\tLoss: 0.629106\n",
      "Train Epoch: 0 [3400/6998 (49%)]\tLoss: 0.473150\n",
      "Train Epoch: 0 [3600/6998 (51%)]\tLoss: 0.523753\n",
      "Train Epoch: 0 [3800/6998 (54%)]\tLoss: 0.248940\n",
      "Train Epoch: 0 [4000/6998 (57%)]\tLoss: 0.056500\n",
      "Train Epoch: 0 [4200/6998 (60%)]\tLoss: 0.232285\n",
      "Train Epoch: 0 [4400/6998 (63%)]\tLoss: 0.313562\n",
      "Train Epoch: 0 [4600/6998 (66%)]\tLoss: 0.426001\n",
      "Train Epoch: 0 [4800/6998 (69%)]\tLoss: 0.652199\n",
      "Train Epoch: 0 [5000/6998 (71%)]\tLoss: 0.249697\n",
      "Train Epoch: 0 [5200/6998 (74%)]\tLoss: 0.247273\n",
      "Train Epoch: 0 [5400/6998 (77%)]\tLoss: 0.223409\n",
      "Train Epoch: 0 [5600/6998 (80%)]\tLoss: 0.373945\n",
      "Train Epoch: 0 [5800/6998 (83%)]\tLoss: 0.452901\n",
      "Train Epoch: 0 [6000/6998 (86%)]\tLoss: 0.363545\n",
      "Train Epoch: 0 [6200/6998 (89%)]\tLoss: 0.201449\n",
      "Train Epoch: 0 [6400/6998 (91%)]\tLoss: 0.257611\n",
      "Train Epoch: 0 [6600/6998 (94%)]\tLoss: 0.102228\n",
      "Train Epoch: 0 [6800/6998 (97%)]\tLoss: 0.332476\n",
      "Train Epoch: 1 [0/6998 (0%)]\tLoss: 0.204693\n",
      "Train Epoch: 1 [200/6998 (3%)]\tLoss: 0.099891\n",
      "Train Epoch: 1 [400/6998 (6%)]\tLoss: 0.284391\n",
      "Train Epoch: 1 [600/6998 (9%)]\tLoss: 0.272088\n",
      "Train Epoch: 1 [800/6998 (11%)]\tLoss: 0.003716\n",
      "Train Epoch: 1 [1000/6998 (14%)]\tLoss: 0.004851\n",
      "Train Epoch: 1 [1200/6998 (17%)]\tLoss: 0.091270\n",
      "Train Epoch: 1 [1400/6998 (20%)]\tLoss: 0.001449\n",
      "Train Epoch: 1 [1600/6998 (23%)]\tLoss: 0.004448\n",
      "Train Epoch: 1 [1800/6998 (26%)]\tLoss: 0.004183\n",
      "Train Epoch: 1 [2000/6998 (29%)]\tLoss: 0.052385\n",
      "Train Epoch: 1 [2200/6998 (31%)]\tLoss: 0.045764\n",
      "Train Epoch: 1 [2400/6998 (34%)]\tLoss: 0.015519\n",
      "Train Epoch: 1 [2600/6998 (37%)]\tLoss: 0.013230\n",
      "Train Epoch: 1 [2800/6998 (40%)]\tLoss: 0.011067\n",
      "Train Epoch: 1 [3000/6998 (43%)]\tLoss: 0.038981\n",
      "Train Epoch: 1 [3200/6998 (46%)]\tLoss: 0.003166\n",
      "Train Epoch: 1 [3400/6998 (49%)]\tLoss: 0.023026\n",
      "Train Epoch: 1 [3600/6998 (51%)]\tLoss: 0.001052\n",
      "Train Epoch: 1 [3800/6998 (54%)]\tLoss: 0.008967\n",
      "Train Epoch: 1 [4000/6998 (57%)]\tLoss: 0.009138\n",
      "Train Epoch: 1 [4200/6998 (60%)]\tLoss: 0.007974\n",
      "Train Epoch: 1 [4400/6998 (63%)]\tLoss: 0.004490\n",
      "Train Epoch: 1 [4600/6998 (66%)]\tLoss: 0.008833\n",
      "Train Epoch: 1 [4800/6998 (69%)]\tLoss: 0.006052\n",
      "Train Epoch: 1 [5000/6998 (71%)]\tLoss: 0.005392\n",
      "Train Epoch: 1 [5200/6998 (74%)]\tLoss: 0.006580\n",
      "Train Epoch: 1 [5400/6998 (77%)]\tLoss: 0.007408\n",
      "Train Epoch: 1 [5600/6998 (80%)]\tLoss: 0.003507\n",
      "Train Epoch: 1 [5800/6998 (83%)]\tLoss: 0.008032\n",
      "Train Epoch: 1 [6000/6998 (86%)]\tLoss: 0.004713\n",
      "Train Epoch: 1 [6200/6998 (89%)]\tLoss: 0.001152\n",
      "Train Epoch: 1 [6400/6998 (91%)]\tLoss: 0.003807\n",
      "Train Epoch: 1 [6600/6998 (94%)]\tLoss: 0.001338\n",
      "Train Epoch: 1 [6800/6998 (97%)]\tLoss: 0.005534\n",
      "Train Epoch: 2 [0/6998 (0%)]\tLoss: 0.001493\n",
      "Train Epoch: 2 [200/6998 (3%)]\tLoss: 0.001469\n",
      "Train Epoch: 2 [400/6998 (6%)]\tLoss: 0.001734\n",
      "Train Epoch: 2 [600/6998 (9%)]\tLoss: 0.001829\n",
      "Train Epoch: 2 [800/6998 (11%)]\tLoss: 0.001018\n",
      "Train Epoch: 2 [1000/6998 (14%)]\tLoss: 0.001481\n",
      "Train Epoch: 2 [1200/6998 (17%)]\tLoss: 0.003745\n",
      "Train Epoch: 2 [1400/6998 (20%)]\tLoss: 0.000687\n",
      "Train Epoch: 2 [1600/6998 (23%)]\tLoss: 0.000830\n",
      "Train Epoch: 2 [1800/6998 (26%)]\tLoss: 0.000252\n",
      "Train Epoch: 2 [2000/6998 (29%)]\tLoss: 0.001405\n",
      "Train Epoch: 2 [2200/6998 (31%)]\tLoss: 0.002564\n",
      "Train Epoch: 2 [2400/6998 (34%)]\tLoss: 0.001158\n",
      "Train Epoch: 2 [2600/6998 (37%)]\tLoss: 0.001905\n",
      "Train Epoch: 2 [2800/6998 (40%)]\tLoss: 0.000943\n",
      "Train Epoch: 2 [3000/6998 (43%)]\tLoss: 0.001526\n",
      "Train Epoch: 2 [3200/6998 (46%)]\tLoss: 0.002128\n",
      "Train Epoch: 2 [3400/6998 (49%)]\tLoss: 0.000900\n",
      "Train Epoch: 2 [3600/6998 (51%)]\tLoss: 0.001083\n",
      "Train Epoch: 2 [3800/6998 (54%)]\tLoss: 0.000778\n",
      "Train Epoch: 2 [4000/6998 (57%)]\tLoss: 0.000273\n",
      "Train Epoch: 2 [4200/6998 (60%)]\tLoss: 0.000810\n",
      "Train Epoch: 2 [4400/6998 (63%)]\tLoss: 0.000823\n",
      "Train Epoch: 2 [4600/6998 (66%)]\tLoss: 0.000935\n",
      "Train Epoch: 2 [4800/6998 (69%)]\tLoss: 0.000720\n",
      "Train Epoch: 2 [5000/6998 (71%)]\tLoss: 0.000422\n",
      "Train Epoch: 2 [5200/6998 (74%)]\tLoss: 0.000501\n",
      "Train Epoch: 2 [5400/6998 (77%)]\tLoss: 0.000763\n",
      "Train Epoch: 2 [5600/6998 (80%)]\tLoss: 0.000816\n",
      "Train Epoch: 2 [5800/6998 (83%)]\tLoss: 0.000361\n",
      "Train Epoch: 2 [6000/6998 (86%)]\tLoss: 0.000281\n",
      "Train Epoch: 2 [6200/6998 (89%)]\tLoss: 0.000840\n",
      "Train Epoch: 2 [6400/6998 (91%)]\tLoss: 0.000241\n",
      "Train Epoch: 2 [6600/6998 (94%)]\tLoss: 0.000487\n",
      "Train Epoch: 2 [6800/6998 (97%)]\tLoss: 0.000464\n",
      "Train Epoch: 3 [0/6998 (0%)]\tLoss: 0.000106\n",
      "Train Epoch: 3 [200/6998 (3%)]\tLoss: 0.000282\n",
      "Train Epoch: 3 [400/6998 (6%)]\tLoss: 0.000200\n",
      "Train Epoch: 3 [600/6998 (9%)]\tLoss: 0.000279\n",
      "Train Epoch: 3 [800/6998 (11%)]\tLoss: 0.000349\n",
      "Train Epoch: 3 [1000/6998 (14%)]\tLoss: 0.000297\n",
      "Train Epoch: 3 [1200/6998 (17%)]\tLoss: 0.000194\n",
      "Train Epoch: 3 [1400/6998 (20%)]\tLoss: 0.000274\n",
      "Train Epoch: 3 [1600/6998 (23%)]\tLoss: 0.000318\n",
      "Train Epoch: 3 [1800/6998 (26%)]\tLoss: 0.000273\n",
      "Train Epoch: 3 [2000/6998 (29%)]\tLoss: 0.000210\n",
      "Train Epoch: 3 [2200/6998 (31%)]\tLoss: 0.000179\n",
      "Train Epoch: 3 [2400/6998 (34%)]\tLoss: 0.000135\n",
      "Train Epoch: 3 [2600/6998 (37%)]\tLoss: 0.000210\n",
      "Train Epoch: 3 [2800/6998 (40%)]\tLoss: 0.000217\n",
      "Train Epoch: 3 [3000/6998 (43%)]\tLoss: 0.000134\n",
      "Train Epoch: 3 [3200/6998 (46%)]\tLoss: 0.000224\n",
      "Train Epoch: 3 [3400/6998 (49%)]\tLoss: 0.000243\n",
      "Train Epoch: 3 [3600/6998 (51%)]\tLoss: 0.000182\n",
      "Train Epoch: 3 [3800/6998 (54%)]\tLoss: 0.000126\n",
      "Train Epoch: 3 [4000/6998 (57%)]\tLoss: 0.000077\n",
      "Train Epoch: 3 [4200/6998 (60%)]\tLoss: 0.000296\n",
      "Train Epoch: 3 [4400/6998 (63%)]\tLoss: 0.000063\n",
      "Train Epoch: 3 [4600/6998 (66%)]\tLoss: 0.000154\n",
      "Train Epoch: 3 [4800/6998 (69%)]\tLoss: 0.000091\n",
      "Train Epoch: 3 [5000/6998 (71%)]\tLoss: 0.000242\n",
      "Train Epoch: 3 [5200/6998 (74%)]\tLoss: 0.000227\n",
      "Train Epoch: 3 [5400/6998 (77%)]\tLoss: 0.000188\n",
      "Train Epoch: 3 [5600/6998 (80%)]\tLoss: 0.000127\n",
      "Train Epoch: 3 [5800/6998 (83%)]\tLoss: 0.000126\n",
      "Train Epoch: 3 [6000/6998 (86%)]\tLoss: 0.000085\n",
      "Train Epoch: 3 [6200/6998 (89%)]\tLoss: 0.000109\n",
      "Train Epoch: 3 [6400/6998 (91%)]\tLoss: 0.000021\n",
      "Train Epoch: 3 [6600/6998 (94%)]\tLoss: 0.000068\n",
      "Train Epoch: 3 [6800/6998 (97%)]\tLoss: 0.000112\n",
      "Train Epoch: 4 [0/6998 (0%)]\tLoss: 0.000082\n",
      "Train Epoch: 4 [200/6998 (3%)]\tLoss: 0.000152\n",
      "Train Epoch: 4 [400/6998 (6%)]\tLoss: 0.000061\n",
      "Train Epoch: 4 [600/6998 (9%)]\tLoss: 0.000079\n",
      "Train Epoch: 4 [800/6998 (11%)]\tLoss: 0.000081\n",
      "Train Epoch: 4 [1000/6998 (14%)]\tLoss: 0.000094\n",
      "Train Epoch: 4 [1200/6998 (17%)]\tLoss: 0.000027\n",
      "Train Epoch: 4 [1400/6998 (20%)]\tLoss: 0.000084\n",
      "Train Epoch: 4 [1600/6998 (23%)]\tLoss: 0.000097\n",
      "Train Epoch: 4 [1800/6998 (26%)]\tLoss: 0.000070\n",
      "Train Epoch: 4 [2000/6998 (29%)]\tLoss: 0.000040\n",
      "Train Epoch: 4 [2200/6998 (31%)]\tLoss: 0.000069\n",
      "Train Epoch: 4 [2400/6998 (34%)]\tLoss: 0.000074\n",
      "Train Epoch: 4 [2600/6998 (37%)]\tLoss: 0.000106\n",
      "Train Epoch: 4 [2800/6998 (40%)]\tLoss: 0.000070\n",
      "Train Epoch: 4 [3000/6998 (43%)]\tLoss: 0.000063\n",
      "Train Epoch: 4 [3200/6998 (46%)]\tLoss: 0.000080\n",
      "Train Epoch: 4 [3400/6998 (49%)]\tLoss: 0.000030\n",
      "Train Epoch: 4 [3600/6998 (51%)]\tLoss: 0.000036\n",
      "Train Epoch: 4 [3800/6998 (54%)]\tLoss: 0.000039\n",
      "Train Epoch: 4 [4000/6998 (57%)]\tLoss: 0.000032\n",
      "Train Epoch: 4 [4200/6998 (60%)]\tLoss: 0.000047\n",
      "Train Epoch: 4 [4400/6998 (63%)]\tLoss: 0.000041\n",
      "Train Epoch: 4 [4600/6998 (66%)]\tLoss: 0.000048\n",
      "Train Epoch: 4 [4800/6998 (69%)]\tLoss: 0.000051\n",
      "Train Epoch: 4 [5000/6998 (71%)]\tLoss: 0.000052\n",
      "Train Epoch: 4 [5200/6998 (74%)]\tLoss: 0.000040\n",
      "Train Epoch: 4 [5400/6998 (77%)]\tLoss: 0.000045\n",
      "Train Epoch: 4 [5600/6998 (80%)]\tLoss: 0.000035\n",
      "Train Epoch: 4 [5800/6998 (83%)]\tLoss: 0.000045\n",
      "Train Epoch: 4 [6000/6998 (86%)]\tLoss: 0.000071\n",
      "Train Epoch: 4 [6200/6998 (89%)]\tLoss: 0.000019\n",
      "Train Epoch: 4 [6400/6998 (91%)]\tLoss: 0.000047\n"
     ]
    },
    {
     "name": "stdout",
     "output_type": "stream",
     "text": [
      "Train Epoch: 4 [6600/6998 (94%)]\tLoss: 0.000010\n",
      "Train Epoch: 4 [6800/6998 (97%)]\tLoss: 0.000015\n"
     ]
    }
   ],
   "source": [
    "trainer.run()"
   ]
  },
  {
   "cell_type": "code",
   "execution_count": 13,
   "metadata": {},
   "outputs": [],
   "source": [
    "x = dataset[0][0].view(1,-1)\n",
    "\n",
    "o = model(x)"
   ]
  },
  {
   "cell_type": "code",
   "execution_count": 15,
   "metadata": {},
   "outputs": [
    {
     "data": {
      "text/plain": [
       "tensor([[1.3423e-12, 9.9997e-01, 2.9072e-05]], grad_fn=<SoftmaxBackward0>)"
      ]
     },
     "execution_count": 15,
     "metadata": {},
     "output_type": "execute_result"
    }
   ],
   "source": [
    "torch.nn.functional.softmax(o, dim=1)"
   ]
  },
  {
   "cell_type": "code",
   "execution_count": 16,
   "metadata": {},
   "outputs": [
    {
     "data": {
      "image/png": "[encoded data removed]",
      "text/plain": [
       "<Figure size 1200x300 with 1 Axes>"
      ]
     },
     "metadata": {},
     "output_type": "display_data"
    }
   ],
   "source": [
    "loss_history = trainer.loss_history\n",
    "\n",
    "plt.figure(figsize=(12,3))\n",
    "plt.plot(loss_history)\n",
    "plt.show()"
   ]
  },
  {
   "cell_type": "code",
   "execution_count": null,
   "metadata": {},
   "outputs": [],
   "source": []
  },
  {
   "cell_type": "code",
   "execution_count": null,
   "metadata": {},
   "outputs": [],
   "source": []
  }
 ],
 "metadata": {
  "kernelspec": {
   "display_name": "Python [conda env:transformers_simple]",
   "language": "python",
   "name": "conda-env-transformers_simple-py"
  },
  "language_info": {
   "codemirror_mode": {
    "name": "ipython",
    "version": 3
   },
   "file_extension": ".py",
   "mimetype": "text/x-python",
   "name": "python",
   "nbconvert_exporter": "python",
   "pygments_lexer": "ipython3",
   "version": "3.10.12"
  }
 },
 "nbformat": 4,
 "nbformat_minor": 4
}
