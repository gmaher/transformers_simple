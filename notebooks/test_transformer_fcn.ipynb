{
 "cells": [
  {
   "cell_type": "code",
   "execution_count": 1,
   "metadata": {},
   "outputs": [],
   "source": [
    "import sys\n",
    "import os\n",
    "sys.path.append(os.path.abspath('..'))\n",
    "\n",
    "import matplotlib.pyplot as plt\n",
    "import torch\n",
    "from torch.utils.data import TensorDataset, DataLoader\n",
    "torch.set_default_device('cpu')\n",
    "\n",
    "import numpy as np\n",
    "\n",
    "from transformers_simple.fcn import FCN\n",
    "from transformers_simple.train import Trainer\n",
    "from transformers_simple.dataset import CharDataset\n",
    "from transformers_simple.char_util import generate_sample"
   ]
  },
  {
   "cell_type": "code",
   "execution_count": 2,
   "metadata": {},
   "outputs": [],
   "source": [
    "N = 4\n",
    "\n",
    "block_size  = 2\n",
    "embed_size  = 6\n",
    "hidden_size = 30\n",
    "num_layers = 3\n",
    "\n",
    "vocab_size  = 3\n",
    "input_size = block_size*embed_size\n",
    "output_size = vocab_size\n",
    "\n",
    "log_interval = 50\n",
    "epochs = 5\n",
    "learning_rate = 1e-4\n",
    "device = torch.device('cpu')"
   ]
  },
  {
   "cell_type": "code",
   "execution_count": 3,
   "metadata": {},
   "outputs": [],
   "source": [
    "# #block size 1\n",
    "# data = \"\".join([\"abca\"]*1000)"
   ]
  },
  {
   "cell_type": "code",
   "execution_count": 4,
   "metadata": {},
   "outputs": [],
   "source": [
    "# block size 2\n",
    "data = \"\".join([\"aabcacb\"]*1000)"
   ]
  },
  {
   "cell_type": "code",
   "execution_count": 5,
   "metadata": {},
   "outputs": [
    {
     "data": {
      "text/plain": [
       "(tensor([0, 0]), tensor([0, 1]))"
      ]
     },
     "execution_count": 5,
     "metadata": {},
     "output_type": "execute_result"
    }
   ],
   "source": [
    "Ns = int(len(data)*0.5)\n",
    "\n",
    "data_train = data[:Ns]\n",
    "data_test = data[Ns:]\n",
    "\n",
    "dataset_train = CharDataset(data=data_train, block_size=block_size)\n",
    "dataset_test = CharDataset(data=data_test, block_size=block_size)\n",
    "dataset_train[0]"
   ]
  },
  {
   "cell_type": "code",
   "execution_count": 6,
   "metadata": {},
   "outputs": [],
   "source": [
    "class AdapterNet(torch.nn.Module):\n",
    "    def __init__(self, net):\n",
    "        super(AdapterNet,self).__init__()\n",
    "        self.net = net\n",
    "        self.embedding = torch.nn.Embedding(num_embeddings=vocab_size, embedding_dim=embed_size)\n",
    "        \n",
    "    def forward(self, x):\n",
    "        nb, l = x.size()\n",
    "\n",
    "        o = self.embedding(x)\n",
    "        o = o.view(nb,-1)\n",
    "        o = self.net(o)\n",
    "\n",
    "        return o\n",
    "    \n",
    "net = FCN(input_size=input_size, output_size=output_size, \n",
    "          hidden_size=hidden_size, num_layers=num_layers)\n",
    "\n",
    "model = AdapterNet(net)"
   ]
  },
  {
   "cell_type": "code",
   "execution_count": 7,
   "metadata": {},
   "outputs": [],
   "source": [
    "x = dataset_train[0][0].view(1,-1)"
   ]
  },
  {
   "cell_type": "code",
   "execution_count": 8,
   "metadata": {},
   "outputs": [
    {
     "data": {
      "text/plain": [
       "torch.Size([1, 3])"
      ]
     },
     "execution_count": 8,
     "metadata": {},
     "output_type": "execute_result"
    }
   ],
   "source": [
    "o = model(x)\n",
    "o.size()"
   ]
  },
  {
   "cell_type": "code",
   "execution_count": 9,
   "metadata": {},
   "outputs": [],
   "source": [
    "loss = torch.nn.CrossEntropyLoss()\n",
    "\n",
    "def loss_fn(o,y):\n",
    "    return loss(o,y[:,-1])"
   ]
  },
  {
   "cell_type": "code",
   "execution_count": 10,
   "metadata": {},
   "outputs": [],
   "source": [
    "trainer = Trainer(model=model, \n",
    "                  dataset=dataset_train, \n",
    "                  loss_fn=loss_fn, \n",
    "                  batch_size=N, \n",
    "                  learning_rate=learning_rate,\n",
    "                  epochs=epochs, \n",
    "                  log_interval=log_interval, \n",
    "                  device=device,\n",
    "                    val_dataset=dataset_test,\n",
    "                 val_interval=100)"
   ]
  },
  {
   "cell_type": "code",
   "execution_count": 11,
   "metadata": {},
   "outputs": [
    {
     "name": "stdout",
     "output_type": "stream",
     "text": [
      "Train Epoch: 0 [0/3498 (0%)]\tLoss: 1.088373\n"
     ]
    },
    {
     "name": "stderr",
     "output_type": "stream",
     "text": [
      "875it [00:00, 1643.02it/s]\n"
     ]
    },
    {
     "name": "stdout",
     "output_type": "stream",
     "text": [
      "Train Epoch: 0 [200/3498 (6%)]\tLoss: 1.124328\n",
      "Train Epoch: 0 [400/3498 (11%)]\tLoss: 1.117201\n"
     ]
    },
    {
     "name": "stderr",
     "output_type": "stream",
     "text": [
      "875it [00:00, 1602.07it/s]\n"
     ]
    },
    {
     "name": "stdout",
     "output_type": "stream",
     "text": [
      "Train Epoch: 0 [600/3498 (17%)]\tLoss: 1.059102\n",
      "Train Epoch: 0 [800/3498 (23%)]\tLoss: 1.095878\n"
     ]
    },
    {
     "name": "stderr",
     "output_type": "stream",
     "text": [
      "875it [00:00, 1661.44it/s]\n"
     ]
    },
    {
     "name": "stdout",
     "output_type": "stream",
     "text": [
      "Train Epoch: 0 [1000/3498 (29%)]\tLoss: 1.057443\n",
      "Train Epoch: 0 [1200/3498 (34%)]\tLoss: 1.093249\n"
     ]
    },
    {
     "name": "stderr",
     "output_type": "stream",
     "text": [
      "875it [00:00, 1665.75it/s]\n"
     ]
    },
    {
     "name": "stdout",
     "output_type": "stream",
     "text": [
      "Train Epoch: 0 [1400/3498 (40%)]\tLoss: 1.002247\n",
      "Train Epoch: 0 [1600/3498 (46%)]\tLoss: 0.984680\n"
     ]
    },
    {
     "name": "stderr",
     "output_type": "stream",
     "text": [
      "875it [00:00, 1642.81it/s]\n"
     ]
    },
    {
     "name": "stdout",
     "output_type": "stream",
     "text": [
      "Train Epoch: 0 [1800/3498 (51%)]\tLoss: 0.977672\n",
      "Train Epoch: 0 [2000/3498 (57%)]\tLoss: 0.995229\n"
     ]
    },
    {
     "name": "stderr",
     "output_type": "stream",
     "text": [
      "875it [00:00, 1660.98it/s]\n"
     ]
    },
    {
     "name": "stdout",
     "output_type": "stream",
     "text": [
      "Train Epoch: 0 [2200/3498 (63%)]\tLoss: 0.863992\n",
      "Train Epoch: 0 [2400/3498 (69%)]\tLoss: 0.598378\n"
     ]
    },
    {
     "name": "stderr",
     "output_type": "stream",
     "text": [
      "875it [00:00, 1665.31it/s]\n"
     ]
    },
    {
     "name": "stdout",
     "output_type": "stream",
     "text": [
      "Train Epoch: 0 [2600/3498 (74%)]\tLoss: 0.911618\n",
      "Train Epoch: 0 [2800/3498 (80%)]\tLoss: 0.583908\n"
     ]
    },
    {
     "name": "stderr",
     "output_type": "stream",
     "text": [
      "875it [00:00, 1747.28it/s]\n"
     ]
    },
    {
     "name": "stdout",
     "output_type": "stream",
     "text": [
      "Train Epoch: 0 [3000/3498 (86%)]\tLoss: 0.555772\n",
      "Train Epoch: 0 [3200/3498 (91%)]\tLoss: 0.532806\n"
     ]
    },
    {
     "name": "stderr",
     "output_type": "stream",
     "text": [
      "875it [00:00, 1669.07it/s]\n"
     ]
    },
    {
     "name": "stdout",
     "output_type": "stream",
     "text": [
      "Train Epoch: 0 [3400/3498 (97%)]\tLoss: 0.089139\n",
      "Train Epoch: 1 [0/3498 (0%)]\tLoss: 0.259677\n"
     ]
    },
    {
     "name": "stderr",
     "output_type": "stream",
     "text": [
      "875it [00:00, 1729.66it/s]\n"
     ]
    },
    {
     "name": "stdout",
     "output_type": "stream",
     "text": [
      "Train Epoch: 1 [200/3498 (6%)]\tLoss: 0.335821\n",
      "Train Epoch: 1 [400/3498 (11%)]\tLoss: 0.229916\n"
     ]
    },
    {
     "name": "stderr",
     "output_type": "stream",
     "text": [
      "875it [00:00, 1679.03it/s]\n"
     ]
    },
    {
     "name": "stdout",
     "output_type": "stream",
     "text": [
      "Train Epoch: 1 [600/3498 (17%)]\tLoss: 0.109906\n",
      "Train Epoch: 1 [800/3498 (23%)]\tLoss: 0.130556\n"
     ]
    },
    {
     "name": "stderr",
     "output_type": "stream",
     "text": [
      "875it [00:00, 1687.91it/s]\n"
     ]
    },
    {
     "name": "stdout",
     "output_type": "stream",
     "text": [
      "Train Epoch: 1 [1000/3498 (29%)]\tLoss: 0.085330\n",
      "Train Epoch: 1 [1200/3498 (34%)]\tLoss: 0.144508\n"
     ]
    },
    {
     "name": "stderr",
     "output_type": "stream",
     "text": [
      "875it [00:00, 1689.93it/s]\n"
     ]
    },
    {
     "name": "stdout",
     "output_type": "stream",
     "text": [
      "Train Epoch: 1 [1400/3498 (40%)]\tLoss: 0.007867\n",
      "Train Epoch: 1 [1600/3498 (46%)]\tLoss: 0.038786\n"
     ]
    },
    {
     "name": "stderr",
     "output_type": "stream",
     "text": [
      "875it [00:00, 1695.26it/s]\n"
     ]
    },
    {
     "name": "stdout",
     "output_type": "stream",
     "text": [
      "Train Epoch: 1 [1800/3498 (51%)]\tLoss: 0.030866\n",
      "Train Epoch: 1 [2000/3498 (57%)]\tLoss: 0.027135\n"
     ]
    },
    {
     "name": "stderr",
     "output_type": "stream",
     "text": [
      "875it [00:00, 1652.70it/s]\n"
     ]
    },
    {
     "name": "stdout",
     "output_type": "stream",
     "text": [
      "Train Epoch: 1 [2200/3498 (63%)]\tLoss: 0.013651\n",
      "Train Epoch: 1 [2400/3498 (69%)]\tLoss: 0.008637\n"
     ]
    },
    {
     "name": "stderr",
     "output_type": "stream",
     "text": [
      "875it [00:00, 1651.24it/s]\n"
     ]
    },
    {
     "name": "stdout",
     "output_type": "stream",
     "text": [
      "Train Epoch: 1 [2600/3498 (74%)]\tLoss: 0.016685\n",
      "Train Epoch: 1 [2800/3498 (80%)]\tLoss: 0.003879\n"
     ]
    },
    {
     "name": "stderr",
     "output_type": "stream",
     "text": [
      "875it [00:00, 1678.51it/s]\n"
     ]
    },
    {
     "name": "stdout",
     "output_type": "stream",
     "text": [
      "Train Epoch: 1 [3000/3498 (86%)]\tLoss: 0.004912\n",
      "Train Epoch: 1 [3200/3498 (91%)]\tLoss: 0.012622\n"
     ]
    },
    {
     "name": "stderr",
     "output_type": "stream",
     "text": [
      "875it [00:00, 1685.01it/s]\n"
     ]
    },
    {
     "name": "stdout",
     "output_type": "stream",
     "text": [
      "Train Epoch: 1 [3400/3498 (97%)]\tLoss: 0.006914\n",
      "Train Epoch: 2 [0/3498 (0%)]\tLoss: 0.007064\n"
     ]
    },
    {
     "name": "stderr",
     "output_type": "stream",
     "text": [
      "875it [00:00, 1691.12it/s]\n"
     ]
    },
    {
     "name": "stdout",
     "output_type": "stream",
     "text": [
      "Train Epoch: 2 [200/3498 (6%)]\tLoss: 0.006307\n",
      "Train Epoch: 2 [400/3498 (11%)]\tLoss: 0.002057\n"
     ]
    },
    {
     "name": "stderr",
     "output_type": "stream",
     "text": [
      "875it [00:00, 1690.66it/s]\n"
     ]
    },
    {
     "name": "stdout",
     "output_type": "stream",
     "text": [
      "Train Epoch: 2 [600/3498 (17%)]\tLoss: 0.005455\n",
      "Train Epoch: 2 [800/3498 (23%)]\tLoss: 0.005663\n"
     ]
    },
    {
     "name": "stderr",
     "output_type": "stream",
     "text": [
      "875it [00:00, 1694.66it/s]\n"
     ]
    },
    {
     "name": "stdout",
     "output_type": "stream",
     "text": [
      "Train Epoch: 2 [1000/3498 (29%)]\tLoss: 0.002776\n",
      "Train Epoch: 2 [1200/3498 (34%)]\tLoss: 0.003710\n"
     ]
    },
    {
     "name": "stderr",
     "output_type": "stream",
     "text": [
      "875it [00:00, 1696.51it/s]\n"
     ]
    },
    {
     "name": "stdout",
     "output_type": "stream",
     "text": [
      "Train Epoch: 2 [1400/3498 (40%)]\tLoss: 0.001358\n",
      "Train Epoch: 2 [1600/3498 (46%)]\tLoss: 0.002874\n"
     ]
    },
    {
     "name": "stderr",
     "output_type": "stream",
     "text": [
      "875it [00:00, 1691.10it/s]\n"
     ]
    },
    {
     "name": "stdout",
     "output_type": "stream",
     "text": [
      "Train Epoch: 2 [1800/3498 (51%)]\tLoss: 0.001183\n",
      "Train Epoch: 2 [2000/3498 (57%)]\tLoss: 0.002314\n"
     ]
    },
    {
     "name": "stderr",
     "output_type": "stream",
     "text": [
      "875it [00:00, 1684.91it/s]\n"
     ]
    },
    {
     "name": "stdout",
     "output_type": "stream",
     "text": [
      "Train Epoch: 2 [2200/3498 (63%)]\tLoss: 0.003447\n",
      "Train Epoch: 2 [2400/3498 (69%)]\tLoss: 0.001219\n"
     ]
    },
    {
     "name": "stderr",
     "output_type": "stream",
     "text": [
      "875it [00:00, 1582.05it/s]\n"
     ]
    },
    {
     "name": "stdout",
     "output_type": "stream",
     "text": [
      "Train Epoch: 2 [2600/3498 (74%)]\tLoss: 0.001134\n",
      "Train Epoch: 2 [2800/3498 (80%)]\tLoss: 0.001600\n"
     ]
    },
    {
     "name": "stderr",
     "output_type": "stream",
     "text": [
      "875it [00:00, 1682.68it/s]\n"
     ]
    },
    {
     "name": "stdout",
     "output_type": "stream",
     "text": [
      "Train Epoch: 2 [3000/3498 (86%)]\tLoss: 0.002255\n",
      "Train Epoch: 2 [3200/3498 (91%)]\tLoss: 0.001355\n"
     ]
    },
    {
     "name": "stderr",
     "output_type": "stream",
     "text": [
      "875it [00:00, 1681.21it/s]\n"
     ]
    },
    {
     "name": "stdout",
     "output_type": "stream",
     "text": [
      "Train Epoch: 2 [3400/3498 (97%)]\tLoss: 0.001476\n",
      "Train Epoch: 3 [0/3498 (0%)]\tLoss: 0.000969\n"
     ]
    },
    {
     "name": "stderr",
     "output_type": "stream",
     "text": [
      "875it [00:00, 1692.21it/s]\n"
     ]
    },
    {
     "name": "stdout",
     "output_type": "stream",
     "text": [
      "Train Epoch: 3 [200/3498 (6%)]\tLoss: 0.000590\n",
      "Train Epoch: 3 [400/3498 (11%)]\tLoss: 0.000925\n"
     ]
    },
    {
     "name": "stderr",
     "output_type": "stream",
     "text": [
      "875it [00:00, 1694.93it/s]\n"
     ]
    },
    {
     "name": "stdout",
     "output_type": "stream",
     "text": [
      "Train Epoch: 3 [600/3498 (17%)]\tLoss: 0.000701\n",
      "Train Epoch: 3 [800/3498 (23%)]\tLoss: 0.000753\n"
     ]
    },
    {
     "name": "stderr",
     "output_type": "stream",
     "text": [
      "875it [00:00, 1691.22it/s]\n"
     ]
    },
    {
     "name": "stdout",
     "output_type": "stream",
     "text": [
      "Train Epoch: 3 [1000/3498 (29%)]\tLoss: 0.000781\n",
      "Train Epoch: 3 [1200/3498 (34%)]\tLoss: 0.001256\n"
     ]
    },
    {
     "name": "stderr",
     "output_type": "stream",
     "text": [
      "875it [00:00, 1690.51it/s]\n"
     ]
    },
    {
     "name": "stdout",
     "output_type": "stream",
     "text": [
      "Train Epoch: 3 [1400/3498 (40%)]\tLoss: 0.000578\n",
      "Train Epoch: 3 [1600/3498 (46%)]\tLoss: 0.000548\n"
     ]
    },
    {
     "name": "stderr",
     "output_type": "stream",
     "text": [
      "875it [00:00, 1695.22it/s]\n"
     ]
    },
    {
     "name": "stdout",
     "output_type": "stream",
     "text": [
      "Train Epoch: 3 [1800/3498 (51%)]\tLoss: 0.000496\n",
      "Train Epoch: 3 [2000/3498 (57%)]\tLoss: 0.000489\n"
     ]
    },
    {
     "name": "stderr",
     "output_type": "stream",
     "text": [
      "875it [00:00, 1695.56it/s]\n"
     ]
    },
    {
     "name": "stdout",
     "output_type": "stream",
     "text": [
      "Train Epoch: 3 [2200/3498 (63%)]\tLoss: 0.000306\n",
      "Train Epoch: 3 [2400/3498 (69%)]\tLoss: 0.000606\n"
     ]
    },
    {
     "name": "stderr",
     "output_type": "stream",
     "text": [
      "875it [00:00, 1685.06it/s]\n"
     ]
    },
    {
     "name": "stdout",
     "output_type": "stream",
     "text": [
      "Train Epoch: 3 [2600/3498 (74%)]\tLoss: 0.000269\n",
      "Train Epoch: 3 [2800/3498 (80%)]\tLoss: 0.000468\n"
     ]
    },
    {
     "name": "stderr",
     "output_type": "stream",
     "text": [
      "875it [00:00, 1655.85it/s]\n"
     ]
    },
    {
     "name": "stdout",
     "output_type": "stream",
     "text": [
      "Train Epoch: 3 [3000/3498 (86%)]\tLoss: 0.000539\n",
      "Train Epoch: 3 [3200/3498 (91%)]\tLoss: 0.000325\n"
     ]
    },
    {
     "name": "stderr",
     "output_type": "stream",
     "text": [
      "875it [00:00, 1648.80it/s]\n"
     ]
    },
    {
     "name": "stdout",
     "output_type": "stream",
     "text": [
      "Train Epoch: 3 [3400/3498 (97%)]\tLoss: 0.000263\n",
      "Train Epoch: 4 [0/3498 (0%)]\tLoss: 0.000296\n"
     ]
    },
    {
     "name": "stderr",
     "output_type": "stream",
     "text": [
      "875it [00:00, 1681.45it/s]\n"
     ]
    },
    {
     "name": "stdout",
     "output_type": "stream",
     "text": [
      "Train Epoch: 4 [200/3498 (6%)]\tLoss: 0.000521\n",
      "Train Epoch: 4 [400/3498 (11%)]\tLoss: 0.000412\n"
     ]
    },
    {
     "name": "stderr",
     "output_type": "stream",
     "text": [
      "875it [00:00, 1616.38it/s]\n"
     ]
    },
    {
     "name": "stdout",
     "output_type": "stream",
     "text": [
      "Train Epoch: 4 [600/3498 (17%)]\tLoss: 0.000224\n",
      "Train Epoch: 4 [800/3498 (23%)]\tLoss: 0.000375\n"
     ]
    },
    {
     "name": "stderr",
     "output_type": "stream",
     "text": [
      "875it [00:00, 1723.91it/s]\n"
     ]
    },
    {
     "name": "stdout",
     "output_type": "stream",
     "text": [
      "Train Epoch: 4 [1000/3498 (29%)]\tLoss: 0.000215\n",
      "Train Epoch: 4 [1200/3498 (34%)]\tLoss: 0.000172\n"
     ]
    },
    {
     "name": "stderr",
     "output_type": "stream",
     "text": [
      "875it [00:00, 1729.90it/s]\n"
     ]
    },
    {
     "name": "stdout",
     "output_type": "stream",
     "text": [
      "Train Epoch: 4 [1400/3498 (40%)]\tLoss: 0.000304\n",
      "Train Epoch: 4 [1600/3498 (46%)]\tLoss: 0.000108\n"
     ]
    },
    {
     "name": "stderr",
     "output_type": "stream",
     "text": [
      "875it [00:00, 1699.43it/s]\n"
     ]
    },
    {
     "name": "stdout",
     "output_type": "stream",
     "text": [
      "Train Epoch: 4 [1800/3498 (51%)]\tLoss: 0.000232\n",
      "Train Epoch: 4 [2000/3498 (57%)]\tLoss: 0.000153\n"
     ]
    },
    {
     "name": "stderr",
     "output_type": "stream",
     "text": [
      "875it [00:00, 1725.12it/s]\n"
     ]
    },
    {
     "name": "stdout",
     "output_type": "stream",
     "text": [
      "Train Epoch: 4 [2200/3498 (63%)]\tLoss: 0.000191\n",
      "Train Epoch: 4 [2400/3498 (69%)]\tLoss: 0.000291\n"
     ]
    },
    {
     "name": "stderr",
     "output_type": "stream",
     "text": [
      "875it [00:00, 1721.39it/s]\n"
     ]
    },
    {
     "name": "stdout",
     "output_type": "stream",
     "text": [
      "Train Epoch: 4 [2600/3498 (74%)]\tLoss: 0.000300\n",
      "Train Epoch: 4 [2800/3498 (80%)]\tLoss: 0.000289\n"
     ]
    },
    {
     "name": "stderr",
     "output_type": "stream",
     "text": [
      "875it [00:00, 1721.99it/s]\n"
     ]
    },
    {
     "name": "stdout",
     "output_type": "stream",
     "text": [
      "Train Epoch: 4 [3000/3498 (86%)]\tLoss: 0.000232\n",
      "Train Epoch: 4 [3200/3498 (91%)]\tLoss: 0.000330\n"
     ]
    },
    {
     "name": "stderr",
     "output_type": "stream",
     "text": [
      "875it [00:00, 1717.80it/s]\n"
     ]
    },
    {
     "name": "stdout",
     "output_type": "stream",
     "text": [
      "Train Epoch: 4 [3400/3498 (97%)]\tLoss: 0.000207\n"
     ]
    }
   ],
   "source": [
    "trainer.run()"
   ]
  },
  {
   "cell_type": "code",
   "execution_count": 12,
   "metadata": {},
   "outputs": [],
   "source": [
    "x = dataset_train[0][0].view(1,-1)\n",
    "\n",
    "o = model(x)"
   ]
  },
  {
   "cell_type": "code",
   "execution_count": 13,
   "metadata": {},
   "outputs": [
    {
     "data": {
      "text/plain": [
       "tensor([[2.1254e-04, 9.9958e-01, 2.1144e-04]], grad_fn=<SoftmaxBackward0>)"
      ]
     },
     "execution_count": 13,
     "metadata": {},
     "output_type": "execute_result"
    }
   ],
   "source": [
    "torch.nn.functional.softmax(o, dim=1)"
   ]
  },
  {
   "cell_type": "code",
   "execution_count": 14,
   "metadata": {},
   "outputs": [
    {
     "data": {
      "image/png": "[encoded data removed]",
      "text/plain": [
       "<Figure size 1200x300 with 1 Axes>"
      ]
     },
     "metadata": {},
     "output_type": "display_data"
    }
   ],
   "source": [
    "loss_history = trainer.loss_history\n",
    "\n",
    "plt.figure(figsize=(12,3))\n",
    "plt.plot(loss_history)\n",
    "plt.show()"
   ]
  },
  {
   "cell_type": "code",
   "execution_count": 15,
   "metadata": {},
   "outputs": [
    {
     "data": {
      "image/png": "[encoded data removed]",
      "text/plain": [
       "<Figure size 1200x300 with 1 Axes>"
      ]
     },
     "metadata": {},
     "output_type": "display_data"
    }
   ],
   "source": [
    "plt.figure(figsize=(12,3))\n",
    "plt.plot(trainer.val_loss_iters, trainer.val_loss_history)\n",
    "plt.show()"
   ]
  },
  {
   "cell_type": "code",
   "execution_count": 16,
   "metadata": {},
   "outputs": [],
   "source": [
    "x = [0,1]\n",
    "T = 20\n",
    "\n",
    "o = generate_sample(x, model, length=T)"
   ]
  },
  {
   "cell_type": "code",
   "execution_count": 17,
   "metadata": {},
   "outputs": [
    {
     "data": {
      "text/plain": [
       "[2, 0, 2, 1, 0, 0, 1, 2, 0, 2, 1, 0, 0, 1, 2, 0, 2, 1, 0, 0]"
      ]
     },
     "execution_count": 17,
     "metadata": {},
     "output_type": "execute_result"
    }
   ],
   "source": [
    "o"
   ]
  },
  {
   "cell_type": "code",
   "execution_count": null,
   "metadata": {},
   "outputs": [],
   "source": []
  },
  {
   "cell_type": "code",
   "execution_count": null,
   "metadata": {},
   "outputs": [],
   "source": []
  }
 ],
 "metadata": {
  "kernelspec": {
   "display_name": "Python [conda env:transformers_simple]",
   "language": "python",
   "name": "conda-env-transformers_simple-py"
  },
  "language_info": {
   "codemirror_mode": {
    "name": "ipython",
    "version": 3
   },
   "file_extension": ".py",
   "mimetype": "text/x-python",
   "name": "python",
   "nbconvert_exporter": "python",
   "pygments_lexer": "ipython3",
   "version": "3.10.12"
  }
 },
 "nbformat": 4,
 "nbformat_minor": 4
}
