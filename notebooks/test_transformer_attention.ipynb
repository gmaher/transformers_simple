{
 "cells": [
  {
   "cell_type": "code",
   "execution_count": 25,
   "metadata": {},
   "outputs": [],
   "source": [
    "import sys\n",
    "import os\n",
    "sys.path.append(os.path.abspath('..'))\n",
    "\n",
    "import matplotlib.pyplot as plt\n",
    "import torch\n",
    "from torch.utils.data import TensorDataset, DataLoader\n",
    "torch.set_default_device('cpu')\n",
    "\n",
    "import numpy as np\n",
    "\n",
    "from transformers_simple.transformer import MultiHeadAttention\n",
    "from transformers_simple.train import Trainer\n",
    "from transformers_simple.dataset import CharDataset"
   ]
  },
  {
   "cell_type": "code",
   "execution_count": 26,
   "metadata": {},
   "outputs": [],
   "source": [
    "N = 4\n",
    "\n",
    "block_size  = 2\n",
    "embed_size  = 6\n",
    "hidden_size = 30\n",
    "num_heads = 3\n",
    "\n",
    "vocab_size  = 3\n",
    "input_size = embed_size\n",
    "output_size = 20\n",
    "\n",
    "log_interval = 50\n",
    "epochs = 5\n",
    "learning_rate = 2e-4\n",
    "device = torch.device('cpu')"
   ]
  },
  {
   "cell_type": "code",
   "execution_count": 27,
   "metadata": {},
   "outputs": [],
   "source": [
    "# #block size 1\n",
    "# data = \"\".join([\"abca\"]*1000)"
   ]
  },
  {
   "cell_type": "code",
   "execution_count": 28,
   "metadata": {},
   "outputs": [],
   "source": [
    "# block size 2\n",
    "data = \"\".join([\"aabcacb\"]*1000)"
   ]
  },
  {
   "cell_type": "code",
   "execution_count": 29,
   "metadata": {},
   "outputs": [
    {
     "data": {
      "text/plain": [
       "(tensor([0, 0]), tensor([0, 1]))"
      ]
     },
     "execution_count": 29,
     "metadata": {},
     "output_type": "execute_result"
    }
   ],
   "source": [
    "dataset = CharDataset(data=data, block_size=block_size)\n",
    "dataset[0]"
   ]
  },
  {
   "cell_type": "code",
   "execution_count": 30,
   "metadata": {},
   "outputs": [],
   "source": [
    "class AdapterNet(torch.nn.Module):\n",
    "    def __init__(self, net):\n",
    "        super(AdapterNet,self).__init__()\n",
    "        self.net = net\n",
    "        self.embedding = torch.nn.Embedding(num_embeddings=vocab_size, embedding_dim=embed_size)\n",
    "        self.fc = torch.nn.Linear(output_size, vocab_size)\n",
    "        self.act = torch.nn.LeakyReLU(0.05)\n",
    "        \n",
    "    def forward(self, x):\n",
    "        nb, l = x.size()\n",
    "\n",
    "        o = self.embedding(x)\n",
    "        \n",
    "        o = self.net(o)\n",
    "\n",
    "        o = self.act(o)\n",
    "        \n",
    "        o = self.fc(o)\n",
    "        \n",
    "        return o\n",
    "    \n",
    "net = MultiHeadAttention(input_size=input_size, output_size=output_size, \n",
    "          hidden_size=hidden_size, num_heads=num_heads, block_size=block_size,\n",
    "                        attn_dropout=0.0, residual_dropout=0.0)\n",
    "\n",
    "model = AdapterNet(net)"
   ]
  },
  {
   "cell_type": "code",
   "execution_count": 31,
   "metadata": {},
   "outputs": [],
   "source": [
    "x = dataset[0][0].view(1,-1)\n",
    "y = dataset[0][1]"
   ]
  },
  {
   "cell_type": "code",
   "execution_count": 32,
   "metadata": {},
   "outputs": [
    {
     "name": "stdout",
     "output_type": "stream",
     "text": [
      "tensor([0, 1])\n",
      "torch.Size([2])\n"
     ]
    }
   ],
   "source": [
    "print(y)\n",
    "print(y.size())"
   ]
  },
  {
   "cell_type": "code",
   "execution_count": 33,
   "metadata": {},
   "outputs": [
    {
     "data": {
      "text/plain": [
       "torch.Size([1, 2, 3])"
      ]
     },
     "execution_count": 33,
     "metadata": {},
     "output_type": "execute_result"
    }
   ],
   "source": [
    "o = model(x)\n",
    "o.size()"
   ]
  },
  {
   "cell_type": "code",
   "execution_count": 34,
   "metadata": {},
   "outputs": [],
   "source": [
    "loss = torch.nn.CrossEntropyLoss()\n",
    "\n",
    "def loss_fn(o,y):\n",
    "    #return loss(o.view(-1,vocab_size),y.view(-1))\n",
    "    return loss(o[:,-1],y[:,-1])"
   ]
  },
  {
   "cell_type": "code",
   "execution_count": 35,
   "metadata": {},
   "outputs": [],
   "source": [
    "trainer = Trainer(model=model, \n",
    "                  dataset=dataset, \n",
    "                  loss_fn=loss_fn, \n",
    "                  batch_size=N, \n",
    "                  learning_rate=learning_rate,\n",
    "                  epochs=epochs, \n",
    "                  log_interval=log_interval, \n",
    "                  device=device)"
   ]
  },
  {
   "cell_type": "code",
   "execution_count": 36,
   "metadata": {},
   "outputs": [
    {
     "name": "stdout",
     "output_type": "stream",
     "text": [
      "Train Epoch: 0 [0/6998 (0%)]\tLoss: 1.167538\n",
      "Train Epoch: 0 [200/6998 (3%)]\tLoss: 1.074277\n",
      "Train Epoch: 0 [400/6998 (6%)]\tLoss: 0.989603\n",
      "Train Epoch: 0 [600/6998 (9%)]\tLoss: 0.908913\n",
      "Train Epoch: 0 [800/6998 (11%)]\tLoss: 0.806314\n",
      "Train Epoch: 0 [1000/6998 (14%)]\tLoss: 0.509180\n",
      "Train Epoch: 0 [1200/6998 (17%)]\tLoss: 0.716833\n",
      "Train Epoch: 0 [1400/6998 (20%)]\tLoss: 0.749407\n",
      "Train Epoch: 0 [1600/6998 (23%)]\tLoss: 0.423616\n",
      "Train Epoch: 0 [1800/6998 (26%)]\tLoss: 0.235120\n",
      "Train Epoch: 0 [2000/6998 (29%)]\tLoss: 0.287791\n",
      "Train Epoch: 0 [2200/6998 (31%)]\tLoss: 0.246242\n",
      "Train Epoch: 0 [2400/6998 (34%)]\tLoss: 0.129245\n",
      "Train Epoch: 0 [2600/6998 (37%)]\tLoss: 0.109282\n",
      "Train Epoch: 0 [2800/6998 (40%)]\tLoss: 0.031944\n",
      "Train Epoch: 0 [3000/6998 (43%)]\tLoss: 0.104645\n",
      "Train Epoch: 0 [3200/6998 (46%)]\tLoss: 0.050543\n",
      "Train Epoch: 0 [3400/6998 (49%)]\tLoss: 0.033571\n",
      "Train Epoch: 0 [3600/6998 (51%)]\tLoss: 0.035075\n",
      "Train Epoch: 0 [3800/6998 (54%)]\tLoss: 0.040291\n",
      "Train Epoch: 0 [4000/6998 (57%)]\tLoss: 0.012939\n",
      "Train Epoch: 0 [4200/6998 (60%)]\tLoss: 0.030326\n",
      "Train Epoch: 0 [4400/6998 (63%)]\tLoss: 0.021640\n",
      "Train Epoch: 0 [4600/6998 (66%)]\tLoss: 0.024127\n",
      "Train Epoch: 0 [4800/6998 (69%)]\tLoss: 0.013031\n",
      "Train Epoch: 0 [5000/6998 (71%)]\tLoss: 0.010067\n",
      "Train Epoch: 0 [5200/6998 (74%)]\tLoss: 0.009629\n",
      "Train Epoch: 0 [5400/6998 (77%)]\tLoss: 0.009159\n",
      "Train Epoch: 0 [5600/6998 (80%)]\tLoss: 0.008509\n",
      "Train Epoch: 0 [5800/6998 (83%)]\tLoss: 0.006432\n",
      "Train Epoch: 0 [6000/6998 (86%)]\tLoss: 0.011157\n",
      "Train Epoch: 0 [6200/6998 (89%)]\tLoss: 0.008300\n",
      "Train Epoch: 0 [6400/6998 (91%)]\tLoss: 0.004823\n",
      "Train Epoch: 0 [6600/6998 (94%)]\tLoss: 0.004152\n",
      "Train Epoch: 0 [6800/6998 (97%)]\tLoss: 0.003808\n",
      "Train Epoch: 1 [0/6998 (0%)]\tLoss: 0.004101\n",
      "Train Epoch: 1 [200/6998 (3%)]\tLoss: 0.003092\n",
      "Train Epoch: 1 [400/6998 (6%)]\tLoss: 0.003922\n",
      "Train Epoch: 1 [600/6998 (9%)]\tLoss: 0.001842\n",
      "Train Epoch: 1 [800/6998 (11%)]\tLoss: 0.004155\n",
      "Train Epoch: 1 [1000/6998 (14%)]\tLoss: 0.003702\n",
      "Train Epoch: 1 [1200/6998 (17%)]\tLoss: 0.003095\n",
      "Train Epoch: 1 [1400/6998 (20%)]\tLoss: 0.002906\n",
      "Train Epoch: 1 [1600/6998 (23%)]\tLoss: 0.002785\n",
      "Train Epoch: 1 [1800/6998 (26%)]\tLoss: 0.002590\n",
      "Train Epoch: 1 [2000/6998 (29%)]\tLoss: 0.001182\n",
      "Train Epoch: 1 [2200/6998 (31%)]\tLoss: 0.002223\n",
      "Train Epoch: 1 [2400/6998 (34%)]\tLoss: 0.001844\n",
      "Train Epoch: 1 [2600/6998 (37%)]\tLoss: 0.001088\n",
      "Train Epoch: 1 [2800/6998 (40%)]\tLoss: 0.001477\n",
      "Train Epoch: 1 [3000/6998 (43%)]\tLoss: 0.001775\n",
      "Train Epoch: 1 [3200/6998 (46%)]\tLoss: 0.000456\n",
      "Train Epoch: 1 [3400/6998 (49%)]\tLoss: 0.001324\n",
      "Train Epoch: 1 [3600/6998 (51%)]\tLoss: 0.001136\n",
      "Train Epoch: 1 [3800/6998 (54%)]\tLoss: 0.000841\n",
      "Train Epoch: 1 [4000/6998 (57%)]\tLoss: 0.000878\n",
      "Train Epoch: 1 [4200/6998 (60%)]\tLoss: 0.001078\n",
      "Train Epoch: 1 [4400/6998 (63%)]\tLoss: 0.001145\n",
      "Train Epoch: 1 [4600/6998 (66%)]\tLoss: 0.000638\n",
      "Train Epoch: 1 [4800/6998 (69%)]\tLoss: 0.000509\n",
      "Train Epoch: 1 [5000/6998 (71%)]\tLoss: 0.000530\n",
      "Train Epoch: 1 [5200/6998 (74%)]\tLoss: 0.000835\n",
      "Train Epoch: 1 [5400/6998 (77%)]\tLoss: 0.000611\n",
      "Train Epoch: 1 [5600/6998 (80%)]\tLoss: 0.000620\n",
      "Train Epoch: 1 [5800/6998 (83%)]\tLoss: 0.000882\n",
      "Train Epoch: 1 [6000/6998 (86%)]\tLoss: 0.000524\n",
      "Train Epoch: 1 [6200/6998 (89%)]\tLoss: 0.000534\n",
      "Train Epoch: 1 [6400/6998 (91%)]\tLoss: 0.000519\n",
      "Train Epoch: 1 [6600/6998 (94%)]\tLoss: 0.000342\n",
      "Train Epoch: 1 [6800/6998 (97%)]\tLoss: 0.000563\n",
      "Train Epoch: 2 [0/6998 (0%)]\tLoss: 0.000196\n",
      "Train Epoch: 2 [200/6998 (3%)]\tLoss: 0.000286\n",
      "Train Epoch: 2 [400/6998 (6%)]\tLoss: 0.000502\n",
      "Train Epoch: 2 [600/6998 (9%)]\tLoss: 0.000397\n",
      "Train Epoch: 2 [800/6998 (11%)]\tLoss: 0.000229\n",
      "Train Epoch: 2 [1000/6998 (14%)]\tLoss: 0.000532\n",
      "Train Epoch: 2 [1200/6998 (17%)]\tLoss: 0.000450\n",
      "Train Epoch: 2 [1400/6998 (20%)]\tLoss: 0.000220\n",
      "Train Epoch: 2 [1600/6998 (23%)]\tLoss: 0.000211\n",
      "Train Epoch: 2 [1800/6998 (26%)]\tLoss: 0.000350\n",
      "Train Epoch: 2 [2000/6998 (29%)]\tLoss: 0.000248\n",
      "Train Epoch: 2 [2200/6998 (31%)]\tLoss: 0.000347\n",
      "Train Epoch: 2 [2400/6998 (34%)]\tLoss: 0.000237\n",
      "Train Epoch: 2 [2600/6998 (37%)]\tLoss: 0.000361\n",
      "Train Epoch: 2 [2800/6998 (40%)]\tLoss: 0.000249\n",
      "Train Epoch: 2 [3000/6998 (43%)]\tLoss: 0.000296\n",
      "Train Epoch: 2 [3200/6998 (46%)]\tLoss: 0.000406\n",
      "Train Epoch: 2 [3400/6998 (49%)]\tLoss: 0.000253\n",
      "Train Epoch: 2 [3600/6998 (51%)]\tLoss: 0.000184\n",
      "Train Epoch: 2 [3800/6998 (54%)]\tLoss: 0.000221\n",
      "Train Epoch: 2 [4000/6998 (57%)]\tLoss: 0.000180\n",
      "Train Epoch: 2 [4200/6998 (60%)]\tLoss: 0.000131\n",
      "Train Epoch: 2 [4400/6998 (63%)]\tLoss: 0.000128\n",
      "Train Epoch: 2 [4600/6998 (66%)]\tLoss: 0.000164\n",
      "Train Epoch: 2 [4800/6998 (69%)]\tLoss: 0.000216\n",
      "Train Epoch: 2 [5000/6998 (71%)]\tLoss: 0.000209\n",
      "Train Epoch: 2 [5200/6998 (74%)]\tLoss: 0.000202\n",
      "Train Epoch: 2 [5400/6998 (77%)]\tLoss: 0.000131\n",
      "Train Epoch: 2 [5600/6998 (80%)]\tLoss: 0.000193\n",
      "Train Epoch: 2 [5800/6998 (83%)]\tLoss: 0.000247\n",
      "Train Epoch: 2 [6000/6998 (86%)]\tLoss: 0.000177\n",
      "Train Epoch: 2 [6200/6998 (89%)]\tLoss: 0.000216\n",
      "Train Epoch: 2 [6400/6998 (91%)]\tLoss: 0.000160\n",
      "Train Epoch: 2 [6600/6998 (94%)]\tLoss: 0.000160\n",
      "Train Epoch: 2 [6800/6998 (97%)]\tLoss: 0.000163\n",
      "Train Epoch: 3 [0/6998 (0%)]\tLoss: 0.000111\n",
      "Train Epoch: 3 [200/6998 (3%)]\tLoss: 0.000124\n",
      "Train Epoch: 3 [400/6998 (6%)]\tLoss: 0.000116\n",
      "Train Epoch: 3 [600/6998 (9%)]\tLoss: 0.000053\n",
      "Train Epoch: 3 [800/6998 (11%)]\tLoss: 0.000093\n",
      "Train Epoch: 3 [1000/6998 (14%)]\tLoss: 0.000143\n",
      "Train Epoch: 3 [1200/6998 (17%)]\tLoss: 0.000050\n",
      "Train Epoch: 3 [1400/6998 (20%)]\tLoss: 0.000097\n",
      "Train Epoch: 3 [1600/6998 (23%)]\tLoss: 0.000062\n",
      "Train Epoch: 3 [1800/6998 (26%)]\tLoss: 0.000142\n",
      "Train Epoch: 3 [2000/6998 (29%)]\tLoss: 0.000065\n",
      "Train Epoch: 3 [2200/6998 (31%)]\tLoss: 0.000036\n",
      "Train Epoch: 3 [2400/6998 (34%)]\tLoss: 0.000078\n",
      "Train Epoch: 3 [2600/6998 (37%)]\tLoss: 0.000075\n",
      "Train Epoch: 3 [2800/6998 (40%)]\tLoss: 0.000085\n",
      "Train Epoch: 3 [3000/6998 (43%)]\tLoss: 0.000088\n",
      "Train Epoch: 3 [3200/6998 (46%)]\tLoss: 0.000085\n",
      "Train Epoch: 3 [3400/6998 (49%)]\tLoss: 0.000092\n",
      "Train Epoch: 3 [3600/6998 (51%)]\tLoss: 0.000077\n",
      "Train Epoch: 3 [3800/6998 (54%)]\tLoss: 0.000040\n",
      "Train Epoch: 3 [4000/6998 (57%)]\tLoss: 0.000059\n",
      "Train Epoch: 3 [4200/6998 (60%)]\tLoss: 0.000040\n",
      "Train Epoch: 3 [4400/6998 (63%)]\tLoss: 0.000088\n",
      "Train Epoch: 3 [4600/6998 (66%)]\tLoss: 0.000041\n",
      "Train Epoch: 3 [4800/6998 (69%)]\tLoss: 0.000062\n",
      "Train Epoch: 3 [5000/6998 (71%)]\tLoss: 0.000030\n",
      "Train Epoch: 3 [5200/6998 (74%)]\tLoss: 0.000047\n",
      "Train Epoch: 3 [5400/6998 (77%)]\tLoss: 0.000028\n",
      "Train Epoch: 3 [5600/6998 (80%)]\tLoss: 0.000062\n",
      "Train Epoch: 3 [5800/6998 (83%)]\tLoss: 0.000072\n",
      "Train Epoch: 3 [6000/6998 (86%)]\tLoss: 0.000052\n",
      "Train Epoch: 3 [6200/6998 (89%)]\tLoss: 0.000065\n",
      "Train Epoch: 3 [6400/6998 (91%)]\tLoss: 0.000034\n",
      "Train Epoch: 3 [6600/6998 (94%)]\tLoss: 0.000039\n",
      "Train Epoch: 3 [6800/6998 (97%)]\tLoss: 0.000047\n",
      "Train Epoch: 4 [0/6998 (0%)]\tLoss: 0.000033\n",
      "Train Epoch: 4 [200/6998 (3%)]\tLoss: 0.000031\n",
      "Train Epoch: 4 [400/6998 (6%)]\tLoss: 0.000034\n",
      "Train Epoch: 4 [600/6998 (9%)]\tLoss: 0.000039\n",
      "Train Epoch: 4 [800/6998 (11%)]\tLoss: 0.000018\n",
      "Train Epoch: 4 [1000/6998 (14%)]\tLoss: 0.000025\n",
      "Train Epoch: 4 [1200/6998 (17%)]\tLoss: 0.000024\n",
      "Train Epoch: 4 [1400/6998 (20%)]\tLoss: 0.000028\n",
      "Train Epoch: 4 [1600/6998 (23%)]\tLoss: 0.000024\n",
      "Train Epoch: 4 [1800/6998 (26%)]\tLoss: 0.000018\n",
      "Train Epoch: 4 [2000/6998 (29%)]\tLoss: 0.000023\n",
      "Train Epoch: 4 [2200/6998 (31%)]\tLoss: 0.000033\n",
      "Train Epoch: 4 [2400/6998 (34%)]\tLoss: 0.000026\n",
      "Train Epoch: 4 [2600/6998 (37%)]\tLoss: 0.000033\n",
      "Train Epoch: 4 [2800/6998 (40%)]\tLoss: 0.000021\n",
      "Train Epoch: 4 [3000/6998 (43%)]\tLoss: 0.000028\n",
      "Train Epoch: 4 [3200/6998 (46%)]\tLoss: 0.000025\n",
      "Train Epoch: 4 [3400/6998 (49%)]\tLoss: 0.000017\n",
      "Train Epoch: 4 [3600/6998 (51%)]\tLoss: 0.000013\n",
      "Train Epoch: 4 [3800/6998 (54%)]\tLoss: 0.000014\n",
      "Train Epoch: 4 [4000/6998 (57%)]\tLoss: 0.000008\n",
      "Train Epoch: 4 [4200/6998 (60%)]\tLoss: 0.000026\n",
      "Train Epoch: 4 [4400/6998 (63%)]\tLoss: 0.000024\n",
      "Train Epoch: 4 [4600/6998 (66%)]\tLoss: 0.000018\n",
      "Train Epoch: 4 [4800/6998 (69%)]\tLoss: 0.000030\n",
      "Train Epoch: 4 [5000/6998 (71%)]\tLoss: 0.000011\n",
      "Train Epoch: 4 [5200/6998 (74%)]\tLoss: 0.000015\n",
      "Train Epoch: 4 [5400/6998 (77%)]\tLoss: 0.000020\n",
      "Train Epoch: 4 [5600/6998 (80%)]\tLoss: 0.000019\n",
      "Train Epoch: 4 [5800/6998 (83%)]\tLoss: 0.000023\n",
      "Train Epoch: 4 [6000/6998 (86%)]\tLoss: 0.000012\n",
      "Train Epoch: 4 [6200/6998 (89%)]\tLoss: 0.000020\n",
      "Train Epoch: 4 [6400/6998 (91%)]\tLoss: 0.000026\n",
      "Train Epoch: 4 [6600/6998 (94%)]\tLoss: 0.000019\n"
     ]
    },
    {
     "name": "stdout",
     "output_type": "stream",
     "text": [
      "Train Epoch: 4 [6800/6998 (97%)]\tLoss: 0.000010\n"
     ]
    }
   ],
   "source": [
    "trainer.run()"
   ]
  },
  {
   "cell_type": "code",
   "execution_count": 37,
   "metadata": {},
   "outputs": [
    {
     "name": "stdout",
     "output_type": "stream",
     "text": [
      "torch.Size([1, 2])\n"
     ]
    },
    {
     "data": {
      "text/plain": [
       "torch.Size([1, 2, 3])"
      ]
     },
     "execution_count": 37,
     "metadata": {},
     "output_type": "execute_result"
    }
   ],
   "source": [
    "x = dataset[3][0].view(1,-1)\n",
    "print(x.size())\n",
    "o = model(x)\n",
    "o.size()"
   ]
  },
  {
   "cell_type": "code",
   "execution_count": 38,
   "metadata": {},
   "outputs": [
    {
     "data": {
      "text/plain": [
       "tensor([[[2.7905e-05, 5.3271e-06, 9.9997e-01],\n",
       "         [9.1311e-06, 1.2984e-05, 9.9998e-01]]], grad_fn=<SoftmaxBackward0>)"
      ]
     },
     "execution_count": 38,
     "metadata": {},
     "output_type": "execute_result"
    }
   ],
   "source": [
    "torch.nn.functional.softmax(o, dim=2)"
   ]
  },
  {
   "cell_type": "code",
   "execution_count": 39,
   "metadata": {},
   "outputs": [
    {
     "data": {
      "image/png": "[encoded data removed]",
      "text/plain": [
       "<Figure size 1200x300 with 1 Axes>"
      ]
     },
     "metadata": {},
     "output_type": "display_data"
    }
   ],
   "source": [
    "loss_history = trainer.loss_history\n",
    "\n",
    "plt.figure(figsize=(12,3))\n",
    "plt.plot(loss_history)\n",
    "plt.show()"
   ]
  },
  {
   "cell_type": "code",
   "execution_count": 40,
   "metadata": {},
   "outputs": [
    {
     "data": {
      "text/plain": [
       "tensor([[[-4.3840, -6.0400,  6.1027],\n",
       "         [-5.1369, -4.7849,  6.4669]]], grad_fn=<ViewBackward0>)"
      ]
     },
     "execution_count": 40,
     "metadata": {},
     "output_type": "execute_result"
    }
   ],
   "source": [
    "o"
   ]
  },
  {
   "cell_type": "code",
   "execution_count": 41,
   "metadata": {},
   "outputs": [
    {
     "data": {
      "text/plain": [
       "tensor([[-4.3840, -6.0400,  6.1027],\n",
       "        [-5.1369, -4.7849,  6.4669]], grad_fn=<ViewBackward0>)"
      ]
     },
     "execution_count": 41,
     "metadata": {},
     "output_type": "execute_result"
    }
   ],
   "source": [
    "o.view(-1,vocab_size)"
   ]
  },
  {
   "cell_type": "code",
   "execution_count": null,
   "metadata": {},
   "outputs": [],
   "source": []
  },
  {
   "cell_type": "code",
   "execution_count": null,
   "metadata": {},
   "outputs": [],
   "source": []
  },
  {
   "cell_type": "code",
   "execution_count": null,
   "metadata": {},
   "outputs": [],
   "source": []
  }
 ],
 "metadata": {
  "kernelspec": {
   "display_name": "Python [conda env:transformers_simple]",
   "language": "python",
   "name": "conda-env-transformers_simple-py"
  },
  "language_info": {
   "codemirror_mode": {
    "name": "ipython",
    "version": 3
   },
   "file_extension": ".py",
   "mimetype": "text/x-python",
   "name": "python",
   "nbconvert_exporter": "python",
   "pygments_lexer": "ipython3",
   "version": "3.10.12"
  }
 },
 "nbformat": 4,
 "nbformat_minor": 4
}
