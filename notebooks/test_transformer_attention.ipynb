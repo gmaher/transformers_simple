{
 "cells": [
  {
   "cell_type": "code",
   "execution_count": 1,
   "metadata": {},
   "outputs": [],
   "source": [
    "import sys\n",
    "import os\n",
    "sys.path.append(os.path.abspath('..'))\n",
    "\n",
    "import matplotlib.pyplot as plt\n",
    "import torch\n",
    "from torch.utils.data import TensorDataset, DataLoader\n",
    "torch.set_default_device('cpu')\n",
    "\n",
    "import numpy as np\n",
    "\n",
    "from transformers_simple.transformer import MultiHeadAttention\n",
    "from transformers_simple.train import Trainer\n",
    "from transformers_simple.dataset import CharDataset"
   ]
  },
  {
   "cell_type": "code",
   "execution_count": 2,
   "metadata": {},
   "outputs": [],
   "source": [
    "N = 4\n",
    "\n",
    "block_size  = 2\n",
    "embed_size  = 6\n",
    "hidden_size = 30\n",
    "num_heads = 3\n",
    "\n",
    "vocab_size  = 3\n",
    "input_size = embed_size\n",
    "output_size = 20\n",
    "\n",
    "log_interval = 50\n",
    "epochs = 5\n",
    "learning_rate = 2e-4\n",
    "device = torch.device('cpu')"
   ]
  },
  {
   "cell_type": "code",
   "execution_count": 3,
   "metadata": {},
   "outputs": [],
   "source": [
    "# #block size 1\n",
    "# data = \"\".join([\"abca\"]*1000)"
   ]
  },
  {
   "cell_type": "code",
   "execution_count": 4,
   "metadata": {},
   "outputs": [],
   "source": [
    "# block size 2\n",
    "data = \"\".join([\"aabcacb\"]*1000)"
   ]
  },
  {
   "cell_type": "code",
   "execution_count": 5,
   "metadata": {},
   "outputs": [
    {
     "data": {
      "text/plain": [
       "(tensor([0, 0]), tensor([0, 1]))"
      ]
     },
     "execution_count": 5,
     "metadata": {},
     "output_type": "execute_result"
    }
   ],
   "source": [
    "dataset = CharDataset(data=data, block_size=block_size)\n",
    "dataset[0]"
   ]
  },
  {
   "cell_type": "code",
   "execution_count": 6,
   "metadata": {},
   "outputs": [],
   "source": [
    "class AdapterNet(torch.nn.Module):\n",
    "    def __init__(self, net):\n",
    "        super(AdapterNet,self).__init__()\n",
    "        self.net = net\n",
    "        self.embedding = torch.nn.Embedding(num_embeddings=vocab_size, embedding_dim=embed_size)\n",
    "        self.fc = torch.nn.Linear(output_size, vocab_size)\n",
    "        self.act = torch.nn.LeakyReLU(0.05)\n",
    "        \n",
    "    def forward(self, x):\n",
    "        nb, l = x.size()\n",
    "\n",
    "        o = self.embedding(x)\n",
    "        \n",
    "        o = self.net(o)\n",
    "\n",
    "        o = self.act(o)\n",
    "        \n",
    "        o = self.fc(o)\n",
    "        \n",
    "        return o\n",
    "    \n",
    "net = MultiHeadAttention(input_size=input_size,\n",
    "                         output_size=output_size, \n",
    "                          hidden_size=hidden_size, \n",
    "                         num_heads=num_heads,\n",
    "                         block_size=block_size,\n",
    "                        attn_dropout=0.1,\n",
    "                         residual_dropout=0.1)\n",
    "\n",
    "model = AdapterNet(net)"
   ]
  },
  {
   "cell_type": "code",
   "execution_count": 7,
   "metadata": {},
   "outputs": [],
   "source": [
    "x = dataset[0][0].view(1,-1)\n",
    "y = dataset[0][1]"
   ]
  },
  {
   "cell_type": "code",
   "execution_count": 8,
   "metadata": {},
   "outputs": [
    {
     "name": "stdout",
     "output_type": "stream",
     "text": [
      "tensor([0, 1])\n",
      "torch.Size([2])\n"
     ]
    }
   ],
   "source": [
    "print(y)\n",
    "print(y.size())"
   ]
  },
  {
   "cell_type": "code",
   "execution_count": 9,
   "metadata": {},
   "outputs": [
    {
     "data": {
      "text/plain": [
       "torch.Size([1, 2, 3])"
      ]
     },
     "execution_count": 9,
     "metadata": {},
     "output_type": "execute_result"
    }
   ],
   "source": [
    "o = model(x)\n",
    "o.size()"
   ]
  },
  {
   "cell_type": "code",
   "execution_count": 10,
   "metadata": {},
   "outputs": [],
   "source": [
    "loss = torch.nn.CrossEntropyLoss()\n",
    "\n",
    "def loss_fn(o,y):\n",
    "    #return loss(o.view(-1,vocab_size),y.view(-1))\n",
    "    return loss(o[:,-1],y[:,-1])"
   ]
  },
  {
   "cell_type": "code",
   "execution_count": 11,
   "metadata": {},
   "outputs": [],
   "source": [
    "trainer = Trainer(model=model, \n",
    "                  dataset=dataset, \n",
    "                  loss_fn=loss_fn, \n",
    "                  batch_size=N, \n",
    "                  learning_rate=learning_rate,\n",
    "                  epochs=epochs, \n",
    "                  log_interval=log_interval, \n",
    "                  device=device)"
   ]
  },
  {
   "cell_type": "code",
   "execution_count": 12,
   "metadata": {},
   "outputs": [
    {
     "name": "stdout",
     "output_type": "stream",
     "text": [
      "Train Epoch: 0 [0/6998 (0%)]\tLoss: 1.132577\n",
      "Train Epoch: 0 [200/6998 (3%)]\tLoss: 0.963046\n",
      "Train Epoch: 0 [400/6998 (6%)]\tLoss: 0.825089\n",
      "Train Epoch: 0 [600/6998 (9%)]\tLoss: 0.561576\n",
      "Train Epoch: 0 [800/6998 (11%)]\tLoss: 0.522640\n",
      "Train Epoch: 0 [1000/6998 (14%)]\tLoss: 0.260416\n",
      "Train Epoch: 0 [1200/6998 (17%)]\tLoss: 0.698191\n",
      "Train Epoch: 0 [1400/6998 (20%)]\tLoss: 0.592338\n",
      "Train Epoch: 0 [1600/6998 (23%)]\tLoss: 0.109525\n",
      "Train Epoch: 0 [1800/6998 (26%)]\tLoss: 0.296719\n",
      "Train Epoch: 0 [2000/6998 (29%)]\tLoss: 0.066467\n",
      "Train Epoch: 0 [2200/6998 (31%)]\tLoss: 0.416834\n",
      "Train Epoch: 0 [2400/6998 (34%)]\tLoss: 0.313876\n",
      "Train Epoch: 0 [2600/6998 (37%)]\tLoss: 0.342379\n",
      "Train Epoch: 0 [2800/6998 (40%)]\tLoss: 0.143186\n",
      "Train Epoch: 0 [3000/6998 (43%)]\tLoss: 0.138313\n",
      "Train Epoch: 0 [3200/6998 (46%)]\tLoss: 0.061093\n",
      "Train Epoch: 0 [3400/6998 (49%)]\tLoss: 0.026693\n",
      "Train Epoch: 0 [3600/6998 (51%)]\tLoss: 0.018398\n",
      "Train Epoch: 0 [3800/6998 (54%)]\tLoss: 0.010554\n",
      "Train Epoch: 0 [4000/6998 (57%)]\tLoss: 0.001614\n",
      "Train Epoch: 0 [4200/6998 (60%)]\tLoss: 0.014787\n",
      "Train Epoch: 0 [4400/6998 (63%)]\tLoss: 0.005340\n",
      "Train Epoch: 0 [4600/6998 (66%)]\tLoss: 0.024532\n",
      "Train Epoch: 0 [4800/6998 (69%)]\tLoss: 0.007985\n",
      "Train Epoch: 0 [5000/6998 (71%)]\tLoss: 0.017734\n",
      "Train Epoch: 0 [5200/6998 (74%)]\tLoss: 0.002621\n",
      "Train Epoch: 0 [5400/6998 (77%)]\tLoss: 0.075713\n",
      "Train Epoch: 0 [5600/6998 (80%)]\tLoss: 0.078700\n",
      "Train Epoch: 0 [5800/6998 (83%)]\tLoss: 0.031693\n",
      "Train Epoch: 0 [6000/6998 (86%)]\tLoss: 0.004359\n",
      "Train Epoch: 0 [6200/6998 (89%)]\tLoss: 0.041304\n",
      "Train Epoch: 0 [6400/6998 (91%)]\tLoss: 0.003045\n",
      "Train Epoch: 0 [6600/6998 (94%)]\tLoss: 0.002940\n",
      "Train Epoch: 0 [6800/6998 (97%)]\tLoss: 0.003709\n",
      "Train Epoch: 1 [0/6998 (0%)]\tLoss: 0.007289\n",
      "Train Epoch: 1 [200/6998 (3%)]\tLoss: 0.047943\n",
      "Train Epoch: 1 [400/6998 (6%)]\tLoss: 0.031419\n",
      "Train Epoch: 1 [600/6998 (9%)]\tLoss: 0.002534\n",
      "Train Epoch: 1 [800/6998 (11%)]\tLoss: 0.019571\n",
      "Train Epoch: 1 [1000/6998 (14%)]\tLoss: 0.046075\n",
      "Train Epoch: 1 [1200/6998 (17%)]\tLoss: 0.001444\n",
      "Train Epoch: 1 [1400/6998 (20%)]\tLoss: 0.010390\n",
      "Train Epoch: 1 [1600/6998 (23%)]\tLoss: 0.001511\n",
      "Train Epoch: 1 [1800/6998 (26%)]\tLoss: 0.007472\n",
      "Train Epoch: 1 [2000/6998 (29%)]\tLoss: 0.042589\n",
      "Train Epoch: 1 [2200/6998 (31%)]\tLoss: 0.062257\n",
      "Train Epoch: 1 [2400/6998 (34%)]\tLoss: 0.001293\n",
      "Train Epoch: 1 [2600/6998 (37%)]\tLoss: 0.000278\n",
      "Train Epoch: 1 [2800/6998 (40%)]\tLoss: 0.001596\n",
      "Train Epoch: 1 [3000/6998 (43%)]\tLoss: 0.033089\n",
      "Train Epoch: 1 [3200/6998 (46%)]\tLoss: 0.008423\n",
      "Train Epoch: 1 [3400/6998 (49%)]\tLoss: 0.025152\n",
      "Train Epoch: 1 [3600/6998 (51%)]\tLoss: 0.001174\n",
      "Train Epoch: 1 [3800/6998 (54%)]\tLoss: 0.001387\n",
      "Train Epoch: 1 [4000/6998 (57%)]\tLoss: 0.006815\n",
      "Train Epoch: 1 [4200/6998 (60%)]\tLoss: 0.000281\n",
      "Train Epoch: 1 [4400/6998 (63%)]\tLoss: 0.000287\n",
      "Train Epoch: 1 [4600/6998 (66%)]\tLoss: 0.160729\n",
      "Train Epoch: 1 [4800/6998 (69%)]\tLoss: 0.000955\n",
      "Train Epoch: 1 [5000/6998 (71%)]\tLoss: 0.000802\n",
      "Train Epoch: 1 [5200/6998 (74%)]\tLoss: 0.001725\n",
      "Train Epoch: 1 [5400/6998 (77%)]\tLoss: 0.011558\n",
      "Train Epoch: 1 [5600/6998 (80%)]\tLoss: 0.000990\n",
      "Train Epoch: 1 [5800/6998 (83%)]\tLoss: 0.002864\n",
      "Train Epoch: 1 [6000/6998 (86%)]\tLoss: 0.033038\n",
      "Train Epoch: 1 [6200/6998 (89%)]\tLoss: 0.000106\n",
      "Train Epoch: 1 [6400/6998 (91%)]\tLoss: 0.001883\n",
      "Train Epoch: 1 [6600/6998 (94%)]\tLoss: 0.005822\n",
      "Train Epoch: 1 [6800/6998 (97%)]\tLoss: 0.000031\n",
      "Train Epoch: 2 [0/6998 (0%)]\tLoss: 0.001691\n",
      "Train Epoch: 2 [200/6998 (3%)]\tLoss: 0.000033\n",
      "Train Epoch: 2 [400/6998 (6%)]\tLoss: 0.000394\n",
      "Train Epoch: 2 [600/6998 (9%)]\tLoss: 0.000019\n",
      "Train Epoch: 2 [800/6998 (11%)]\tLoss: 0.014182\n",
      "Train Epoch: 2 [1000/6998 (14%)]\tLoss: 0.000017\n",
      "Train Epoch: 2 [1200/6998 (17%)]\tLoss: 0.000121\n",
      "Train Epoch: 2 [1400/6998 (20%)]\tLoss: 0.002521\n",
      "Train Epoch: 2 [1600/6998 (23%)]\tLoss: 0.000444\n",
      "Train Epoch: 2 [1800/6998 (26%)]\tLoss: 0.003854\n",
      "Train Epoch: 2 [2000/6998 (29%)]\tLoss: 0.001339\n",
      "Train Epoch: 2 [2200/6998 (31%)]\tLoss: 0.000408\n",
      "Train Epoch: 2 [2400/6998 (34%)]\tLoss: 0.002680\n",
      "Train Epoch: 2 [2600/6998 (37%)]\tLoss: 0.000271\n",
      "Train Epoch: 2 [2800/6998 (40%)]\tLoss: 0.025598\n",
      "Train Epoch: 2 [3000/6998 (43%)]\tLoss: 0.000082\n",
      "Train Epoch: 2 [3200/6998 (46%)]\tLoss: 0.000064\n",
      "Train Epoch: 2 [3400/6998 (49%)]\tLoss: 0.000065\n",
      "Train Epoch: 2 [3600/6998 (51%)]\tLoss: 0.000314\n",
      "Train Epoch: 2 [3800/6998 (54%)]\tLoss: 0.005665\n",
      "Train Epoch: 2 [4000/6998 (57%)]\tLoss: 0.000044\n",
      "Train Epoch: 2 [4200/6998 (60%)]\tLoss: 0.000117\n",
      "Train Epoch: 2 [4400/6998 (63%)]\tLoss: 0.001535\n",
      "Train Epoch: 2 [4600/6998 (66%)]\tLoss: 0.000002\n",
      "Train Epoch: 2 [4800/6998 (69%)]\tLoss: 0.000063\n",
      "Train Epoch: 2 [5000/6998 (71%)]\tLoss: 0.004923\n",
      "Train Epoch: 2 [5200/6998 (74%)]\tLoss: 0.019992\n",
      "Train Epoch: 2 [5400/6998 (77%)]\tLoss: 0.409685\n",
      "Train Epoch: 2 [5600/6998 (80%)]\tLoss: 0.000183\n",
      "Train Epoch: 2 [5800/6998 (83%)]\tLoss: 0.009112\n",
      "Train Epoch: 2 [6000/6998 (86%)]\tLoss: 0.000097\n",
      "Train Epoch: 2 [6200/6998 (89%)]\tLoss: 0.000024\n",
      "Train Epoch: 2 [6400/6998 (91%)]\tLoss: 0.000019\n",
      "Train Epoch: 2 [6600/6998 (94%)]\tLoss: 0.001062\n",
      "Train Epoch: 2 [6800/6998 (97%)]\tLoss: 0.000867\n",
      "Train Epoch: 3 [0/6998 (0%)]\tLoss: 0.000021\n",
      "Train Epoch: 3 [200/6998 (3%)]\tLoss: 0.000220\n",
      "Train Epoch: 3 [400/6998 (6%)]\tLoss: 0.000007\n",
      "Train Epoch: 3 [600/6998 (9%)]\tLoss: 0.005940\n",
      "Train Epoch: 3 [800/6998 (11%)]\tLoss: 0.000003\n",
      "Train Epoch: 3 [1000/6998 (14%)]\tLoss: 0.000673\n",
      "Train Epoch: 3 [1200/6998 (17%)]\tLoss: 0.000038\n",
      "Train Epoch: 3 [1400/6998 (20%)]\tLoss: 0.000130\n",
      "Train Epoch: 3 [1600/6998 (23%)]\tLoss: 0.000834\n",
      "Train Epoch: 3 [1800/6998 (26%)]\tLoss: 0.000028\n",
      "Train Epoch: 3 [2000/6998 (29%)]\tLoss: 0.000792\n",
      "Train Epoch: 3 [2200/6998 (31%)]\tLoss: 0.000958\n",
      "Train Epoch: 3 [2400/6998 (34%)]\tLoss: 0.001979\n",
      "Train Epoch: 3 [2600/6998 (37%)]\tLoss: 0.002164\n",
      "Train Epoch: 3 [2800/6998 (40%)]\tLoss: 0.013971\n",
      "Train Epoch: 3 [3000/6998 (43%)]\tLoss: 0.001906\n",
      "Train Epoch: 3 [3200/6998 (46%)]\tLoss: 0.000011\n",
      "Train Epoch: 3 [3400/6998 (49%)]\tLoss: 0.004708\n",
      "Train Epoch: 3 [3600/6998 (51%)]\tLoss: 0.000029\n",
      "Train Epoch: 3 [3800/6998 (54%)]\tLoss: 0.000044\n",
      "Train Epoch: 3 [4000/6998 (57%)]\tLoss: 0.001251\n",
      "Train Epoch: 3 [4200/6998 (60%)]\tLoss: 0.002426\n",
      "Train Epoch: 3 [4400/6998 (63%)]\tLoss: 0.000018\n",
      "Train Epoch: 3 [4600/6998 (66%)]\tLoss: 0.013107\n",
      "Train Epoch: 3 [4800/6998 (69%)]\tLoss: 0.003887\n",
      "Train Epoch: 3 [5000/6998 (71%)]\tLoss: 0.000648\n",
      "Train Epoch: 3 [5200/6998 (74%)]\tLoss: 0.000007\n",
      "Train Epoch: 3 [5400/6998 (77%)]\tLoss: 0.000048\n",
      "Train Epoch: 3 [5600/6998 (80%)]\tLoss: 0.000006\n",
      "Train Epoch: 3 [5800/6998 (83%)]\tLoss: 0.003888\n",
      "Train Epoch: 3 [6000/6998 (86%)]\tLoss: 0.010702\n",
      "Train Epoch: 3 [6200/6998 (89%)]\tLoss: 0.000797\n",
      "Train Epoch: 3 [6400/6998 (91%)]\tLoss: 0.002448\n",
      "Train Epoch: 3 [6600/6998 (94%)]\tLoss: 0.000006\n",
      "Train Epoch: 3 [6800/6998 (97%)]\tLoss: 0.000013\n",
      "Train Epoch: 4 [0/6998 (0%)]\tLoss: 0.015841\n",
      "Train Epoch: 4 [200/6998 (3%)]\tLoss: 0.000069\n",
      "Train Epoch: 4 [400/6998 (6%)]\tLoss: 0.000234\n",
      "Train Epoch: 4 [600/6998 (9%)]\tLoss: 0.000021\n",
      "Train Epoch: 4 [800/6998 (11%)]\tLoss: 0.002467\n",
      "Train Epoch: 4 [1000/6998 (14%)]\tLoss: 0.000084\n",
      "Train Epoch: 4 [1200/6998 (17%)]\tLoss: 0.000110\n",
      "Train Epoch: 4 [1400/6998 (20%)]\tLoss: 0.000051\n",
      "Train Epoch: 4 [1600/6998 (23%)]\tLoss: 0.000207\n",
      "Train Epoch: 4 [1800/6998 (26%)]\tLoss: 0.000439\n",
      "Train Epoch: 4 [2000/6998 (29%)]\tLoss: 0.001953\n",
      "Train Epoch: 4 [2200/6998 (31%)]\tLoss: 0.000088\n",
      "Train Epoch: 4 [2400/6998 (34%)]\tLoss: 0.002740\n",
      "Train Epoch: 4 [2600/6998 (37%)]\tLoss: 0.000016\n",
      "Train Epoch: 4 [2800/6998 (40%)]\tLoss: 0.000019\n",
      "Train Epoch: 4 [3000/6998 (43%)]\tLoss: 0.000062\n",
      "Train Epoch: 4 [3200/6998 (46%)]\tLoss: 0.000037\n",
      "Train Epoch: 4 [3400/6998 (49%)]\tLoss: 0.002262\n",
      "Train Epoch: 4 [3600/6998 (51%)]\tLoss: 0.000222\n",
      "Train Epoch: 4 [3800/6998 (54%)]\tLoss: 0.000046\n",
      "Train Epoch: 4 [4000/6998 (57%)]\tLoss: 0.029876\n",
      "Train Epoch: 4 [4200/6998 (60%)]\tLoss: 0.000000\n",
      "Train Epoch: 4 [4400/6998 (63%)]\tLoss: 0.000015\n",
      "Train Epoch: 4 [4600/6998 (66%)]\tLoss: 0.000055\n",
      "Train Epoch: 4 [4800/6998 (69%)]\tLoss: 0.000022\n",
      "Train Epoch: 4 [5000/6998 (71%)]\tLoss: 0.000266\n",
      "Train Epoch: 4 [5200/6998 (74%)]\tLoss: 0.000358\n",
      "Train Epoch: 4 [5400/6998 (77%)]\tLoss: 0.000126\n",
      "Train Epoch: 4 [5600/6998 (80%)]\tLoss: 0.000027\n",
      "Train Epoch: 4 [5800/6998 (83%)]\tLoss: 0.000109\n",
      "Train Epoch: 4 [6000/6998 (86%)]\tLoss: 0.000151\n",
      "Train Epoch: 4 [6200/6998 (89%)]\tLoss: 0.038299\n",
      "Train Epoch: 4 [6400/6998 (91%)]\tLoss: 0.000007\n",
      "Train Epoch: 4 [6600/6998 (94%)]\tLoss: 0.092874\n"
     ]
    },
    {
     "name": "stdout",
     "output_type": "stream",
     "text": [
      "Train Epoch: 4 [6800/6998 (97%)]\tLoss: 0.000012\n"
     ]
    }
   ],
   "source": [
    "trainer.run()"
   ]
  },
  {
   "cell_type": "code",
   "execution_count": 13,
   "metadata": {},
   "outputs": [
    {
     "name": "stdout",
     "output_type": "stream",
     "text": [
      "torch.Size([1, 2])\n"
     ]
    },
    {
     "data": {
      "text/plain": [
       "torch.Size([1, 2, 3])"
      ]
     },
     "execution_count": 13,
     "metadata": {},
     "output_type": "execute_result"
    }
   ],
   "source": [
    "x = dataset[3][0].view(1,-1)\n",
    "print(x.size())\n",
    "o = model(x)\n",
    "o.size()"
   ]
  },
  {
   "cell_type": "code",
   "execution_count": 14,
   "metadata": {},
   "outputs": [
    {
     "data": {
      "text/plain": [
       "tensor([[[1.9336e-02, 2.2386e-04, 9.8044e-01],\n",
       "         [5.0590e-08, 7.0548e-07, 1.0000e+00]]], grad_fn=<SoftmaxBackward0>)"
      ]
     },
     "execution_count": 14,
     "metadata": {},
     "output_type": "execute_result"
    }
   ],
   "source": [
    "torch.nn.functional.softmax(o, dim=2)"
   ]
  },
  {
   "cell_type": "code",
   "execution_count": 15,
   "metadata": {},
   "outputs": [
    {
     "data": {
      "image/png": "[encoded data removed]",
      "text/plain": [
       "<Figure size 1200x300 with 1 Axes>"
      ]
     },
     "metadata": {},
     "output_type": "display_data"
    }
   ],
   "source": [
    "loss_history = trainer.loss_history\n",
    "\n",
    "plt.figure(figsize=(12,3))\n",
    "plt.plot(loss_history)\n",
    "plt.show()"
   ]
  },
  {
   "cell_type": "code",
   "execution_count": 16,
   "metadata": {},
   "outputs": [
    {
     "data": {
      "text/plain": [
       "tensor([[[-1.4409, -5.8996,  2.4851],\n",
       "         [-7.4817, -4.8466,  9.3178]]], grad_fn=<ViewBackward0>)"
      ]
     },
     "execution_count": 16,
     "metadata": {},
     "output_type": "execute_result"
    }
   ],
   "source": [
    "o"
   ]
  },
  {
   "cell_type": "code",
   "execution_count": 17,
   "metadata": {},
   "outputs": [
    {
     "data": {
      "text/plain": [
       "tensor([[-1.4409, -5.8996,  2.4851],\n",
       "        [-7.4817, -4.8466,  9.3178]], grad_fn=<ViewBackward0>)"
      ]
     },
     "execution_count": 17,
     "metadata": {},
     "output_type": "execute_result"
    }
   ],
   "source": [
    "o.view(-1,vocab_size)"
   ]
  },
  {
   "cell_type": "code",
   "execution_count": null,
   "metadata": {},
   "outputs": [],
   "source": []
  },
  {
   "cell_type": "code",
   "execution_count": null,
   "metadata": {},
   "outputs": [],
   "source": []
  },
  {
   "cell_type": "code",
   "execution_count": null,
   "metadata": {},
   "outputs": [],
   "source": []
  }
 ],
 "metadata": {
  "kernelspec": {
   "display_name": "Python [conda env:transformers_simple]",
   "language": "python",
   "name": "conda-env-transformers_simple-py"
  },
  "language_info": {
   "codemirror_mode": {
    "name": "ipython",
    "version": 3
   },
   "file_extension": ".py",
   "mimetype": "text/x-python",
   "name": "python",
   "nbconvert_exporter": "python",
   "pygments_lexer": "ipython3",
   "version": "3.10.12"
  }
 },
 "nbformat": 4,
 "nbformat_minor": 4
}
