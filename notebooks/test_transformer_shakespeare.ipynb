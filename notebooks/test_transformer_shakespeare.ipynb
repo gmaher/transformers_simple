{
 "cells": [
  {
   "cell_type": "code",
   "execution_count": 1,
   "metadata": {},
   "outputs": [],
   "source": [
    "import sys\n",
    "import os\n",
    "sys.path.append(os.path.abspath('..'))\n",
    "\n",
    "import matplotlib.pyplot as plt\n",
    "import torch\n",
    "from torch.utils.data import TensorDataset, DataLoader\n",
    "torch.set_default_device('cpu')\n",
    "\n",
    "import numpy as np\n",
    "\n",
    "from transformers_simple.transformer import GPT\n",
    "from transformers_simple.train import Trainer\n",
    "from transformers_simple.dataset import CharDataset\n",
    "from transformers_simple.char_util import generate_sample"
   ]
  },
  {
   "cell_type": "code",
   "execution_count": 2,
   "metadata": {},
   "outputs": [],
   "source": [
    "N = 4\n",
    "block_size  = 128\n",
    "embed_size  = 256\n",
    "hidden_size = 64\n",
    "attn_hidden_size = 32\n",
    "num_heads   = 3\n",
    "vocab_size  = 39\n",
    "output_size = vocab_size\n",
    "num_transformer_blocks = 4\n",
    "\n",
    "log_interval = 100\n",
    "epochs = 1\n",
    "learning_rate = 5e-4\n",
    "device = torch.device('cpu')"
   ]
  },
  {
   "cell_type": "code",
   "execution_count": 3,
   "metadata": {},
   "outputs": [],
   "source": [
    "dataset = CharDataset(filename=\"../datasets/shakespeare.txt\", block_size=block_size)"
   ]
  },
  {
   "cell_type": "code",
   "execution_count": 4,
   "metadata": {},
   "outputs": [
    {
     "data": {
      "text/plain": [
       "39"
      ]
     },
     "execution_count": 4,
     "metadata": {},
     "output_type": "execute_result"
    }
   ],
   "source": [
    "dataset.vocab_size"
   ]
  },
  {
   "cell_type": "code",
   "execution_count": 5,
   "metadata": {},
   "outputs": [
    {
     "data": {
      "text/plain": [
       "1115394"
      ]
     },
     "execution_count": 5,
     "metadata": {},
     "output_type": "execute_result"
    }
   ],
   "source": [
    "dataset.length"
   ]
  },
  {
   "cell_type": "code",
   "execution_count": 6,
   "metadata": {},
   "outputs": [],
   "source": [
    "net = GPT(vocab_size=vocab_size, \n",
    "          block_size=block_size,\n",
    "          embed_size=embed_size,\n",
    "          hidden_size=hidden_size,\n",
    "          attn_hidden_size=attn_hidden_size,\n",
    "          output_size=output_size,\n",
    "          num_transformer_blocks=num_transformer_blocks,\n",
    "          num_heads=num_heads,\n",
    "         attn_dropout=0.2,\n",
    "          attn_block_dropout=0.2,\n",
    "         attn_residual_dropout=0.2,\n",
    "         embed_dropout=0.2)"
   ]
  },
  {
   "cell_type": "code",
   "execution_count": 7,
   "metadata": {},
   "outputs": [],
   "source": [
    "x = dataset[0][0].view(1,-1)"
   ]
  },
  {
   "cell_type": "code",
   "execution_count": 8,
   "metadata": {},
   "outputs": [
    {
     "data": {
      "text/plain": [
       "tensor([[18, 21, 30, 31, 32,  1, 15, 21, 32, 21, 38, 17, 26, 10,  0, 14, 17, 18,\n",
       "         27, 30, 17,  1, 35, 17,  1, 28, 30, 27, 15, 17, 17, 16,  1, 13, 26, 37,\n",
       "          1, 18, 33, 30, 32, 20, 17, 30,  6,  1, 20, 17, 13, 30,  1, 25, 17,  1,\n",
       "         31, 28, 17, 13, 23,  8,  0,  0, 13, 24, 24, 10,  0, 31, 28, 17, 13, 23,\n",
       "          6,  1, 31, 28, 17, 13, 23,  8,  0,  0, 18, 21, 30, 31, 32,  1, 15, 21,\n",
       "         32, 21, 38, 17, 26, 10,  0, 37, 27, 33,  1, 13, 30, 17,  1, 13, 24, 24,\n",
       "          1, 30, 17, 31, 27, 24, 34, 17, 16,  1, 30, 13, 32, 20, 17, 30,  1, 32,\n",
       "         27,  1]])"
      ]
     },
     "execution_count": 8,
     "metadata": {},
     "output_type": "execute_result"
    }
   ],
   "source": [
    "x"
   ]
  },
  {
   "cell_type": "code",
   "execution_count": 9,
   "metadata": {},
   "outputs": [],
   "source": [
    "loss = torch.nn.CrossEntropyLoss()\n",
    "\n",
    "def loss_fn(o,y):\n",
    "    #return loss(o.view(-1,vocab_size),y.view(-1))\n",
    "\n",
    "    return loss(o[:,-1],y[:,-1])"
   ]
  },
  {
   "cell_type": "code",
   "execution_count": 10,
   "metadata": {},
   "outputs": [],
   "source": [
    "trainer = Trainer(model=net, \n",
    "                  dataset=dataset, \n",
    "                  loss_fn=loss_fn, \n",
    "                  batch_size=N, \n",
    "                  learning_rate=learning_rate,\n",
    "                  epochs=epochs, \n",
    "                  log_interval=log_interval, \n",
    "                  device=device,\n",
    "                 max_iters=3e4)"
   ]
  },
  {
   "cell_type": "code",
   "execution_count": 11,
   "metadata": {},
   "outputs": [
    {
     "name": "stdout",
     "output_type": "stream",
     "text": [
      "Train Epoch: 0 [0/1115266 (0%)]\tLoss: 4.029171\n",
      "Train Epoch: 0 [400/1115266 (0%)]\tLoss: 2.551427\n",
      "Train Epoch: 0 [800/1115266 (0%)]\tLoss: 2.939942\n",
      "Train Epoch: 0 [1200/1115266 (0%)]\tLoss: 2.809117\n",
      "Train Epoch: 0 [1600/1115266 (0%)]\tLoss: 3.313325\n",
      "Train Epoch: 0 [2000/1115266 (0%)]\tLoss: 2.578384\n",
      "Train Epoch: 0 [2400/1115266 (0%)]\tLoss: 2.490086\n",
      "Train Epoch: 0 [2800/1115266 (0%)]\tLoss: 4.124276\n",
      "Train Epoch: 0 [3200/1115266 (0%)]\tLoss: 1.936540\n",
      "Train Epoch: 0 [3600/1115266 (0%)]\tLoss: 3.491215\n",
      "Train Epoch: 0 [4000/1115266 (0%)]\tLoss: 2.583754\n",
      "Train Epoch: 0 [4400/1115266 (0%)]\tLoss: 3.316289\n",
      "Train Epoch: 0 [4800/1115266 (0%)]\tLoss: 3.995570\n",
      "Train Epoch: 0 [5200/1115266 (0%)]\tLoss: 2.750134\n",
      "Train Epoch: 0 [5600/1115266 (1%)]\tLoss: 3.392050\n",
      "Train Epoch: 0 [6000/1115266 (1%)]\tLoss: 2.737354\n",
      "Train Epoch: 0 [6400/1115266 (1%)]\tLoss: 2.986580\n",
      "Train Epoch: 0 [6800/1115266 (1%)]\tLoss: 2.263286\n",
      "Train Epoch: 0 [7200/1115266 (1%)]\tLoss: 3.191315\n",
      "Train Epoch: 0 [7600/1115266 (1%)]\tLoss: 2.338708\n",
      "Train Epoch: 0 [8000/1115266 (1%)]\tLoss: 2.676285\n",
      "Train Epoch: 0 [8400/1115266 (1%)]\tLoss: 2.594852\n",
      "Train Epoch: 0 [8800/1115266 (1%)]\tLoss: 2.300331\n",
      "Train Epoch: 0 [9200/1115266 (1%)]\tLoss: 3.101414\n",
      "Train Epoch: 0 [9600/1115266 (1%)]\tLoss: 2.034168\n",
      "Train Epoch: 0 [10000/1115266 (1%)]\tLoss: 1.628073\n",
      "Train Epoch: 0 [10400/1115266 (1%)]\tLoss: 1.916942\n",
      "Train Epoch: 0 [10800/1115266 (1%)]\tLoss: 1.276616\n",
      "Train Epoch: 0 [11200/1115266 (1%)]\tLoss: 3.354731\n",
      "Train Epoch: 0 [11600/1115266 (1%)]\tLoss: 2.150824\n",
      "Train Epoch: 0 [12000/1115266 (1%)]\tLoss: 2.491891\n",
      "Train Epoch: 0 [12400/1115266 (1%)]\tLoss: 2.690974\n",
      "Train Epoch: 0 [12800/1115266 (1%)]\tLoss: 2.384366\n",
      "Train Epoch: 0 [13200/1115266 (1%)]\tLoss: 2.611633\n",
      "Train Epoch: 0 [13600/1115266 (1%)]\tLoss: 3.232859\n",
      "Train Epoch: 0 [14000/1115266 (1%)]\tLoss: 2.738742\n",
      "Train Epoch: 0 [14400/1115266 (1%)]\tLoss: 2.661444\n",
      "Train Epoch: 0 [14800/1115266 (1%)]\tLoss: 3.216436\n",
      "Train Epoch: 0 [15200/1115266 (1%)]\tLoss: 1.884900\n",
      "Train Epoch: 0 [15600/1115266 (1%)]\tLoss: 2.328378\n",
      "Train Epoch: 0 [16000/1115266 (1%)]\tLoss: 2.107794\n",
      "Train Epoch: 0 [16400/1115266 (1%)]\tLoss: 2.313448\n",
      "Train Epoch: 0 [16800/1115266 (2%)]\tLoss: 2.140886\n",
      "Train Epoch: 0 [17200/1115266 (2%)]\tLoss: 1.969380\n",
      "Train Epoch: 0 [17600/1115266 (2%)]\tLoss: 1.916911\n",
      "Train Epoch: 0 [18000/1115266 (2%)]\tLoss: 2.933775\n",
      "Train Epoch: 0 [18400/1115266 (2%)]\tLoss: 2.915650\n",
      "Train Epoch: 0 [18800/1115266 (2%)]\tLoss: 2.899621\n",
      "Train Epoch: 0 [19200/1115266 (2%)]\tLoss: 2.158532\n",
      "Train Epoch: 0 [19600/1115266 (2%)]\tLoss: 3.150454\n",
      "Train Epoch: 0 [20000/1115266 (2%)]\tLoss: 2.941810\n",
      "Train Epoch: 0 [20400/1115266 (2%)]\tLoss: 2.764658\n",
      "Train Epoch: 0 [20800/1115266 (2%)]\tLoss: 2.680367\n",
      "Train Epoch: 0 [21200/1115266 (2%)]\tLoss: 2.434726\n",
      "Train Epoch: 0 [21600/1115266 (2%)]\tLoss: 2.838436\n",
      "Train Epoch: 0 [22000/1115266 (2%)]\tLoss: 2.306472\n",
      "Train Epoch: 0 [22400/1115266 (2%)]\tLoss: 1.628543\n",
      "Train Epoch: 0 [22800/1115266 (2%)]\tLoss: 3.141585\n",
      "Train Epoch: 0 [23200/1115266 (2%)]\tLoss: 3.179858\n",
      "Train Epoch: 0 [23600/1115266 (2%)]\tLoss: 4.133017\n",
      "Train Epoch: 0 [24000/1115266 (2%)]\tLoss: 1.986557\n",
      "Train Epoch: 0 [24400/1115266 (2%)]\tLoss: 2.813290\n",
      "Train Epoch: 0 [24800/1115266 (2%)]\tLoss: 2.885945\n",
      "Train Epoch: 0 [25200/1115266 (2%)]\tLoss: 1.795482\n",
      "Train Epoch: 0 [25600/1115266 (2%)]\tLoss: 2.015878\n",
      "Train Epoch: 0 [26000/1115266 (2%)]\tLoss: 3.233366\n",
      "Train Epoch: 0 [26400/1115266 (2%)]\tLoss: 2.652175\n",
      "Train Epoch: 0 [26800/1115266 (2%)]\tLoss: 1.940000\n",
      "Train Epoch: 0 [27200/1115266 (2%)]\tLoss: 1.939191\n",
      "Train Epoch: 0 [27600/1115266 (2%)]\tLoss: 2.395475\n",
      "Train Epoch: 0 [28000/1115266 (3%)]\tLoss: 2.249099\n",
      "Train Epoch: 0 [28400/1115266 (3%)]\tLoss: 1.326907\n",
      "Train Epoch: 0 [28800/1115266 (3%)]\tLoss: 3.949648\n",
      "Train Epoch: 0 [29200/1115266 (3%)]\tLoss: 1.971771\n",
      "Train Epoch: 0 [29600/1115266 (3%)]\tLoss: 2.083358\n",
      "Train Epoch: 0 [30000/1115266 (3%)]\tLoss: 3.490282\n",
      "Train Epoch: 0 [30400/1115266 (3%)]\tLoss: 2.114587\n",
      "Train Epoch: 0 [30800/1115266 (3%)]\tLoss: 2.537504\n",
      "Train Epoch: 0 [31200/1115266 (3%)]\tLoss: 3.786360\n",
      "Train Epoch: 0 [31600/1115266 (3%)]\tLoss: 1.499414\n",
      "Train Epoch: 0 [32000/1115266 (3%)]\tLoss: 2.197488\n",
      "Train Epoch: 0 [32400/1115266 (3%)]\tLoss: 2.145557\n",
      "Train Epoch: 0 [32800/1115266 (3%)]\tLoss: 2.066126\n",
      "Train Epoch: 0 [33200/1115266 (3%)]\tLoss: 2.373598\n",
      "Train Epoch: 0 [33600/1115266 (3%)]\tLoss: 2.542065\n",
      "Train Epoch: 0 [34000/1115266 (3%)]\tLoss: 2.186248\n",
      "Train Epoch: 0 [34400/1115266 (3%)]\tLoss: 3.533574\n",
      "Train Epoch: 0 [34800/1115266 (3%)]\tLoss: 2.745387\n",
      "Train Epoch: 0 [35200/1115266 (3%)]\tLoss: 3.579057\n",
      "Train Epoch: 0 [35600/1115266 (3%)]\tLoss: 2.799098\n",
      "Train Epoch: 0 [36000/1115266 (3%)]\tLoss: 2.586468\n",
      "Train Epoch: 0 [36400/1115266 (3%)]\tLoss: 2.208267\n",
      "Train Epoch: 0 [36800/1115266 (3%)]\tLoss: 1.847715\n",
      "Train Epoch: 0 [37200/1115266 (3%)]\tLoss: 2.915894\n",
      "Train Epoch: 0 [37600/1115266 (3%)]\tLoss: 2.829681\n",
      "Train Epoch: 0 [38000/1115266 (3%)]\tLoss: 2.920043\n",
      "Train Epoch: 0 [38400/1115266 (3%)]\tLoss: 2.960453\n",
      "Train Epoch: 0 [38800/1115266 (3%)]\tLoss: 2.840434\n",
      "Train Epoch: 0 [39200/1115266 (4%)]\tLoss: 2.631883\n",
      "Train Epoch: 0 [39600/1115266 (4%)]\tLoss: 1.749923\n",
      "Train Epoch: 0 [40000/1115266 (4%)]\tLoss: 2.325297\n",
      "Train Epoch: 0 [40400/1115266 (4%)]\tLoss: 2.128074\n",
      "Train Epoch: 0 [40800/1115266 (4%)]\tLoss: 1.810446\n",
      "Train Epoch: 0 [41200/1115266 (4%)]\tLoss: 3.082436\n",
      "Train Epoch: 0 [41600/1115266 (4%)]\tLoss: 2.772367\n",
      "Train Epoch: 0 [42000/1115266 (4%)]\tLoss: 3.668228\n",
      "Train Epoch: 0 [42400/1115266 (4%)]\tLoss: 2.278124\n",
      "Train Epoch: 0 [42800/1115266 (4%)]\tLoss: 3.415272\n",
      "Train Epoch: 0 [43200/1115266 (4%)]\tLoss: 2.193600\n",
      "Train Epoch: 0 [43600/1115266 (4%)]\tLoss: 3.685626\n",
      "Train Epoch: 0 [44000/1115266 (4%)]\tLoss: 2.012757\n",
      "Train Epoch: 0 [44400/1115266 (4%)]\tLoss: 2.981689\n",
      "Train Epoch: 0 [44800/1115266 (4%)]\tLoss: 2.871741\n",
      "Train Epoch: 0 [45200/1115266 (4%)]\tLoss: 2.654988\n",
      "Train Epoch: 0 [45600/1115266 (4%)]\tLoss: 1.642863\n",
      "Train Epoch: 0 [46000/1115266 (4%)]\tLoss: 2.975181\n",
      "Train Epoch: 0 [46400/1115266 (4%)]\tLoss: 2.461950\n",
      "Train Epoch: 0 [46800/1115266 (4%)]\tLoss: 1.563313\n",
      "Train Epoch: 0 [47200/1115266 (4%)]\tLoss: 2.077945\n",
      "Train Epoch: 0 [47600/1115266 (4%)]\tLoss: 2.512453\n",
      "Train Epoch: 0 [48000/1115266 (4%)]\tLoss: 2.516723\n",
      "Train Epoch: 0 [48400/1115266 (4%)]\tLoss: 1.486235\n",
      "Train Epoch: 0 [48800/1115266 (4%)]\tLoss: 2.408087\n",
      "Train Epoch: 0 [49200/1115266 (4%)]\tLoss: 1.971380\n",
      "Train Epoch: 0 [49600/1115266 (4%)]\tLoss: 3.373189\n",
      "Train Epoch: 0 [50000/1115266 (4%)]\tLoss: 2.940478\n",
      "Train Epoch: 0 [50400/1115266 (5%)]\tLoss: 2.300269\n",
      "Train Epoch: 0 [50800/1115266 (5%)]\tLoss: 2.009008\n",
      "Train Epoch: 0 [51200/1115266 (5%)]\tLoss: 2.720060\n",
      "Train Epoch: 0 [51600/1115266 (5%)]\tLoss: 3.659251\n",
      "Train Epoch: 0 [52000/1115266 (5%)]\tLoss: 1.840514\n",
      "Train Epoch: 0 [52400/1115266 (5%)]\tLoss: 2.785014\n",
      "Train Epoch: 0 [52800/1115266 (5%)]\tLoss: 3.980870\n",
      "Train Epoch: 0 [53200/1115266 (5%)]\tLoss: 2.170864\n",
      "Train Epoch: 0 [53600/1115266 (5%)]\tLoss: 2.587729\n",
      "Train Epoch: 0 [54000/1115266 (5%)]\tLoss: 2.166738\n",
      "Train Epoch: 0 [54400/1115266 (5%)]\tLoss: 2.908320\n",
      "Train Epoch: 0 [54800/1115266 (5%)]\tLoss: 2.008073\n",
      "Train Epoch: 0 [55200/1115266 (5%)]\tLoss: 2.273463\n",
      "Train Epoch: 0 [55600/1115266 (5%)]\tLoss: 2.478989\n",
      "Train Epoch: 0 [56000/1115266 (5%)]\tLoss: 3.078367\n",
      "Train Epoch: 0 [56400/1115266 (5%)]\tLoss: 1.752814\n",
      "Train Epoch: 0 [56800/1115266 (5%)]\tLoss: 2.021945\n",
      "Train Epoch: 0 [57200/1115266 (5%)]\tLoss: 2.613630\n",
      "Train Epoch: 0 [57600/1115266 (5%)]\tLoss: 3.449579\n",
      "Train Epoch: 0 [58000/1115266 (5%)]\tLoss: 2.655139\n",
      "Train Epoch: 0 [58400/1115266 (5%)]\tLoss: 2.438617\n",
      "Train Epoch: 0 [58800/1115266 (5%)]\tLoss: 1.963071\n",
      "Train Epoch: 0 [59200/1115266 (5%)]\tLoss: 3.473102\n",
      "Train Epoch: 0 [59600/1115266 (5%)]\tLoss: 1.071086\n",
      "Train Epoch: 0 [60000/1115266 (5%)]\tLoss: 1.938024\n",
      "Train Epoch: 0 [60400/1115266 (5%)]\tLoss: 1.576505\n",
      "Train Epoch: 0 [60800/1115266 (5%)]\tLoss: 3.471308\n",
      "Train Epoch: 0 [61200/1115266 (5%)]\tLoss: 2.801841\n",
      "Train Epoch: 0 [61600/1115266 (6%)]\tLoss: 3.010637\n",
      "Train Epoch: 0 [62000/1115266 (6%)]\tLoss: 2.216739\n",
      "Train Epoch: 0 [62400/1115266 (6%)]\tLoss: 1.579962\n",
      "Train Epoch: 0 [62800/1115266 (6%)]\tLoss: 2.066246\n",
      "Train Epoch: 0 [63200/1115266 (6%)]\tLoss: 2.204094\n",
      "Train Epoch: 0 [63600/1115266 (6%)]\tLoss: 2.587724\n",
      "Train Epoch: 0 [64000/1115266 (6%)]\tLoss: 2.488735\n",
      "Train Epoch: 0 [64400/1115266 (6%)]\tLoss: 2.061918\n"
     ]
    },
    {
     "name": "stdout",
     "output_type": "stream",
     "text": [
      "Train Epoch: 0 [64800/1115266 (6%)]\tLoss: 2.681271\n",
      "Train Epoch: 0 [65200/1115266 (6%)]\tLoss: 2.240578\n",
      "Train Epoch: 0 [65600/1115266 (6%)]\tLoss: 2.328568\n",
      "Train Epoch: 0 [66000/1115266 (6%)]\tLoss: 1.948813\n",
      "Train Epoch: 0 [66400/1115266 (6%)]\tLoss: 2.614131\n",
      "Train Epoch: 0 [66800/1115266 (6%)]\tLoss: 2.577092\n",
      "Train Epoch: 0 [67200/1115266 (6%)]\tLoss: 1.446646\n",
      "Train Epoch: 0 [67600/1115266 (6%)]\tLoss: 1.648637\n",
      "Train Epoch: 0 [68000/1115266 (6%)]\tLoss: 2.364445\n",
      "Train Epoch: 0 [68400/1115266 (6%)]\tLoss: 3.057054\n",
      "Train Epoch: 0 [68800/1115266 (6%)]\tLoss: 1.656433\n",
      "Train Epoch: 0 [69200/1115266 (6%)]\tLoss: 2.558351\n",
      "Train Epoch: 0 [69600/1115266 (6%)]\tLoss: 2.782040\n",
      "Train Epoch: 0 [70000/1115266 (6%)]\tLoss: 2.336202\n",
      "Train Epoch: 0 [70400/1115266 (6%)]\tLoss: 3.029612\n",
      "Train Epoch: 0 [70800/1115266 (6%)]\tLoss: 2.752434\n",
      "Train Epoch: 0 [71200/1115266 (6%)]\tLoss: 2.307096\n",
      "Train Epoch: 0 [71600/1115266 (6%)]\tLoss: 2.490721\n",
      "Train Epoch: 0 [72000/1115266 (6%)]\tLoss: 3.758995\n",
      "Train Epoch: 0 [72400/1115266 (6%)]\tLoss: 2.183936\n",
      "Train Epoch: 0 [72800/1115266 (7%)]\tLoss: 1.950495\n",
      "Train Epoch: 0 [73200/1115266 (7%)]\tLoss: 2.213470\n",
      "Train Epoch: 0 [73600/1115266 (7%)]\tLoss: 2.059415\n",
      "Train Epoch: 0 [74000/1115266 (7%)]\tLoss: 2.407087\n",
      "Train Epoch: 0 [74400/1115266 (7%)]\tLoss: 2.388249\n",
      "Train Epoch: 0 [74800/1115266 (7%)]\tLoss: 2.577255\n",
      "Train Epoch: 0 [75200/1115266 (7%)]\tLoss: 2.189267\n",
      "Train Epoch: 0 [75600/1115266 (7%)]\tLoss: 2.981786\n",
      "Train Epoch: 0 [76000/1115266 (7%)]\tLoss: 2.397364\n",
      "Train Epoch: 0 [76400/1115266 (7%)]\tLoss: 2.644783\n",
      "Train Epoch: 0 [76800/1115266 (7%)]\tLoss: 1.504132\n",
      "Train Epoch: 0 [77200/1115266 (7%)]\tLoss: 1.938471\n",
      "Train Epoch: 0 [77600/1115266 (7%)]\tLoss: 1.911986\n",
      "Train Epoch: 0 [78000/1115266 (7%)]\tLoss: 3.149002\n",
      "Train Epoch: 0 [78400/1115266 (7%)]\tLoss: 2.010275\n",
      "Train Epoch: 0 [78800/1115266 (7%)]\tLoss: 2.259998\n",
      "Train Epoch: 0 [79200/1115266 (7%)]\tLoss: 2.070604\n",
      "Train Epoch: 0 [79600/1115266 (7%)]\tLoss: 3.030298\n",
      "Train Epoch: 0 [80000/1115266 (7%)]\tLoss: 2.794077\n",
      "Train Epoch: 0 [80400/1115266 (7%)]\tLoss: 2.034821\n",
      "Train Epoch: 0 [80800/1115266 (7%)]\tLoss: 2.956083\n",
      "Train Epoch: 0 [81200/1115266 (7%)]\tLoss: 2.509333\n",
      "Train Epoch: 0 [81600/1115266 (7%)]\tLoss: 3.181519\n",
      "Train Epoch: 0 [82000/1115266 (7%)]\tLoss: 2.702940\n",
      "Train Epoch: 0 [82400/1115266 (7%)]\tLoss: 2.657856\n",
      "Train Epoch: 0 [82800/1115266 (7%)]\tLoss: 2.731677\n",
      "Train Epoch: 0 [83200/1115266 (7%)]\tLoss: 2.952476\n",
      "Train Epoch: 0 [83600/1115266 (7%)]\tLoss: 3.579606\n",
      "Train Epoch: 0 [84000/1115266 (8%)]\tLoss: 3.965383\n",
      "Train Epoch: 0 [84400/1115266 (8%)]\tLoss: 2.599030\n",
      "Train Epoch: 0 [84800/1115266 (8%)]\tLoss: 1.896104\n",
      "Train Epoch: 0 [85200/1115266 (8%)]\tLoss: 4.797187\n",
      "Train Epoch: 0 [85600/1115266 (8%)]\tLoss: 3.719889\n",
      "Train Epoch: 0 [86000/1115266 (8%)]\tLoss: 1.786106\n",
      "Train Epoch: 0 [86400/1115266 (8%)]\tLoss: 2.808454\n",
      "Train Epoch: 0 [86800/1115266 (8%)]\tLoss: 2.191396\n",
      "Train Epoch: 0 [87200/1115266 (8%)]\tLoss: 1.863737\n",
      "Train Epoch: 0 [87600/1115266 (8%)]\tLoss: 3.847343\n",
      "Train Epoch: 0 [88000/1115266 (8%)]\tLoss: 1.253902\n",
      "Train Epoch: 0 [88400/1115266 (8%)]\tLoss: 1.815048\n",
      "Train Epoch: 0 [88800/1115266 (8%)]\tLoss: 3.441430\n",
      "Train Epoch: 0 [89200/1115266 (8%)]\tLoss: 2.918621\n",
      "Train Epoch: 0 [89600/1115266 (8%)]\tLoss: 0.951506\n",
      "Train Epoch: 0 [90000/1115266 (8%)]\tLoss: 2.917569\n",
      "Train Epoch: 0 [90400/1115266 (8%)]\tLoss: 1.698668\n",
      "Train Epoch: 0 [90800/1115266 (8%)]\tLoss: 2.721044\n",
      "Train Epoch: 0 [91200/1115266 (8%)]\tLoss: 2.607265\n",
      "Train Epoch: 0 [91600/1115266 (8%)]\tLoss: 4.205091\n",
      "Train Epoch: 0 [92000/1115266 (8%)]\tLoss: 2.933419\n",
      "Train Epoch: 0 [92400/1115266 (8%)]\tLoss: 3.045167\n",
      "Train Epoch: 0 [92800/1115266 (8%)]\tLoss: 2.257992\n",
      "Train Epoch: 0 [93200/1115266 (8%)]\tLoss: 2.016421\n",
      "Train Epoch: 0 [93600/1115266 (8%)]\tLoss: 2.552015\n",
      "Train Epoch: 0 [94000/1115266 (8%)]\tLoss: 2.898749\n",
      "Train Epoch: 0 [94400/1115266 (8%)]\tLoss: 2.301464\n",
      "Train Epoch: 0 [94800/1115266 (9%)]\tLoss: 4.048450\n",
      "Train Epoch: 0 [95200/1115266 (9%)]\tLoss: 2.421469\n",
      "Train Epoch: 0 [95600/1115266 (9%)]\tLoss: 2.438665\n",
      "Train Epoch: 0 [96000/1115266 (9%)]\tLoss: 1.913810\n",
      "Train Epoch: 0 [96400/1115266 (9%)]\tLoss: 2.972655\n",
      "Train Epoch: 0 [96800/1115266 (9%)]\tLoss: 2.844726\n",
      "Train Epoch: 0 [97200/1115266 (9%)]\tLoss: 2.249865\n",
      "Train Epoch: 0 [97600/1115266 (9%)]\tLoss: 2.219927\n",
      "Train Epoch: 0 [98000/1115266 (9%)]\tLoss: 2.597508\n",
      "Train Epoch: 0 [98400/1115266 (9%)]\tLoss: 2.202667\n",
      "Train Epoch: 0 [98800/1115266 (9%)]\tLoss: 2.562989\n",
      "Train Epoch: 0 [99200/1115266 (9%)]\tLoss: 3.093947\n",
      "Train Epoch: 0 [99600/1115266 (9%)]\tLoss: 2.854702\n",
      "Train Epoch: 0 [100000/1115266 (9%)]\tLoss: 1.629965\n",
      "Train Epoch: 0 [100400/1115266 (9%)]\tLoss: 1.100854\n",
      "Train Epoch: 0 [100800/1115266 (9%)]\tLoss: 2.150854\n",
      "Train Epoch: 0 [101200/1115266 (9%)]\tLoss: 3.070238\n",
      "Train Epoch: 0 [101600/1115266 (9%)]\tLoss: 3.019408\n",
      "Train Epoch: 0 [102000/1115266 (9%)]\tLoss: 2.924176\n",
      "Train Epoch: 0 [102400/1115266 (9%)]\tLoss: 3.047136\n",
      "Train Epoch: 0 [102800/1115266 (9%)]\tLoss: 2.521101\n",
      "Train Epoch: 0 [103200/1115266 (9%)]\tLoss: 3.112567\n",
      "Train Epoch: 0 [103600/1115266 (9%)]\tLoss: 2.039949\n",
      "Train Epoch: 0 [104000/1115266 (9%)]\tLoss: 1.765015\n",
      "Train Epoch: 0 [104400/1115266 (9%)]\tLoss: 1.926182\n",
      "Train Epoch: 0 [104800/1115266 (9%)]\tLoss: 2.821622\n",
      "Train Epoch: 0 [105200/1115266 (9%)]\tLoss: 2.003261\n",
      "Train Epoch: 0 [105600/1115266 (9%)]\tLoss: 2.204482\n",
      "Train Epoch: 0 [106000/1115266 (10%)]\tLoss: 3.131012\n",
      "Train Epoch: 0 [106400/1115266 (10%)]\tLoss: 2.250031\n",
      "Train Epoch: 0 [106800/1115266 (10%)]\tLoss: 2.573687\n",
      "Train Epoch: 0 [107200/1115266 (10%)]\tLoss: 3.001491\n",
      "Train Epoch: 0 [107600/1115266 (10%)]\tLoss: 2.394376\n",
      "Train Epoch: 0 [108000/1115266 (10%)]\tLoss: 2.618396\n",
      "Train Epoch: 0 [108400/1115266 (10%)]\tLoss: 2.902823\n",
      "Train Epoch: 0 [108800/1115266 (10%)]\tLoss: 2.946817\n",
      "Train Epoch: 0 [109200/1115266 (10%)]\tLoss: 2.660921\n",
      "Train Epoch: 0 [109600/1115266 (10%)]\tLoss: 2.277094\n",
      "Train Epoch: 0 [110000/1115266 (10%)]\tLoss: 2.111419\n",
      "Train Epoch: 0 [110400/1115266 (10%)]\tLoss: 2.619942\n",
      "Train Epoch: 0 [110800/1115266 (10%)]\tLoss: 2.660567\n",
      "Train Epoch: 0 [111200/1115266 (10%)]\tLoss: 2.523013\n",
      "Train Epoch: 0 [111600/1115266 (10%)]\tLoss: 2.804769\n",
      "Train Epoch: 0 [112000/1115266 (10%)]\tLoss: 1.736150\n",
      "Train Epoch: 0 [112400/1115266 (10%)]\tLoss: 2.328194\n",
      "Train Epoch: 0 [112800/1115266 (10%)]\tLoss: 2.350742\n",
      "Train Epoch: 0 [113200/1115266 (10%)]\tLoss: 2.203815\n",
      "Train Epoch: 0 [113600/1115266 (10%)]\tLoss: 3.158926\n",
      "Train Epoch: 0 [114000/1115266 (10%)]\tLoss: 1.780215\n",
      "Train Epoch: 0 [114400/1115266 (10%)]\tLoss: 2.905360\n",
      "Train Epoch: 0 [114800/1115266 (10%)]\tLoss: 1.892775\n",
      "Train Epoch: 0 [115200/1115266 (10%)]\tLoss: 2.273199\n",
      "Train Epoch: 0 [115600/1115266 (10%)]\tLoss: 1.960384\n",
      "Train Epoch: 0 [116000/1115266 (10%)]\tLoss: 2.244733\n",
      "Train Epoch: 0 [116400/1115266 (10%)]\tLoss: 2.555905\n",
      "Train Epoch: 0 [116800/1115266 (10%)]\tLoss: 2.263369\n",
      "Train Epoch: 0 [117200/1115266 (11%)]\tLoss: 4.323803\n",
      "Train Epoch: 0 [117600/1115266 (11%)]\tLoss: 2.733595\n",
      "Train Epoch: 0 [118000/1115266 (11%)]\tLoss: 3.159685\n",
      "Train Epoch: 0 [118400/1115266 (11%)]\tLoss: 2.442243\n",
      "Train Epoch: 0 [118800/1115266 (11%)]\tLoss: 2.260780\n",
      "Train Epoch: 0 [119200/1115266 (11%)]\tLoss: 3.015028\n",
      "Train Epoch: 0 [119600/1115266 (11%)]\tLoss: 2.819090\n",
      "Train Epoch: 0 [120000/1115266 (11%)]\tLoss: 1.734940\n"
     ]
    }
   ],
   "source": [
    "trainer.run()"
   ]
  },
  {
   "cell_type": "code",
   "execution_count": 12,
   "metadata": {},
   "outputs": [],
   "source": [
    "x = dataset[1][0].view(1,-1)\n",
    "\n",
    "o = net(x)"
   ]
  },
  {
   "cell_type": "code",
   "execution_count": 13,
   "metadata": {},
   "outputs": [
    {
     "data": {
      "text/plain": [
       "torch.Size([1, 128, 39])"
      ]
     },
     "execution_count": 13,
     "metadata": {},
     "output_type": "execute_result"
    }
   ],
   "source": [
    "o.size()"
   ]
  },
  {
   "cell_type": "code",
   "execution_count": 14,
   "metadata": {},
   "outputs": [
    {
     "data": {
      "text/plain": [
       "tensor([1.2967e-02, 5.6180e-01, 1.0839e-03, 4.8580e-10, 4.1638e-13, 1.8143e-03,\n",
       "        4.4672e-02, 7.7593e-04, 1.0225e-02, 3.5543e-08, 4.3323e-03, 4.9813e-03,\n",
       "        1.4346e-03, 1.8303e-02, 4.0991e-04, 1.9277e-04, 1.8844e-03, 9.9918e-02,\n",
       "        2.1693e-03, 3.3147e-04, 6.3032e-04, 3.4195e-02, 2.1035e-05, 2.2823e-04,\n",
       "        4.1109e-03, 1.4668e-03, 1.6596e-03, 1.1812e-01, 3.4298e-04, 7.1033e-06,\n",
       "        5.7440e-03, 1.6528e-02, 4.3169e-03, 3.4138e-02, 1.0526e-03, 1.8842e-03,\n",
       "        8.4421e-06, 8.2558e-03, 2.4104e-06], grad_fn=<SoftmaxBackward0>)"
      ]
     },
     "execution_count": 14,
     "metadata": {},
     "output_type": "execute_result"
    }
   ],
   "source": [
    "torch.nn.functional.softmax(o[0,-1], dim=0)"
   ]
  },
  {
   "cell_type": "code",
   "execution_count": 15,
   "metadata": {},
   "outputs": [
    {
     "data": {
      "image/png": "[encoded data removed]",
      "text/plain": [
       "<Figure size 1200x300 with 1 Axes>"
      ]
     },
     "metadata": {},
     "output_type": "display_data"
    }
   ],
   "source": [
    "loss_history = trainer.loss_history\n",
    "\n",
    "plt.figure(figsize=(12,3))\n",
    "plt.plot(loss_history)\n",
    "plt.show()"
   ]
  },
  {
   "cell_type": "code",
   "execution_count": 16,
   "metadata": {},
   "outputs": [
    {
     "name": "stdout",
     "output_type": "stream",
     "text": [
      "[1, 13, 30, 17, 1, 13, 24, 24, 1, 30, 17, 31, 27, 24, 34, 17, 16, 1, 30, 13, 32, 20, 17, 30, 1, 32, 27, 1, 16, 21, 17, 1, 32, 20, 13, 26, 1, 32, 27, 1, 18, 13, 25, 21, 31, 20, 12, 0, 0, 13, 24, 24, 10, 0, 30, 17, 31, 27, 24, 34, 17, 16, 8, 1, 30, 17, 31, 27, 24, 34, 17, 16, 8, 0, 0, 18, 21, 30, 31, 32, 1, 15, 21, 32, 21, 38, 17, 26, 10, 0, 18, 21, 30, 31, 32, 6, 1, 37, 27, 33, 1, 23, 26, 27, 35, 1, 15, 13, 21, 33, 31, 1, 25, 13, 30, 15, 21, 33, 31, 1, 21, 31, 1, 15, 20, 21, 17, 18]\n"
     ]
    }
   ],
   "source": [
    "T = 200\n",
    "\n",
    "x = dataset.data[100:100+block_size]\n",
    "x = [dataset.char_to_index[c] for c in x]\n",
    "print(x)\n",
    "def net_out(x):\n",
    "    o = net(x)\n",
    "    return o[:,-1]\n",
    "\n",
    "o = generate_sample(x, net_out, length=T)"
   ]
  },
  {
   "cell_type": "code",
   "execution_count": 17,
   "metadata": {},
   "outputs": [],
   "source": [
    "o = [dataset.index_to_char[c] for c in o]"
   ]
  },
  {
   "cell_type": "code",
   "execution_count": 18,
   "metadata": {},
   "outputs": [
    {
     "data": {
      "text/plain": [
       "'ofuled hitthe bey a--wise att t halalomangine wist hancoto figomyorose moumense n qur fertounchoml iindalo allollandsotoowwiory ome ntor shin:\\n\\nig t this an thes, h \\nfi s ind be the, mvithes per,\\nmair'"
      ]
     },
     "execution_count": 18,
     "metadata": {},
     "output_type": "execute_result"
    }
   ],
   "source": [
    "\"\".join(o)"
   ]
  },
  {
   "cell_type": "code",
   "execution_count": null,
   "metadata": {},
   "outputs": [],
   "source": []
  },
  {
   "cell_type": "code",
   "execution_count": null,
   "metadata": {},
   "outputs": [],
   "source": []
  }
 ],
 "metadata": {
  "kernelspec": {
   "display_name": "Python [conda env:transformers_simple]",
   "language": "python",
   "name": "conda-env-transformers_simple-py"
  },
  "language_info": {
   "codemirror_mode": {
    "name": "ipython",
    "version": 3
   },
   "file_extension": ".py",
   "mimetype": "text/x-python",
   "name": "python",
   "nbconvert_exporter": "python",
   "pygments_lexer": "ipython3",
   "version": "3.10.12"
  }
 },
 "nbformat": 4,
 "nbformat_minor": 4
}
