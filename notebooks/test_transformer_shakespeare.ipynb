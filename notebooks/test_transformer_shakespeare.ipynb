{
 "cells": [
  {
   "cell_type": "code",
   "execution_count": 20,
   "metadata": {},
   "outputs": [],
   "source": [
    "import sys\n",
    "import os\n",
    "sys.path.append(os.path.abspath('..'))\n",
    "\n",
    "import matplotlib.pyplot as plt\n",
    "import torch\n",
    "from torch.utils.data import TensorDataset, DataLoader\n",
    "torch.set_default_device('cpu')\n",
    "\n",
    "import numpy as np\n",
    "\n",
    "from transformers_simple.transformer import GPT\n",
    "from transformers_simple.train import Trainer\n",
    "from transformers_simple.dataset import CharDataset\n",
    "from transformers_simple.char_util import generate_sample"
   ]
  },
  {
   "cell_type": "code",
   "execution_count": 21,
   "metadata": {},
   "outputs": [],
   "source": [
    "block_size  = 64\n",
    "embed_size  = 128\n",
    "hidden_size = 512\n",
    "attn_hidden_size = 128\n",
    "num_heads   = 4\n",
    "vocab_size  = 39\n",
    "output_size = vocab_size\n",
    "num_transformer_blocks = 4\n",
    "\n",
    "log_interval = 100\n",
    "epochs = 1\n",
    "learning_rate = 1.0e-3\n",
    "device = torch.device('cpu')"
   ]
  },
  {
   "cell_type": "code",
   "execution_count": 22,
   "metadata": {},
   "outputs": [],
   "source": [
    "dataset = CharDataset(filename=\"../datasets/shakespeare.txt\", block_size=block_size)\n",
    "\n",
    "dataset_train, dataset_val = dataset.train_test_split(train_fraction=0.9)"
   ]
  },
  {
   "cell_type": "code",
   "execution_count": 23,
   "metadata": {},
   "outputs": [
    {
     "data": {
      "text/plain": [
       "39"
      ]
     },
     "execution_count": 23,
     "metadata": {},
     "output_type": "execute_result"
    }
   ],
   "source": [
    "dataset.vocab_size"
   ]
  },
  {
   "cell_type": "code",
   "execution_count": 24,
   "metadata": {},
   "outputs": [
    {
     "data": {
      "text/plain": [
       "1115394"
      ]
     },
     "execution_count": 24,
     "metadata": {},
     "output_type": "execute_result"
    }
   ],
   "source": [
    "dataset.length"
   ]
  },
  {
   "cell_type": "code",
   "execution_count": 25,
   "metadata": {},
   "outputs": [],
   "source": [
    "net = GPT(vocab_size=vocab_size, \n",
    "          block_size=block_size,\n",
    "          embed_size=embed_size,\n",
    "          hidden_size=hidden_size,\n",
    "          attn_hidden_size=attn_hidden_size,\n",
    "          output_size=output_size,\n",
    "          num_transformer_blocks=num_transformer_blocks,\n",
    "          num_heads=num_heads,\n",
    "         attn_dropout=0.0,\n",
    "          attn_block_dropout=0.0,\n",
    "         attn_residual_dropout=0.0,\n",
    "         embed_dropout=0.0)"
   ]
  },
  {
   "cell_type": "code",
   "execution_count": 26,
   "metadata": {},
   "outputs": [],
   "source": [
    "x = dataset[0][0].view(1,-1)"
   ]
  },
  {
   "cell_type": "code",
   "execution_count": 27,
   "metadata": {},
   "outputs": [
    {
     "data": {
      "text/plain": [
       "tensor([[18, 21, 30, 31, 32,  1, 15, 21, 32, 21, 38, 17, 26, 10,  0, 14, 17, 18,\n",
       "         27, 30, 17,  1, 35, 17,  1, 28, 30, 27, 15, 17, 17, 16,  1, 13, 26, 37,\n",
       "          1, 18, 33, 30, 32, 20, 17, 30,  6,  1, 20, 17, 13, 30,  1, 25, 17,  1,\n",
       "         31, 28, 17, 13, 23,  8,  0,  0, 13, 24]])"
      ]
     },
     "execution_count": 27,
     "metadata": {},
     "output_type": "execute_result"
    }
   ],
   "source": [
    "x"
   ]
  },
  {
   "cell_type": "code",
   "execution_count": 28,
   "metadata": {},
   "outputs": [],
   "source": [
    "loss = torch.nn.CrossEntropyLoss()\n",
    "\n",
    "def loss_fn(o,y):\n",
    "    #return loss(o.view(-1,vocab_size),y.view(-1))\n",
    "\n",
    "    return loss(o[:,-1],y[:,-1])"
   ]
  },
  {
   "cell_type": "code",
   "execution_count": 29,
   "metadata": {},
   "outputs": [],
   "source": [
    "trainer = Trainer(model=net, \n",
    "                  dataset=dataset_train, \n",
    "                  loss_fn=loss_fn, \n",
    "                  batch_size=12, \n",
    "                  learning_rate=learning_rate,\n",
    "                  epochs=epochs, \n",
    "                  log_interval=log_interval, \n",
    "                  device=device,\n",
    "                 max_iters=20e3,\n",
    "                 val_dataset=dataset_val,\n",
    "                 val_interval=400,\n",
    "                 max_val_iters=100,\n",
    "                 warmup_iters=100,\n",
    "                 lr_decay_iters=4000,\n",
    "                 min_lr=5e-4)"
   ]
  },
  {
   "cell_type": "code",
   "execution_count": 30,
   "metadata": {
    "scrolled": true
   },
   "outputs": [
    {
     "name": "stdout",
     "output_type": "stream",
     "text": [
      "Train Epoch: 0 [0/1003790 (0%)]\tLoss: 3.931147\n"
     ]
    },
    {
     "name": "stderr",
     "output_type": "stream",
     "text": [
      "100it [00:01, 60.03it/s]\n"
     ]
    },
    {
     "name": "stdout",
     "output_type": "stream",
     "text": [
      "Train Epoch: 0 [1200/1003790 (0%)]\tLoss: 2.784386\n",
      "Train Epoch: 0 [2400/1003790 (0%)]\tLoss: 2.783554\n",
      "Train Epoch: 0 [3600/1003790 (0%)]\tLoss: 2.442988\n",
      "Train Epoch: 0 [4800/1003790 (0%)]\tLoss: 2.475434\n"
     ]
    },
    {
     "name": "stderr",
     "output_type": "stream",
     "text": [
      "100it [00:01, 60.03it/s]\n"
     ]
    },
    {
     "name": "stdout",
     "output_type": "stream",
     "text": [
      "Train Epoch: 0 [6000/1003790 (1%)]\tLoss: 3.211884\n",
      "Train Epoch: 0 [7200/1003790 (1%)]\tLoss: 2.607177\n",
      "Train Epoch: 0 [8400/1003790 (1%)]\tLoss: 2.461428\n",
      "Train Epoch: 0 [9600/1003790 (1%)]\tLoss: 2.579180\n"
     ]
    },
    {
     "name": "stderr",
     "output_type": "stream",
     "text": [
      "100it [00:01, 57.68it/s]\n"
     ]
    },
    {
     "name": "stdout",
     "output_type": "stream",
     "text": [
      "Train Epoch: 0 [10800/1003790 (1%)]\tLoss: 2.818612\n",
      "Train Epoch: 0 [12000/1003790 (1%)]\tLoss: 3.358787\n",
      "Train Epoch: 0 [13200/1003790 (1%)]\tLoss: 2.287187\n",
      "Train Epoch: 0 [14400/1003790 (1%)]\tLoss: 2.757077\n"
     ]
    },
    {
     "name": "stderr",
     "output_type": "stream",
     "text": [
      "100it [00:01, 59.02it/s]\n"
     ]
    },
    {
     "name": "stdout",
     "output_type": "stream",
     "text": [
      "Train Epoch: 0 [15600/1003790 (2%)]\tLoss: 2.541066\n",
      "Train Epoch: 0 [16800/1003790 (2%)]\tLoss: 2.604807\n",
      "Train Epoch: 0 [18000/1003790 (2%)]\tLoss: 2.034256\n",
      "Train Epoch: 0 [19200/1003790 (2%)]\tLoss: 2.353429\n"
     ]
    },
    {
     "name": "stderr",
     "output_type": "stream",
     "text": [
      "100it [00:01, 58.26it/s]\n"
     ]
    },
    {
     "name": "stdout",
     "output_type": "stream",
     "text": [
      "Train Epoch: 0 [20400/1003790 (2%)]\tLoss: 1.978457\n",
      "Train Epoch: 0 [21600/1003790 (2%)]\tLoss: 2.197606\n",
      "Train Epoch: 0 [22800/1003790 (2%)]\tLoss: 2.629872\n",
      "Train Epoch: 0 [24000/1003790 (2%)]\tLoss: 2.635404\n"
     ]
    },
    {
     "name": "stderr",
     "output_type": "stream",
     "text": [
      "100it [00:01, 58.96it/s]\n"
     ]
    },
    {
     "name": "stdout",
     "output_type": "stream",
     "text": [
      "Train Epoch: 0 [25200/1003790 (3%)]\tLoss: 2.297335\n",
      "Train Epoch: 0 [26400/1003790 (3%)]\tLoss: 1.958848\n",
      "Train Epoch: 0 [27600/1003790 (3%)]\tLoss: 2.178771\n",
      "Train Epoch: 0 [28800/1003790 (3%)]\tLoss: 2.708079\n"
     ]
    },
    {
     "name": "stderr",
     "output_type": "stream",
     "text": [
      "100it [00:01, 57.84it/s]\n"
     ]
    },
    {
     "name": "stdout",
     "output_type": "stream",
     "text": [
      "Train Epoch: 0 [30000/1003790 (3%)]\tLoss: 2.091126\n",
      "Train Epoch: 0 [31200/1003790 (3%)]\tLoss: 3.010451\n",
      "Train Epoch: 0 [32400/1003790 (3%)]\tLoss: 2.333282\n",
      "Train Epoch: 0 [33600/1003790 (3%)]\tLoss: 2.601863\n"
     ]
    },
    {
     "name": "stderr",
     "output_type": "stream",
     "text": [
      "100it [00:01, 56.10it/s]\n"
     ]
    },
    {
     "name": "stdout",
     "output_type": "stream",
     "text": [
      "Train Epoch: 0 [34800/1003790 (3%)]\tLoss: 1.901044\n",
      "Train Epoch: 0 [36000/1003790 (4%)]\tLoss: 3.000514\n",
      "Train Epoch: 0 [37200/1003790 (4%)]\tLoss: 2.429452\n",
      "Train Epoch: 0 [38400/1003790 (4%)]\tLoss: 2.166781\n"
     ]
    },
    {
     "name": "stderr",
     "output_type": "stream",
     "text": [
      "100it [00:01, 54.39it/s]\n"
     ]
    },
    {
     "name": "stdout",
     "output_type": "stream",
     "text": [
      "Train Epoch: 0 [39600/1003790 (4%)]\tLoss: 2.236042\n",
      "Train Epoch: 0 [40800/1003790 (4%)]\tLoss: 2.960463\n",
      "Train Epoch: 0 [42000/1003790 (4%)]\tLoss: 3.361458\n",
      "Train Epoch: 0 [43200/1003790 (4%)]\tLoss: 2.373480\n"
     ]
    },
    {
     "name": "stderr",
     "output_type": "stream",
     "text": [
      "100it [00:01, 56.33it/s]\n"
     ]
    },
    {
     "name": "stdout",
     "output_type": "stream",
     "text": [
      "Train Epoch: 0 [44400/1003790 (4%)]\tLoss: 2.542754\n",
      "Train Epoch: 0 [45600/1003790 (5%)]\tLoss: 1.290008\n",
      "Train Epoch: 0 [46800/1003790 (5%)]\tLoss: 2.496934\n",
      "Train Epoch: 0 [48000/1003790 (5%)]\tLoss: 1.711182\n"
     ]
    },
    {
     "name": "stderr",
     "output_type": "stream",
     "text": [
      "100it [00:01, 56.47it/s]\n"
     ]
    },
    {
     "name": "stdout",
     "output_type": "stream",
     "text": [
      "Train Epoch: 0 [49200/1003790 (5%)]\tLoss: 2.331131\n",
      "Train Epoch: 0 [50400/1003790 (5%)]\tLoss: 2.627188\n",
      "Train Epoch: 0 [51600/1003790 (5%)]\tLoss: 2.066271\n",
      "Train Epoch: 0 [52800/1003790 (5%)]\tLoss: 2.391864\n"
     ]
    },
    {
     "name": "stderr",
     "output_type": "stream",
     "text": [
      "100it [00:01, 57.34it/s]\n"
     ]
    },
    {
     "name": "stdout",
     "output_type": "stream",
     "text": [
      "Train Epoch: 0 [54000/1003790 (5%)]\tLoss: 2.380192\n",
      "Train Epoch: 0 [55200/1003790 (5%)]\tLoss: 2.583845\n",
      "Train Epoch: 0 [56400/1003790 (6%)]\tLoss: 2.471483\n",
      "Train Epoch: 0 [57600/1003790 (6%)]\tLoss: 2.362730\n"
     ]
    },
    {
     "name": "stderr",
     "output_type": "stream",
     "text": [
      "100it [00:01, 57.74it/s]\n"
     ]
    },
    {
     "name": "stdout",
     "output_type": "stream",
     "text": [
      "Train Epoch: 0 [58800/1003790 (6%)]\tLoss: 2.093094\n",
      "Train Epoch: 0 [60000/1003790 (6%)]\tLoss: 2.528731\n",
      "Train Epoch: 0 [61200/1003790 (6%)]\tLoss: 2.355661\n",
      "Train Epoch: 0 [62400/1003790 (6%)]\tLoss: 3.561280\n"
     ]
    },
    {
     "name": "stderr",
     "output_type": "stream",
     "text": [
      "100it [00:01, 56.12it/s]\n"
     ]
    },
    {
     "name": "stdout",
     "output_type": "stream",
     "text": [
      "Train Epoch: 0 [63600/1003790 (6%)]\tLoss: 3.782572\n",
      "Train Epoch: 0 [64800/1003790 (6%)]\tLoss: 1.542089\n",
      "Train Epoch: 0 [66000/1003790 (7%)]\tLoss: 1.573552\n",
      "Train Epoch: 0 [67200/1003790 (7%)]\tLoss: 3.147835\n"
     ]
    },
    {
     "name": "stderr",
     "output_type": "stream",
     "text": [
      "100it [00:01, 58.09it/s]\n"
     ]
    },
    {
     "name": "stdout",
     "output_type": "stream",
     "text": [
      "Train Epoch: 0 [68400/1003790 (7%)]\tLoss: 1.766370\n",
      "Train Epoch: 0 [69600/1003790 (7%)]\tLoss: 2.371480\n",
      "Train Epoch: 0 [70800/1003790 (7%)]\tLoss: 1.856690\n",
      "Train Epoch: 0 [72000/1003790 (7%)]\tLoss: 1.650585\n"
     ]
    },
    {
     "name": "stderr",
     "output_type": "stream",
     "text": [
      "100it [00:01, 57.01it/s]\n"
     ]
    },
    {
     "name": "stdout",
     "output_type": "stream",
     "text": [
      "Train Epoch: 0 [73200/1003790 (7%)]\tLoss: 2.483328\n",
      "Train Epoch: 0 [74400/1003790 (7%)]\tLoss: 2.226073\n",
      "Train Epoch: 0 [75600/1003790 (8%)]\tLoss: 1.841793\n",
      "Train Epoch: 0 [76800/1003790 (8%)]\tLoss: 2.090995\n"
     ]
    },
    {
     "name": "stderr",
     "output_type": "stream",
     "text": [
      "100it [00:01, 58.82it/s]\n"
     ]
    },
    {
     "name": "stdout",
     "output_type": "stream",
     "text": [
      "Train Epoch: 0 [78000/1003790 (8%)]\tLoss: 1.626987\n",
      "Train Epoch: 0 [79200/1003790 (8%)]\tLoss: 2.127433\n",
      "Train Epoch: 0 [80400/1003790 (8%)]\tLoss: 2.563217\n",
      "Train Epoch: 0 [81600/1003790 (8%)]\tLoss: 2.439982\n"
     ]
    },
    {
     "name": "stderr",
     "output_type": "stream",
     "text": [
      "100it [00:01, 56.87it/s]\n"
     ]
    },
    {
     "name": "stdout",
     "output_type": "stream",
     "text": [
      "Train Epoch: 0 [82800/1003790 (8%)]\tLoss: 2.102292\n",
      "Train Epoch: 0 [84000/1003790 (8%)]\tLoss: 1.596392\n",
      "Train Epoch: 0 [85200/1003790 (8%)]\tLoss: 1.956234\n",
      "Train Epoch: 0 [86400/1003790 (9%)]\tLoss: 2.193117\n"
     ]
    },
    {
     "name": "stderr",
     "output_type": "stream",
     "text": [
      "100it [00:01, 58.25it/s]\n"
     ]
    },
    {
     "name": "stdout",
     "output_type": "stream",
     "text": [
      "Train Epoch: 0 [87600/1003790 (9%)]\tLoss: 2.213787\n",
      "Train Epoch: 0 [88800/1003790 (9%)]\tLoss: 1.562588\n",
      "Train Epoch: 0 [90000/1003790 (9%)]\tLoss: 2.489858\n",
      "Train Epoch: 0 [91200/1003790 (9%)]\tLoss: 2.171894\n"
     ]
    },
    {
     "name": "stderr",
     "output_type": "stream",
     "text": [
      "100it [00:01, 58.40it/s]\n"
     ]
    },
    {
     "name": "stdout",
     "output_type": "stream",
     "text": [
      "Train Epoch: 0 [92400/1003790 (9%)]\tLoss: 1.502719\n",
      "Train Epoch: 0 [93600/1003790 (9%)]\tLoss: 1.991882\n",
      "Train Epoch: 0 [94800/1003790 (9%)]\tLoss: 2.357767\n",
      "Train Epoch: 0 [96000/1003790 (10%)]\tLoss: 2.386343\n"
     ]
    },
    {
     "name": "stderr",
     "output_type": "stream",
     "text": [
      "100it [00:01, 58.14it/s]\n"
     ]
    },
    {
     "name": "stdout",
     "output_type": "stream",
     "text": [
      "Train Epoch: 0 [97200/1003790 (10%)]\tLoss: 1.687073\n",
      "Train Epoch: 0 [98400/1003790 (10%)]\tLoss: 2.172868\n",
      "Train Epoch: 0 [99600/1003790 (10%)]\tLoss: 2.327226\n",
      "Train Epoch: 0 [100800/1003790 (10%)]\tLoss: 1.772896\n"
     ]
    },
    {
     "name": "stderr",
     "output_type": "stream",
     "text": [
      "100it [00:01, 59.12it/s]\n"
     ]
    },
    {
     "name": "stdout",
     "output_type": "stream",
     "text": [
      "Train Epoch: 0 [102000/1003790 (10%)]\tLoss: 1.655053\n",
      "Train Epoch: 0 [103200/1003790 (10%)]\tLoss: 2.181849\n",
      "Train Epoch: 0 [104400/1003790 (10%)]\tLoss: 2.928707\n",
      "Train Epoch: 0 [105600/1003790 (11%)]\tLoss: 2.192085\n"
     ]
    },
    {
     "name": "stderr",
     "output_type": "stream",
     "text": [
      "100it [00:01, 55.69it/s]\n"
     ]
    },
    {
     "name": "stdout",
     "output_type": "stream",
     "text": [
      "Train Epoch: 0 [106800/1003790 (11%)]\tLoss: 2.345242\n",
      "Train Epoch: 0 [108000/1003790 (11%)]\tLoss: 1.968544\n",
      "Train Epoch: 0 [109200/1003790 (11%)]\tLoss: 2.669532\n",
      "Train Epoch: 0 [110400/1003790 (11%)]\tLoss: 1.574526\n"
     ]
    },
    {
     "name": "stderr",
     "output_type": "stream",
     "text": [
      "100it [00:01, 58.77it/s]\n"
     ]
    },
    {
     "name": "stdout",
     "output_type": "stream",
     "text": [
      "Train Epoch: 0 [111600/1003790 (11%)]\tLoss: 2.220617\n",
      "Train Epoch: 0 [112800/1003790 (11%)]\tLoss: 1.885253\n",
      "Train Epoch: 0 [114000/1003790 (11%)]\tLoss: 1.861618\n",
      "Train Epoch: 0 [115200/1003790 (11%)]\tLoss: 1.965533\n"
     ]
    },
    {
     "name": "stderr",
     "output_type": "stream",
     "text": [
      "100it [00:01, 57.27it/s]\n"
     ]
    },
    {
     "name": "stdout",
     "output_type": "stream",
     "text": [
      "Train Epoch: 0 [116400/1003790 (12%)]\tLoss: 2.886449\n",
      "Train Epoch: 0 [117600/1003790 (12%)]\tLoss: 1.492636\n",
      "Train Epoch: 0 [118800/1003790 (12%)]\tLoss: 2.858033\n",
      "Train Epoch: 0 [120000/1003790 (12%)]\tLoss: 2.019562\n"
     ]
    },
    {
     "name": "stderr",
     "output_type": "stream",
     "text": [
      "100it [00:01, 57.51it/s]\n"
     ]
    },
    {
     "name": "stdout",
     "output_type": "stream",
     "text": [
      "Train Epoch: 0 [121200/1003790 (12%)]\tLoss: 2.281722\n",
      "Train Epoch: 0 [122400/1003790 (12%)]\tLoss: 2.048084\n",
      "Train Epoch: 0 [123600/1003790 (12%)]\tLoss: 2.385313\n",
      "Train Epoch: 0 [124800/1003790 (12%)]\tLoss: 2.203408\n"
     ]
    },
    {
     "name": "stderr",
     "output_type": "stream",
     "text": [
      "100it [00:01, 57.80it/s]\n"
     ]
    },
    {
     "name": "stdout",
     "output_type": "stream",
     "text": [
      "Train Epoch: 0 [126000/1003790 (13%)]\tLoss: 1.634296\n",
      "Train Epoch: 0 [127200/1003790 (13%)]\tLoss: 2.122904\n",
      "Train Epoch: 0 [128400/1003790 (13%)]\tLoss: 1.485457\n",
      "Train Epoch: 0 [129600/1003790 (13%)]\tLoss: 1.836976\n"
     ]
    },
    {
     "name": "stderr",
     "output_type": "stream",
     "text": [
      "100it [00:01, 57.10it/s]\n"
     ]
    },
    {
     "name": "stdout",
     "output_type": "stream",
     "text": [
      "Train Epoch: 0 [130800/1003790 (13%)]\tLoss: 1.537055\n",
      "Train Epoch: 0 [132000/1003790 (13%)]\tLoss: 2.090468\n",
      "Train Epoch: 0 [133200/1003790 (13%)]\tLoss: 2.409370\n",
      "Train Epoch: 0 [134400/1003790 (13%)]\tLoss: 2.150493\n"
     ]
    },
    {
     "name": "stderr",
     "output_type": "stream",
     "text": [
      "100it [00:01, 56.93it/s]\n"
     ]
    },
    {
     "name": "stdout",
     "output_type": "stream",
     "text": [
      "Train Epoch: 0 [135600/1003790 (14%)]\tLoss: 1.966526\n",
      "Train Epoch: 0 [136800/1003790 (14%)]\tLoss: 1.860052\n",
      "Train Epoch: 0 [138000/1003790 (14%)]\tLoss: 2.259533\n",
      "Train Epoch: 0 [139200/1003790 (14%)]\tLoss: 2.115521\n"
     ]
    },
    {
     "name": "stderr",
     "output_type": "stream",
     "text": [
      "100it [00:01, 56.86it/s]\n"
     ]
    },
    {
     "name": "stdout",
     "output_type": "stream",
     "text": [
      "Train Epoch: 0 [140400/1003790 (14%)]\tLoss: 1.617299\n",
      "Train Epoch: 0 [141600/1003790 (14%)]\tLoss: 2.233370\n",
      "Train Epoch: 0 [142800/1003790 (14%)]\tLoss: 2.037000\n",
      "Train Epoch: 0 [144000/1003790 (14%)]\tLoss: 1.332570\n"
     ]
    },
    {
     "name": "stderr",
     "output_type": "stream",
     "text": [
      "100it [00:01, 56.04it/s]\n"
     ]
    },
    {
     "name": "stdout",
     "output_type": "stream",
     "text": [
      "Train Epoch: 0 [145200/1003790 (14%)]\tLoss: 2.291271\n",
      "Train Epoch: 0 [146400/1003790 (15%)]\tLoss: 2.295530\n",
      "Train Epoch: 0 [147600/1003790 (15%)]\tLoss: 2.597036\n",
      "Train Epoch: 0 [148800/1003790 (15%)]\tLoss: 1.821818\n"
     ]
    },
    {
     "name": "stderr",
     "output_type": "stream",
     "text": [
      "100it [00:01, 57.91it/s]\n"
     ]
    },
    {
     "name": "stdout",
     "output_type": "stream",
     "text": [
      "Train Epoch: 0 [150000/1003790 (15%)]\tLoss: 2.212482\n",
      "Train Epoch: 0 [151200/1003790 (15%)]\tLoss: 1.968192\n",
      "Train Epoch: 0 [152400/1003790 (15%)]\tLoss: 1.546118\n",
      "Train Epoch: 0 [153600/1003790 (15%)]\tLoss: 1.529695\n"
     ]
    },
    {
     "name": "stderr",
     "output_type": "stream",
     "text": [
      "100it [00:01, 57.68it/s]\n"
     ]
    },
    {
     "name": "stdout",
     "output_type": "stream",
     "text": [
      "Train Epoch: 0 [154800/1003790 (15%)]\tLoss: 2.490765\n",
      "Train Epoch: 0 [156000/1003790 (16%)]\tLoss: 1.828544\n",
      "Train Epoch: 0 [157200/1003790 (16%)]\tLoss: 1.677739\n",
      "Train Epoch: 0 [158400/1003790 (16%)]\tLoss: 2.293457\n"
     ]
    },
    {
     "name": "stderr",
     "output_type": "stream",
     "text": [
      "100it [00:01, 52.52it/s]\n"
     ]
    },
    {
     "name": "stdout",
     "output_type": "stream",
     "text": [
      "Train Epoch: 0 [159600/1003790 (16%)]\tLoss: 2.078845\n",
      "Train Epoch: 0 [160800/1003790 (16%)]\tLoss: 1.794326\n",
      "Train Epoch: 0 [162000/1003790 (16%)]\tLoss: 1.549130\n",
      "Train Epoch: 0 [163200/1003790 (16%)]\tLoss: 3.298359\n"
     ]
    },
    {
     "name": "stderr",
     "output_type": "stream",
     "text": [
      "100it [00:01, 57.60it/s]\n"
     ]
    },
    {
     "name": "stdout",
     "output_type": "stream",
     "text": [
      "Train Epoch: 0 [164400/1003790 (16%)]\tLoss: 2.490183\n",
      "Train Epoch: 0 [165600/1003790 (16%)]\tLoss: 2.258790\n",
      "Train Epoch: 0 [166800/1003790 (17%)]\tLoss: 1.836246\n",
      "Train Epoch: 0 [168000/1003790 (17%)]\tLoss: 2.228126\n"
     ]
    },
    {
     "name": "stderr",
     "output_type": "stream",
     "text": [
      "100it [00:01, 56.81it/s]\n"
     ]
    },
    {
     "name": "stdout",
     "output_type": "stream",
     "text": [
      "Train Epoch: 0 [169200/1003790 (17%)]\tLoss: 1.885286\n",
      "Train Epoch: 0 [170400/1003790 (17%)]\tLoss: 2.597368\n",
      "Train Epoch: 0 [171600/1003790 (17%)]\tLoss: 2.414746\n",
      "Train Epoch: 0 [172800/1003790 (17%)]\tLoss: 2.429929\n"
     ]
    },
    {
     "name": "stderr",
     "output_type": "stream",
     "text": [
      "100it [00:01, 56.96it/s]\n"
     ]
    },
    {
     "name": "stdout",
     "output_type": "stream",
     "text": [
      "Train Epoch: 0 [174000/1003790 (17%)]\tLoss: 1.205903\n",
      "Train Epoch: 0 [175200/1003790 (17%)]\tLoss: 1.500122\n",
      "Train Epoch: 0 [176400/1003790 (18%)]\tLoss: 2.545255\n",
      "Train Epoch: 0 [177600/1003790 (18%)]\tLoss: 1.384259\n"
     ]
    },
    {
     "name": "stderr",
     "output_type": "stream",
     "text": [
      "100it [00:01, 54.56it/s]\n"
     ]
    },
    {
     "name": "stdout",
     "output_type": "stream",
     "text": [
      "Train Epoch: 0 [178800/1003790 (18%)]\tLoss: 2.661186\n",
      "Train Epoch: 0 [180000/1003790 (18%)]\tLoss: 1.176564\n",
      "Train Epoch: 0 [181200/1003790 (18%)]\tLoss: 2.586034\n",
      "Train Epoch: 0 [182400/1003790 (18%)]\tLoss: 2.763888\n"
     ]
    },
    {
     "name": "stderr",
     "output_type": "stream",
     "text": [
      "100it [00:01, 55.84it/s]\n"
     ]
    },
    {
     "name": "stdout",
     "output_type": "stream",
     "text": [
      "Train Epoch: 0 [183600/1003790 (18%)]\tLoss: 1.323988\n",
      "Train Epoch: 0 [184800/1003790 (18%)]\tLoss: 2.005145\n",
      "Train Epoch: 0 [186000/1003790 (19%)]\tLoss: 1.820800\n",
      "Train Epoch: 0 [187200/1003790 (19%)]\tLoss: 1.562309\n"
     ]
    },
    {
     "name": "stderr",
     "output_type": "stream",
     "text": [
      "100it [00:01, 56.07it/s]\n"
     ]
    },
    {
     "name": "stdout",
     "output_type": "stream",
     "text": [
      "Train Epoch: 0 [188400/1003790 (19%)]\tLoss: 1.500528\n",
      "Train Epoch: 0 [189600/1003790 (19%)]\tLoss: 1.639777\n",
      "Train Epoch: 0 [190800/1003790 (19%)]\tLoss: 1.857115\n",
      "Train Epoch: 0 [192000/1003790 (19%)]\tLoss: 1.618366\n"
     ]
    },
    {
     "name": "stderr",
     "output_type": "stream",
     "text": [
      "100it [00:01, 56.27it/s]\n"
     ]
    },
    {
     "name": "stdout",
     "output_type": "stream",
     "text": [
      "Train Epoch: 0 [193200/1003790 (19%)]\tLoss: 1.619090\n",
      "Train Epoch: 0 [194400/1003790 (19%)]\tLoss: 2.297018\n",
      "Train Epoch: 0 [195600/1003790 (19%)]\tLoss: 1.697300\n",
      "Train Epoch: 0 [196800/1003790 (20%)]\tLoss: 1.444588\n"
     ]
    },
    {
     "name": "stderr",
     "output_type": "stream",
     "text": [
      "100it [00:01, 57.24it/s]\n"
     ]
    },
    {
     "name": "stdout",
     "output_type": "stream",
     "text": [
      "Train Epoch: 0 [198000/1003790 (20%)]\tLoss: 1.404579\n",
      "Train Epoch: 0 [199200/1003790 (20%)]\tLoss: 1.664108\n",
      "Train Epoch: 0 [200400/1003790 (20%)]\tLoss: 2.218629\n",
      "Train Epoch: 0 [201600/1003790 (20%)]\tLoss: 1.920340\n"
     ]
    },
    {
     "name": "stderr",
     "output_type": "stream",
     "text": [
      "100it [00:01, 59.03it/s]\n"
     ]
    },
    {
     "name": "stdout",
     "output_type": "stream",
     "text": [
      "Train Epoch: 0 [202800/1003790 (20%)]\tLoss: 2.340465\n",
      "Train Epoch: 0 [204000/1003790 (20%)]\tLoss: 1.901696\n",
      "Train Epoch: 0 [205200/1003790 (20%)]\tLoss: 1.547934\n",
      "Train Epoch: 0 [206400/1003790 (21%)]\tLoss: 1.987650\n"
     ]
    },
    {
     "name": "stderr",
     "output_type": "stream",
     "text": [
      "100it [00:01, 51.36it/s]\n"
     ]
    },
    {
     "name": "stdout",
     "output_type": "stream",
     "text": [
      "Train Epoch: 0 [207600/1003790 (21%)]\tLoss: 2.069442\n",
      "Train Epoch: 0 [208800/1003790 (21%)]\tLoss: 2.018117\n",
      "Train Epoch: 0 [210000/1003790 (21%)]\tLoss: 1.831993\n",
      "Train Epoch: 0 [211200/1003790 (21%)]\tLoss: 1.939371\n"
     ]
    },
    {
     "name": "stderr",
     "output_type": "stream",
     "text": [
      "100it [00:01, 57.82it/s]\n"
     ]
    },
    {
     "name": "stdout",
     "output_type": "stream",
     "text": [
      "Train Epoch: 0 [212400/1003790 (21%)]\tLoss: 1.846254\n",
      "Train Epoch: 0 [213600/1003790 (21%)]\tLoss: 1.444169\n",
      "Train Epoch: 0 [214800/1003790 (21%)]\tLoss: 2.305841\n",
      "Train Epoch: 0 [216000/1003790 (22%)]\tLoss: 1.505369\n"
     ]
    },
    {
     "name": "stderr",
     "output_type": "stream",
     "text": [
      "100it [00:01, 58.44it/s]\n"
     ]
    },
    {
     "name": "stdout",
     "output_type": "stream",
     "text": [
      "Train Epoch: 0 [217200/1003790 (22%)]\tLoss: 1.780397\n",
      "Train Epoch: 0 [218400/1003790 (22%)]\tLoss: 2.285678\n",
      "Train Epoch: 0 [219600/1003790 (22%)]\tLoss: 1.794917\n",
      "Train Epoch: 0 [220800/1003790 (22%)]\tLoss: 2.634101\n"
     ]
    },
    {
     "name": "stderr",
     "output_type": "stream",
     "text": [
      "100it [00:01, 57.28it/s]\n"
     ]
    },
    {
     "name": "stdout",
     "output_type": "stream",
     "text": [
      "Train Epoch: 0 [222000/1003790 (22%)]\tLoss: 2.155777\n",
      "Train Epoch: 0 [223200/1003790 (22%)]\tLoss: 2.782750\n",
      "Train Epoch: 0 [224400/1003790 (22%)]\tLoss: 1.429145\n",
      "Train Epoch: 0 [225600/1003790 (22%)]\tLoss: 2.188687\n"
     ]
    },
    {
     "name": "stderr",
     "output_type": "stream",
     "text": [
      "100it [00:01, 58.01it/s]\n"
     ]
    },
    {
     "name": "stdout",
     "output_type": "stream",
     "text": [
      "Train Epoch: 0 [226800/1003790 (23%)]\tLoss: 2.054889\n",
      "Train Epoch: 0 [228000/1003790 (23%)]\tLoss: 1.721204\n",
      "Train Epoch: 0 [229200/1003790 (23%)]\tLoss: 1.991564\n",
      "Train Epoch: 0 [230400/1003790 (23%)]\tLoss: 1.899053\n"
     ]
    },
    {
     "name": "stderr",
     "output_type": "stream",
     "text": [
      "100it [00:01, 58.67it/s]\n"
     ]
    },
    {
     "name": "stdout",
     "output_type": "stream",
     "text": [
      "Train Epoch: 0 [231600/1003790 (23%)]\tLoss: 1.352103\n",
      "Train Epoch: 0 [232800/1003790 (23%)]\tLoss: 1.594674\n",
      "Train Epoch: 0 [234000/1003790 (23%)]\tLoss: 1.742956\n",
      "Train Epoch: 0 [235200/1003790 (23%)]\tLoss: 2.238707\n"
     ]
    },
    {
     "name": "stderr",
     "output_type": "stream",
     "text": [
      "100it [00:01, 56.01it/s]\n"
     ]
    },
    {
     "name": "stdout",
     "output_type": "stream",
     "text": [
      "Train Epoch: 0 [236400/1003790 (24%)]\tLoss: 1.553856\n",
      "Train Epoch: 0 [237600/1003790 (24%)]\tLoss: 2.591289\n",
      "Train Epoch: 0 [238800/1003790 (24%)]\tLoss: 2.110701\n",
      "Train Epoch: 0 [240000/1003790 (24%)]\tLoss: 1.285173\n"
     ]
    },
    {
     "name": "stderr",
     "output_type": "stream",
     "text": [
      "100it [00:01, 57.89it/s]\n"
     ]
    }
   ],
   "source": [
    "trainer.run()"
   ]
  },
  {
   "cell_type": "code",
   "execution_count": 31,
   "metadata": {},
   "outputs": [],
   "source": [
    "x = dataset[1][0].view(1,-1)\n",
    "\n",
    "o = net(x)"
   ]
  },
  {
   "cell_type": "code",
   "execution_count": 32,
   "metadata": {},
   "outputs": [
    {
     "data": {
      "text/plain": [
       "torch.Size([1, 64, 39])"
      ]
     },
     "execution_count": 32,
     "metadata": {},
     "output_type": "execute_result"
    }
   ],
   "source": [
    "o.size()"
   ]
  },
  {
   "cell_type": "code",
   "execution_count": 33,
   "metadata": {},
   "outputs": [
    {
     "data": {
      "text/plain": [
       "tensor([9.7789e-03, 6.4115e-01, 1.3916e-03, 7.1765e-07, 9.7549e-07, 1.2703e-02,\n",
       "        1.2515e-02, 9.5906e-03, 2.3944e-03, 8.5195e-07, 2.3107e-03, 2.5162e-03,\n",
       "        9.6224e-04, 1.9954e-02, 2.8406e-04, 1.7409e-04, 7.4163e-03, 9.0907e-03,\n",
       "        3.9337e-03, 2.1645e-04, 4.6408e-04, 4.2743e-02, 2.4330e-04, 2.0130e-04,\n",
       "        4.9877e-03, 5.6879e-04, 3.3211e-04, 6.7345e-02, 4.2287e-05, 9.3352e-05,\n",
       "        1.9730e-04, 2.6699e-03, 9.2103e-04, 3.7737e-03, 2.7883e-03, 9.5065e-04,\n",
       "        1.0217e-04, 1.3512e-01, 6.8496e-05], grad_fn=<SoftmaxBackward0>)"
      ]
     },
     "execution_count": 33,
     "metadata": {},
     "output_type": "execute_result"
    }
   ],
   "source": [
    "torch.nn.functional.softmax(o[0,-1], dim=0)"
   ]
  },
  {
   "cell_type": "code",
   "execution_count": 34,
   "metadata": {},
   "outputs": [
    {
     "data": {
      "image/png": "[encoded data removed]",
      "text/plain": [
       "<Figure size 1200x300 with 1 Axes>"
      ]
     },
     "metadata": {},
     "output_type": "display_data"
    }
   ],
   "source": [
    "loss_history = trainer.loss_history\n",
    "\n",
    "plt.figure(figsize=(12,3))\n",
    "plt.plot(loss_history)\n",
    "plt.show()"
   ]
  },
  {
   "cell_type": "code",
   "execution_count": 35,
   "metadata": {},
   "outputs": [
    {
     "name": "stdout",
     "output_type": "stream",
     "text": [
      "[1, 13, 30, 17, 1, 13, 24, 24, 1, 30, 17, 31, 27, 24, 34, 17, 16, 1, 30, 13, 32, 20, 17, 30, 1, 32, 27, 1, 16, 21, 17, 1, 32, 20, 13, 26, 1, 32, 27, 1, 18, 13, 25, 21, 31, 20, 12, 0, 0, 13, 24, 24, 10, 0, 30, 17, 31, 27, 24, 34, 17, 16, 8, 1]\n"
     ]
    }
   ],
   "source": [
    "T = 200\n",
    "\n",
    "x = dataset.data[100:100+block_size]\n",
    "x = [dataset.char_to_index[c] for c in x]\n",
    "print(x)\n",
    "def net_out(x):\n",
    "    o = net(x)\n",
    "    return o[:,-1]\n",
    "\n",
    "o = generate_sample(x, net_out, length=T)"
   ]
  },
  {
   "cell_type": "code",
   "execution_count": 36,
   "metadata": {},
   "outputs": [],
   "source": [
    "o = [dataset.index_to_char[c] for c in o]"
   ]
  },
  {
   "cell_type": "code",
   "execution_count": 37,
   "metadata": {},
   "outputs": [
    {
     "data": {
      "text/plain": [
       "'having of messever bide enserd loves,\\nand hallver rugh plike men mume\\no lorden becyind ove cuty ford say, nime beace,\\nso me in seeemist witizen henror, but hous\\ngoke a mins,\\nmurser morcetwing fake of '"
      ]
     },
     "execution_count": 37,
     "metadata": {},
     "output_type": "execute_result"
    }
   ],
   "source": [
    "\"\".join(o)"
   ]
  },
  {
   "cell_type": "code",
   "execution_count": 38,
   "metadata": {},
   "outputs": [
    {
     "data": {
      "image/png": "[encoded data removed]",
      "text/plain": [
       "<Figure size 1200x300 with 1 Axes>"
      ]
     },
     "metadata": {},
     "output_type": "display_data"
    }
   ],
   "source": [
    "plt.figure(figsize=(12,3))\n",
    "plt.plot(trainer.val_loss_iters, trainer.val_loss_history)\n",
    "plt.show()"
   ]
  },
  {
   "cell_type": "code",
   "execution_count": null,
   "metadata": {},
   "outputs": [],
   "source": []
  },
  {
   "cell_type": "code",
   "execution_count": null,
   "metadata": {},
   "outputs": [],
   "source": []
  },
  {
   "cell_type": "code",
   "execution_count": null,
   "metadata": {},
   "outputs": [],
   "source": []
  }
 ],
 "metadata": {
  "kernelspec": {
   "display_name": "Python [conda env:transformers_simple]",
   "language": "python",
   "name": "conda-env-transformers_simple-py"
  },
  "language_info": {
   "codemirror_mode": {
    "name": "ipython",
    "version": 3
   },
   "file_extension": ".py",
   "mimetype": "text/x-python",
   "name": "python",
   "nbconvert_exporter": "python",
   "pygments_lexer": "ipython3",
   "version": "3.10.12"
  }
 },
 "nbformat": 4,
 "nbformat_minor": 4
}
