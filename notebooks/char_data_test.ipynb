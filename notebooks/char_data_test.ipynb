{
 "cells": [
  {
   "cell_type": "code",
   "execution_count": 1,
   "metadata": {},
   "outputs": [],
   "source": [
    "import sys\n",
    "import os\n",
    "sys.path.append(os.path.abspath('..'))\n",
    "\n",
    "from transformers_simple.dataset import CharDataset"
   ]
  },
  {
   "cell_type": "code",
   "execution_count": 2,
   "metadata": {},
   "outputs": [],
   "source": [
    "cd = CharDataset(\"../datasets/shakespeare.txt\", block_size=64)"
   ]
  },
  {
   "cell_type": "code",
   "execution_count": 3,
   "metadata": {},
   "outputs": [
    {
     "data": {
      "text/plain": [
       "(tensor([38, 17, 26, 10,  0, 14, 17, 18, 27, 30, 17,  1, 35, 17,  1, 28, 30, 27,\n",
       "         15, 17, 17, 16,  1, 13, 26, 37,  1, 18, 33, 30, 32, 20, 17, 30,  6,  1,\n",
       "         20, 17, 13, 30,  1, 25, 17,  1, 31, 28, 17, 13, 23,  8,  0,  0, 13, 24,\n",
       "         24, 10,  0, 31, 28, 17, 13, 23,  6,  1]),\n",
       " tensor([17, 26, 10,  0, 14, 17, 18, 27, 30, 17,  1, 35, 17,  1, 28, 30, 27, 15,\n",
       "         17, 17, 16,  1, 13, 26, 37,  1, 18, 33, 30, 32, 20, 17, 30,  6,  1, 20,\n",
       "         17, 13, 30,  1, 25, 17,  1, 31, 28, 17, 13, 23,  8,  0,  0, 13, 24, 24,\n",
       "         10,  0, 31, 28, 17, 13, 23,  6,  1, 31]))"
      ]
     },
     "execution_count": 3,
     "metadata": {},
     "output_type": "execute_result"
    }
   ],
   "source": [
    "cd[10]"
   ]
  },
  {
   "cell_type": "code",
   "execution_count": 4,
   "metadata": {},
   "outputs": [
    {
     "data": {
      "text/plain": [
       "'first citizen:\\nbefore we proceed any further, hear me speak.\\n\\nall:\\nspeak, speak.\\n\\nfirst citizen:\\nyou'"
      ]
     },
     "execution_count": 4,
     "metadata": {},
     "output_type": "execute_result"
    }
   ],
   "source": [
    "cd.data[:100]"
   ]
  },
  {
   "cell_type": "code",
   "execution_count": 5,
   "metadata": {},
   "outputs": [
    {
     "data": {
      "text/plain": [
       "1115394"
      ]
     },
     "execution_count": 5,
     "metadata": {},
     "output_type": "execute_result"
    }
   ],
   "source": [
    "cd.length"
   ]
  },
  {
   "cell_type": "code",
   "execution_count": 6,
   "metadata": {},
   "outputs": [
    {
     "data": {
      "text/plain": [
       "39"
      ]
     },
     "execution_count": 6,
     "metadata": {},
     "output_type": "execute_result"
    }
   ],
   "source": [
    "cd.vocab_size"
   ]
  },
  {
   "cell_type": "code",
   "execution_count": 7,
   "metadata": {},
   "outputs": [
    {
     "data": {
      "text/plain": [
       "{0: '\\n',\n",
       " 1: ' ',\n",
       " 2: '!',\n",
       " 3: '$',\n",
       " 4: '&',\n",
       " 5: \"'\",\n",
       " 6: ',',\n",
       " 7: '-',\n",
       " 8: '.',\n",
       " 9: '3',\n",
       " 10: ':',\n",
       " 11: ';',\n",
       " 12: '?',\n",
       " 13: 'a',\n",
       " 14: 'b',\n",
       " 15: 'c',\n",
       " 16: 'd',\n",
       " 17: 'e',\n",
       " 18: 'f',\n",
       " 19: 'g',\n",
       " 20: 'h',\n",
       " 21: 'i',\n",
       " 22: 'j',\n",
       " 23: 'k',\n",
       " 24: 'l',\n",
       " 25: 'm',\n",
       " 26: 'n',\n",
       " 27: 'o',\n",
       " 28: 'p',\n",
       " 29: 'q',\n",
       " 30: 'r',\n",
       " 31: 's',\n",
       " 32: 't',\n",
       " 33: 'u',\n",
       " 34: 'v',\n",
       " 35: 'w',\n",
       " 36: 'x',\n",
       " 37: 'y',\n",
       " 38: 'z'}"
      ]
     },
     "execution_count": 7,
     "metadata": {},
     "output_type": "execute_result"
    }
   ],
   "source": [
    "cd.index_to_char"
   ]
  },
  {
   "cell_type": "code",
   "execution_count": null,
   "metadata": {},
   "outputs": [],
   "source": []
  }
 ],
 "metadata": {
  "kernelspec": {
   "display_name": "Python [conda env:transformers_simple]",
   "language": "python",
   "name": "conda-env-transformers_simple-py"
  },
  "language_info": {
   "codemirror_mode": {
    "name": "ipython",
    "version": 3
   },
   "file_extension": ".py",
   "mimetype": "text/x-python",
   "name": "python",
   "nbconvert_exporter": "python",
   "pygments_lexer": "ipython3",
   "version": "3.10.12"
  }
 },
 "nbformat": 4,
 "nbformat_minor": 4
}
